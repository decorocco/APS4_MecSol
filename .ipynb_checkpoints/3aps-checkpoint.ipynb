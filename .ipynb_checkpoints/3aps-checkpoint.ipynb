{
 "cells": [
  {
   "cell_type": "markdown",
   "metadata": {},
   "source": [
    "# APS 3\n",
    "\n",
    "___"
   ]
  },
  {
   "cell_type": "markdown",
   "metadata": {},
   "source": [
    "####  <font style='font-family:Georgia' color='darkturquoise'> Arthur"
   ]
  },
  {
   "cell_type": "markdown",
   "metadata": {},
   "source": [
    "### Importando bibliotecas e valores"
   ]
  },
  {
   "cell_type": "code",
   "execution_count": 27,
   "metadata": {},
   "outputs": [],
   "source": [
    "from funcoesTermosol import *\n",
    "import numpy as np\n",
    "import math\n",
    "from time import perf_counter"
   ]
  },
  {
   "cell_type": "code",
   "execution_count": 28,
   "metadata": {},
   "outputs": [],
   "source": [
    "def matprint(mat, fmt=\"g\"):        # Credits to braingineer https://gist.github.com/braingineer/d801735dac07ff3ac4d746e1f218ab75\n",
    "    col_maxes = [max([len((\"{:\"+fmt+\"}\").format(x)) for x in col]) for col in mat.T]\n",
    "    for x in mat:\n",
    "        for i, y in enumerate(x):\n",
    "            print((\"{:\"+str(col_maxes[i])+fmt+\"}\").format(y), end=\"  \")\n",
    "        print(\"\")"
   ]
  },
  {
   "cell_type": "markdown",
   "metadata": {},
   "source": [
    "### Representação da estrutura"
   ]
  },
  {
   "cell_type": "code",
   "execution_count": 29,
   "metadata": {
    "scrolled": false
   },
   "outputs": [
    {
     "data": {
      "image/png": "[encoded data removed]",
      "text/plain": [
       "<Figure size 432x288 with 1 Axes>"
      ]
     },
     "metadata": {
      "needs_background": "light"
     },
     "output_type": "display_data"
    }
   ],
   "source": [
    "entrada = \"entradaFinal.xlsx\"\n",
    "\n",
    "[nn,N,nm,Inc,nc,F,nr,R] = importa(entrada)\n",
    "\n",
    "plota(N, Inc)\n",
    "# geraSaida()"
   ]
  },
  {
   "cell_type": "markdown",
   "metadata": {},
   "source": [
    "### Informações sobre a treliça\n",
    "\n",
    "* nn: número de nós\n",
    "* N: Matriz dos nós\n",
    "* nm: número de membros\n",
    "* Inc: Matriz de incidência. Colunas:\n",
    "    1. Nó 1\n",
    "    2. Nó 2\n",
    "    3. E\n",
    "    4. A\n",
    "* nc: número de cargas\n",
    "* F: forças (Vetor carregamento)\n",
    "* nr: número de restrições\n",
    "* R: Restrições (Vetor com os graus de liberdade)"
   ]
  },
  {
   "cell_type": "code",
   "execution_count": 30,
   "metadata": {},
   "outputs": [],
   "source": [
    "# Comprimento \n",
    "L = 4\n",
    "#numero de nodes\n",
    "n = 8"
   ]
  },
  {
   "cell_type": "markdown",
   "metadata": {},
   "source": [
    "### Gerando a matriz de conectividade transposta"
   ]
  },
  {
   "cell_type": "code",
   "execution_count": 31,
   "metadata": {},
   "outputs": [
    {
     "name": "stdout",
     "output_type": "stream",
     "text": [
      " 0   0   0   0   0   0   0   0   0   0  -1   0   0   0   0   0   0   0   0   0   0   0   0   0   0   0   0   0   0   0  \n",
      "-1   0   0   0   0   0   0   0   0   0   0   0   0   0   0   0   0   0   0  -1   0   0   0   0   0   0   0   0  -1   0  \n",
      " 1  -1   0   0   0   0   0   0   0   0   0   1  -1   0   0   0   0   1   0   0   1   0   0   0   0   0   0   0   0   0  \n",
      " 0   1  -1   0   0   0   0   0   0   0   0   0   0   0   0   0   0   0   0   0   0   1   0   0   0  -1  -1   0   0   0  \n",
      " 0   0   1  -1   0   0   0   0   0   0   0   0   0   1   0   0   0   0   0   0   0   0   1   0   0   0   0  -1   0   0  \n",
      " 0   0   0   1  -1   0   0   0   0   0   0   0   0   0   1  -1   0   0  -1   0   0   0   0   1   0   0   0   0   0   0  \n",
      " 0   0   0   0   1   0   0   0   0   0   0   0   0   0   0   0   0   0   0   0   0   0   0   0   1   0   0   0   0  -1  \n",
      " 0   0   0   0   0   0   0   0   0   0   0   0   0   0   0   0   1   0   0   0   0   0   0   0   0   0   0   0   0   0  \n",
      " 0   0   0   0   0  -1   0   0   0   0   1  -1   0   0   0   0   0   0   0   1   0   0   0   0   0   0   0   0   0   0  \n",
      " 0   0   0   0   0   1  -1   0   0   0   0   0   0   0   0   0   0   0   0   0  -1   0   0   0   0   0   1   0   1   0  \n",
      " 0   0   0   0   0   0   1  -1   0   0   0   0   1  -1   0   0   0   0   0   0   0  -1   0   0   0   0   0   0   0   0  \n",
      " 0   0   0   0   0   0   0   1  -1   0   0   0   0   0  -1   0   0   0   0   0   0   0  -1   0   0   1   0   0   0   0  \n",
      " 0   0   0   0   0   0   0   0   1  -1   0   0   0   0   0   0   0   0   0   0   0   0   0  -1   0   0   0   1   0   1  \n",
      " 0   0   0   0   0   0   0   0   0   1   0   0   0   0   0   1  -1   0   0   0   0   0   0   0  -1   0   0   0   0   0  \n",
      " 0   0   0   0   0   0   0   0   0   0   0   0   0   0   0   0   0  -1   0   0   0   0   0   0   0   0   0   0   0   0  \n",
      " 0   0   0   0   0   0   0   0   0   0   0   0   0   0   0   0   0   0   1   0   0   0   0   0   0   0   0   0   0   0  \n"
     ]
    }
   ],
   "source": [
    "C = []\n",
    "for i in range(nm):\n",
    "        C_i = nn*[0]\n",
    "\n",
    "        no_1 = int(Inc[i, 0])\n",
    "        no_2 = int(Inc[i, 1])\n",
    "\n",
    "        C_i[no_1-1] = -1\n",
    "        C_i[no_2-1] = 1\n",
    "        C.append(C_i) \n",
    "\n",
    "C_t = np.array(C).T\n",
    "matprint(C_t)"
   ]
  },
  {
   "cell_type": "markdown",
   "metadata": {},
   "source": [
    "### Matriz dos membros (M)"
   ]
  },
  {
   "cell_type": "code",
   "execution_count": 32,
   "metadata": {
    "scrolled": true
   },
   "outputs": [
    {
     "name": "stdout",
     "output_type": "stream",
     "text": [
      "[[ 0.08  0.08  0.08  0.08  0.08  0.08  0.08  0.08  0.08  0.08  0.05  0.08\n",
      "   0.08  0.08  0.08  0.08  0.05  0.08  0.08  0.    0.    0.    0.    0.\n",
      "   0.    0.08 -0.08  0.08  0.08 -0.08]\n",
      " [ 0.    0.    0.    0.    0.    0.    0.    0.    0.    0.    0.05 -0.05\n",
      "   0.05 -0.05 -0.05  0.05 -0.05  0.05 -0.05  0.05 -0.05 -0.05 -0.05 -0.05\n",
      "  -0.05  0.05  0.05  0.05  0.05  0.05]]\n"
     ]
    }
   ],
   "source": [
    "M = np.matmul(N, C_t)\n",
    "print(M)"
   ]
  },
  {
   "cell_type": "markdown",
   "metadata": {},
   "source": [
    "### Obtendo Se, Ke e Kg"
   ]
  },
  {
   "cell_type": "code",
   "execution_count": 33,
   "metadata": {},
   "outputs": [
    {
     "name": "stdout",
     "output_type": "stream",
     "text": [
      "[[ 2828427.12474619  2828427.12474619        0.         ...\n",
      "         0.                0.                0.        ]\n",
      " [ 2828427.12474619  2828427.12474619        0.         ...\n",
      "         0.                0.                0.        ]\n",
      " [       0.                0.         33048982.66608571 ...\n",
      "         0.                0.                0.        ]\n",
      " ...\n",
      " [       0.                0.                0.         ...\n",
      "   1191008.85393973        0.                0.        ]\n",
      " [       0.                0.                0.         ...\n",
      "         0.          3048982.66608571 -1905614.16630357]\n",
      " [       0.                0.                0.         ...\n",
      "         0.         -1905614.16630357  1191008.85393973]]\n"
     ]
    }
   ],
   "source": [
    "len_linhas_M = len(M)\n",
    "len_linhas_C = len(C_t)\n",
    "Kg = np.zeros((nn*2, nn*2))\n",
    "for i in range(0, nm):\n",
    "    E = Inc[i,2]\n",
    "    A = Inc[i,3]\n",
    "    \n",
    "    n1 = Inc[i,0]\n",
    "    n2 = Inc[i,1]\n",
    "    \n",
    "    x1 = N[0][int(Inc[:,0][i])-1]\n",
    "    y1 = N[1][int(Inc[:,0][i])-1]\n",
    "    x2 = N[0][int(Inc[:,1][i])-1]\n",
    "    y2 = N[1][int(Inc[:,1][i])-1]    \n",
    "    \n",
    "    L = math.sqrt(((x1-x2)**2+(y1-y2)**2))\n",
    "    \n",
    "    const = E*A/L\n",
    "    \n",
    "    M_aux = M[:,i]\n",
    "    M_aux.shape = [len_linhas_M, 1]\n",
    "    M_aux2 = np.transpose(M_aux)\n",
    "    Se = (const * np.matmul(M_aux, M_aux2)) / (np.linalg.norm(M[:,i])**2)\n",
    "\n",
    "    C_aux = C_t[:,i]\n",
    "    C_aux.shape = [len_linhas_C, 1]\n",
    "    C_aux2 = np.transpose(C_aux)\n",
    "    \n",
    "    multi_C_aux = np.matmul(C_aux, C_aux2)\n",
    "    Ke = np.kron(multi_C_aux, Se)\n",
    "    Kg += Ke\n",
    "# print(Se)\n",
    "print(Kg)"
   ]
  },
  {
   "cell_type": "markdown",
   "metadata": {},
   "source": [
    "### Deslocamento nodal"
   ]
  },
  {
   "cell_type": "markdown",
   "metadata": {},
   "source": [
    "Aplicando as condições de contorno para a matriz das forças:"
   ]
  },
  {
   "cell_type": "code",
   "execution_count": 34,
   "metadata": {
    "scrolled": true
   },
   "outputs": [
    {
     "data": {
      "text/plain": [
       "array([  0.,   0.,   0.,   0.,   0.,   0.,   0.,   0.,   0.,   0.,   0.,\n",
       "         0.,   0.,   0.,   0., -75.,   0., -75.,   0.,   0.,   0.,   0.])"
      ]
     },
     "execution_count": 34,
     "metadata": {},
     "output_type": "execute_result"
    }
   ],
   "source": [
    "F_c = np.delete(F, R.astype(int))\n",
    "F_c\n"
   ]
  },
  {
   "cell_type": "markdown",
   "metadata": {},
   "source": [
    "Aplicando as condições de contorno para a matriz da rigidez:"
   ]
  },
  {
   "cell_type": "code",
   "execution_count": 35,
   "metadata": {},
   "outputs": [
    {
     "name": "stdout",
     "output_type": "stream",
     "text": [
      "  3.3049e+07        -3e+07             0             0             0             0             0             0             0             0             0             0  -3.04898e+06  -1.90561e+06             0             0             0             0             0             0             0             0  \n",
      "      -3e+07   6.91469e+07   1.90561e+06        -3e+07             0             0             0             0             0             0  -3.04898e+06   1.90561e+06             0             0  -3.04898e+06  -1.90561e+06             0             0             0             0             0             0  \n",
      "           0   1.90561e+06    1.1573e+07             0             0             0             0             0             0             0   1.90561e+06  -1.19101e+06             0        -8e+06  -1.90561e+06  -1.19101e+06             0             0             0             0             0             0  \n",
      "           0        -3e+07             0    6.6098e+07             0        -3e+07             0             0             0             0             0             0  -3.04898e+06   1.90561e+06             0             0  -3.04898e+06  -1.90561e+06             0             0             0             0  \n",
      "           0             0             0             0    1.0382e+07             0             0             0             0             0             0             0   1.90561e+06  -1.19101e+06             0        -8e+06  -1.90561e+06  -1.19101e+06             0             0             0             0  \n",
      "           0             0             0        -3e+07             0    6.6098e+07  -6.98492e-10        -3e+07             0             0             0             0             0             0  -3.04898e+06   1.90561e+06             0             0  -3.04898e+06  -1.90561e+06             0             0  \n",
      "           0             0             0             0             0  -6.98492e-10    1.0382e+07             0             0             0             0             0             0             0   1.90561e+06  -1.19101e+06             0        -8e+06  -1.90561e+06  -1.19101e+06             0             0  \n",
      "           0             0             0             0             0        -3e+07             0   6.91469e+07  -1.90561e+06             0             0             0             0             0             0             0  -3.04898e+06   1.90561e+06             0             0  -3.04898e+06  -1.90561e+06  \n",
      "           0             0             0             0             0             0             0  -1.90561e+06    1.1573e+07             0             0             0             0             0             0             0   1.90561e+06  -1.19101e+06             0        -8e+06  -1.90561e+06  -1.19101e+06  \n",
      "           0             0             0             0             0             0             0             0             0   2.82843e+06             0             0             0             0             0             0             0             0             0             0  -2.82843e+06   2.82843e+06  \n",
      "           0  -3.04898e+06   1.90561e+06             0             0             0             0             0             0             0   3.58774e+07        922813        -3e+07             0             0             0             0             0             0             0             0             0  \n",
      "           0   1.90561e+06  -1.19101e+06             0             0             0             0             0             0             0        922813   1.20194e+07             0             0             0             0             0             0             0             0             0             0  \n",
      "-3.04898e+06             0             0  -3.04898e+06   1.90561e+06             0             0             0             0             0        -3e+07             0    6.6098e+07  -4.65661e-10        -3e+07             0             0             0             0             0             0             0  \n",
      "-1.90561e+06             0        -8e+06   1.90561e+06  -1.19101e+06             0             0             0             0             0             0             0  -4.65661e-10    1.0382e+07             0             0             0             0             0             0             0             0  \n",
      "           0  -3.04898e+06  -1.90561e+06             0             0  -3.04898e+06   1.90561e+06             0             0             0             0             0        -3e+07             0    6.6098e+07             0        -3e+07             0             0             0             0             0  \n",
      "           0  -1.90561e+06  -1.19101e+06             0        -8e+06   1.90561e+06  -1.19101e+06             0             0             0             0             0             0             0             0    1.0382e+07             0             0             0             0             0             0  \n",
      "           0             0             0  -3.04898e+06  -1.90561e+06             0             0  -3.04898e+06   1.90561e+06             0             0             0             0             0        -3e+07             0    4.1098e+07   6.98492e-10        -5e+06             0             0             0  \n",
      "           0             0             0  -1.90561e+06  -1.19101e+06             0        -8e+06   1.90561e+06  -1.19101e+06             0             0             0             0             0             0             0   6.98492e-10    1.0382e+07             0             0             0             0  \n",
      "           0             0             0             0             0  -3.04898e+06  -1.90561e+06             0             0             0             0             0             0             0             0             0        -5e+06             0    1.6098e+07             0        -5e+06             0  \n",
      "           0             0             0             0             0  -1.90561e+06  -1.19101e+06             0        -8e+06             0             0             0             0             0             0             0             0             0             0    1.0382e+07             0             0  \n",
      "           0             0             0             0             0             0             0  -3.04898e+06  -1.90561e+06  -2.82843e+06             0             0             0             0             0             0             0             0        -5e+06             0   1.08774e+07       -922813  \n",
      "           0             0             0             0             0             0             0  -1.90561e+06  -1.19101e+06   2.82843e+06             0             0             0             0             0             0             0             0             0             0       -922813   1.20194e+07  \n"
     ]
    }
   ],
   "source": [
    "Kg_c = np.delete(Kg, R.astype(int),0)\n",
    "Kg_c = np.delete(Kg_c, R.astype(int), 1)\n",
    "matprint(Kg_c)"
   ]
  },
  {
   "cell_type": "markdown",
   "metadata": {},
   "source": [
    "___\n",
    "**Funções de Jacobi e Gauss-Seidel utilizadas na aula 21:**"
   ]
  },
  {
   "cell_type": "code",
   "execution_count": 36,
   "metadata": {},
   "outputs": [],
   "source": [
    "# def jacobi(k,F,ite,tol):\n",
    "#     #inicializando X com \n",
    "#     x = np.zeros(k.shape[0])\n",
    "\n",
    "#     # Cria um vetor com os elementos da diagonal de k                       \n",
    "#     diagonal = np.diag(k)\n",
    "#     # Subtrai a diagonal de K\n",
    "#     k_d = k - np.diagflat(diagonal)\n",
    "#     # loop até chegar abaixo da tolerância ou passar do número máximo de iterações\n",
    "#     for i in range(ite):\n",
    "#         x2 = (F - np.matmul(k_d,x)) / diagonal\n",
    "#         error =  max(abs((x2 - x)/x2) )\n",
    "#         if error < tol:\n",
    "#             print(f\"Erro máximo: {error}\")\n",
    "#             print(f\"Convergiu na iteração: {i}\")\n",
    "#             return x2\n",
    "        \n",
    "#         x = x2\n",
    "#     return x\n",
    "def jacobi(K,F,ite,tol):\n",
    "    if type(K) != list:\n",
    "        U = np.zeros((K.shape[0],1))\n",
    "        n = K.shape[0]\n",
    "    else:\n",
    "        U = np.zeros((len(K),1))\n",
    "        n = len(K)\n",
    "    U_ = U.copy()\n",
    "    count = 0\n",
    "    while count < ite:\n",
    "        for i in range(n):\n",
    "            U_[i][0] = F[i]\n",
    "            for j in range(n):\n",
    "                if j != i:\n",
    "                    U_[i][0] -= K[i][j] * U[j][0]\n",
    "            U_[i][0] /= K[i][i]\n",
    "\n",
    "        if 0 not in U:     # Cálculo do erro\n",
    "            ERROR_list = []\n",
    "            for i,j in zip(U_,U):\n",
    "                ERROR_list.append(abs((i-j)/j))\n",
    "            ERRO = max(ERROR_list)\n",
    "            if ERRO < tol:\n",
    "                print(\"Iterações: {0}\".format(count))\n",
    "                return U;\n",
    "        U = U_.copy() \n",
    "        count += 1\n",
    "    print(\"Iterações: {0}\".format(count))\n",
    "    return U;"
   ]
  },
  {
   "cell_type": "code",
   "execution_count": 37,
   "metadata": {},
   "outputs": [],
   "source": [
    "# def gauss_seidel(A, b, ite, tol):\n",
    "#     x = np.zeros_like(b, dtype=np.double)\n",
    "    \n",
    "#     #Iterate\n",
    "#     for k in range(ite):\n",
    "        \n",
    "#         x_old  = x.copy()\n",
    "        \n",
    "#         #Loop over rows\n",
    "#         for i in range(A.shape[0]):\n",
    "#             x[i] = (b[i] - np.dot(A[i,:i], x[:i]) - np.dot(A[i,(i+1):], x_old[(i+1):])) / A[i ,i]\n",
    "            \n",
    "#         #Stop condition \n",
    "#         if np.linalg.norm(x - x_old, ord=np.inf) / np.linalg.norm(x, ord=np.inf) < tol:\n",
    "#             break\n",
    "            \n",
    "#     return x\n",
    "def gauss_seidel(K,F,ite,tol):\n",
    "    if type(K) != list:\n",
    "        U = np.zeros((K.shape[0],1))\n",
    "        n = K.shape[0]\n",
    "    else:\n",
    "        U = np.zeros((len(K),1))\n",
    "        n = len(K)\n",
    "    U_ = U.copy()\n",
    "    count = 0\n",
    "    while count < ite:\n",
    "        for i in range(n):\n",
    "            U_[i][0] = F[i]\n",
    "            for j in range(n):\n",
    "                if j != i:\n",
    "                    U_[i][0] -= K[i][j] * U_[j][0]\n",
    "            U_[i][0] /= K[i][i]\n",
    "\n",
    "        if 0 not in U:     # Cálculo do erro\n",
    "            ERROR_list = []\n",
    "            for i,j in zip(U_,U):\n",
    "                ERROR_list.append(abs((i-j)/j))\n",
    "            ERRO = max(ERROR_list)\n",
    "            if ERRO < tol:\n",
    "                print(\"Iterações: {0}\".format(count))\n",
    "                return U;\n",
    "        U = U_.copy() \n",
    "        count += 1\n",
    "    print(\"Iterações: {0}\".format(count))\n",
    "    return U;"
   ]
  },
  {
   "cell_type": "markdown",
   "metadata": {},
   "source": [
    "___\n",
    "Utilizando Jacobi, Gauss-Seidel e a forma geral para cálculo da matriz **U**"
   ]
  },
  {
   "cell_type": "code",
   "execution_count": 38,
   "metadata": {},
   "outputs": [
    {
     "name": "stdout",
     "output_type": "stream",
     "text": [
      "Iterações: 309\n",
      "Método Jacobi:\n",
      "Iterações: 309\n",
      "-7.71241e-06  \n",
      "-6.88928e-06  \n",
      "-3.10499e-05  \n",
      "-5.84363e-06  \n",
      "-7.83854e-05  \n",
      "-2.71923e-06  \n",
      "-8.57949e-05  \n",
      "-1.00506e-06  \n",
      " -4.1771e-05  \n",
      " -2.0068e-05  \n",
      " 5.28649e-06  \n",
      "-2.39037e-06  \n",
      " 4.97654e-06  \n",
      "-3.32611e-05  \n",
      " 2.07677e-06  \n",
      "-8.17945e-05  \n",
      "-2.90175e-06  \n",
      "-8.80066e-05  \n",
      "-1.81811e-05  \n",
      "-4.25285e-05  \n",
      "-2.12777e-05  \n",
      "-1.20966e-06  \n",
      "Tempo: 0.12296749699999054\n"
     ]
    }
   ],
   "source": [
    "u_jacobi = jacobi(Kg_c, F_c, 1000, 1e-5)\n",
    "print(\"Método Jacobi:\")\n",
    "timer_start = perf_counter()\n",
    "matprint(jacobi(Kg_c, F_c,1000, 1e-5))\n",
    "print(\"Tempo: {0}\".format(perf_counter() - timer_start))"
   ]
  },
  {
   "cell_type": "code",
   "execution_count": 39,
   "metadata": {},
   "outputs": [
    {
     "name": "stdout",
     "output_type": "stream",
     "text": [
      "Iterações: 166\n",
      "Método Gauss-Seidel:\n",
      "Iterações: 166\n",
      "-7.71276e-06  \n",
      "-6.88962e-06  \n",
      "-3.10507e-05  \n",
      "-5.84395e-06  \n",
      "-7.83873e-05  \n",
      "-2.71947e-06  \n",
      "-8.57972e-05  \n",
      "-1.00519e-06  \n",
      "-4.17724e-05  \n",
      "-2.00688e-05  \n",
      " 5.28651e-06  \n",
      "-2.39039e-06  \n",
      " 4.97653e-06  \n",
      " -3.3262e-05  \n",
      "  2.0767e-06  \n",
      "-8.17964e-05  \n",
      "-2.90196e-06  \n",
      "-8.80089e-05  \n",
      "-1.81818e-05  \n",
      "-4.25299e-05  \n",
      "-2.12785e-05  \n",
      "-1.20969e-06  \n",
      "Tempo: 0.06557065499998771\n"
     ]
    }
   ],
   "source": [
    "u_gauss = gauss_seidel(Kg_c, F_c, 1000, 1e-5)\n",
    "print(\"Método Gauss-Seidel:\")\n",
    "timer_start = perf_counter()\n",
    "matprint(gauss_seidel(Kg_c, F_c, 1000, 1e-5))\n",
    "print(\"Tempo: {0}\".format(perf_counter() - timer_start))"
   ]
  },
  {
   "cell_type": "markdown",
   "metadata": {},
   "source": [
    "**Deslocamentos nodais**"
   ]
  },
  {
   "cell_type": "code",
   "execution_count": 40,
   "metadata": {},
   "outputs": [
    {
     "data": {
      "text/plain": [
       "array([-7.71328822e-06, -6.89010487e-06, -3.10514004e-05, -5.84438008e-06,\n",
       "       -7.83892162e-05, -2.71977324e-06, -8.57995284e-05, -1.00535723e-06,\n",
       "       -4.17737536e-05, -2.00696708e-05,  5.28636528e-06, -2.39037321e-06,\n",
       "        4.97636826e-06, -3.32627897e-05,  2.07647845e-06, -8.17982869e-05,\n",
       "       -2.90228347e-06, -8.80110904e-05, -1.81825248e-05, -4.25313149e-05,\n",
       "       -2.12793798e-05, -1.20970896e-06])"
      ]
     },
     "execution_count": 40,
     "metadata": {},
     "output_type": "execute_result"
    }
   ],
   "source": [
    "U_ar = np.linalg.solve(Kg_c, F_c)\n",
    "U_ar"
   ]
  },
  {
   "cell_type": "markdown",
   "metadata": {},
   "source": [
    "**Ajustando o tamanho das matrizes U**"
   ]
  },
  {
   "cell_type": "code",
   "execution_count": 41,
   "metadata": {},
   "outputs": [
    {
     "data": {
      "text/plain": [
       "array([[ 0.00000000e+00],\n",
       "       [ 0.00000000e+00],\n",
       "       [-7.71241495e-06],\n",
       "       [ 0.00000000e+00],\n",
       "       [-6.88928001e-06],\n",
       "       [-3.10499160e-05],\n",
       "       [-5.84363055e-06],\n",
       "       [-7.83853567e-05],\n",
       "       [-2.71922552e-06],\n",
       "       [-8.57949219e-05],\n",
       "       [-1.00506420e-06],\n",
       "       [-4.17709756e-05],\n",
       "       [ 0.00000000e+00],\n",
       "       [ 0.00000000e+00],\n",
       "       [-2.00679730e-05],\n",
       "       [ 0.00000000e+00],\n",
       "       [ 5.28648883e-06],\n",
       "       [-2.39036645e-06],\n",
       "       [ 4.97653707e-06],\n",
       "       [-3.32611437e-05],\n",
       "       [ 2.07676600e-06],\n",
       "       [-8.17944671e-05],\n",
       "       [-2.90174988e-06],\n",
       "       [-8.80065742e-05],\n",
       "       [-1.81811475e-05],\n",
       "       [-4.25284746e-05],\n",
       "       [-2.12776721e-05],\n",
       "       [-1.20965821e-06],\n",
       "       [ 0.00000000e+00],\n",
       "       [ 0.00000000e+00],\n",
       "       [ 0.00000000e+00],\n",
       "       [ 0.00000000e+00]])"
      ]
     },
     "execution_count": 41,
     "metadata": {},
     "output_type": "execute_result"
    }
   ],
   "source": [
    "u_jacobi_ajustado = np.zeros((nn*2,1))\n",
    "i = 0\n",
    "for e in range(len(u_jacobi_ajustado)):\n",
    "    if e not in R:\n",
    "        u_jacobi_ajustado[e] += u_jacobi[i]\n",
    "        i += 1\n",
    "u_jacobi_ajustado"
   ]
  },
  {
   "cell_type": "code",
   "execution_count": 42,
   "metadata": {},
   "outputs": [
    {
     "data": {
      "text/plain": [
       "array([[ 0.00000000e+00],\n",
       "       [ 0.00000000e+00],\n",
       "       [-7.71275791e-06],\n",
       "       [ 0.00000000e+00],\n",
       "       [-6.88962295e-06],\n",
       "       [-3.10506791e-05],\n",
       "       [-5.84394564e-06],\n",
       "       [-7.83872883e-05],\n",
       "       [-2.71946533e-06],\n",
       "       [-8.57972276e-05],\n",
       "       [-1.00519222e-06],\n",
       "       [-4.17723699e-05],\n",
       "       [ 0.00000000e+00],\n",
       "       [ 0.00000000e+00],\n",
       "       [-2.00687941e-05],\n",
       "       [ 0.00000000e+00],\n",
       "       [ 5.28651208e-06],\n",
       "       [-2.39038941e-06],\n",
       "       [ 4.97653000e-06],\n",
       "       [-3.32619951e-05],\n",
       "       [ 2.07669843e-06],\n",
       "       [-8.17964228e-05],\n",
       "       [-2.90196115e-06],\n",
       "       [-8.80088881e-05],\n",
       "       [-1.81818145e-05],\n",
       "       [-4.25299283e-05],\n",
       "       [-2.12785347e-05],\n",
       "       [-1.20968712e-06],\n",
       "       [ 0.00000000e+00],\n",
       "       [ 0.00000000e+00],\n",
       "       [ 0.00000000e+00],\n",
       "       [ 0.00000000e+00]])"
      ]
     },
     "execution_count": 42,
     "metadata": {},
     "output_type": "execute_result"
    }
   ],
   "source": [
    "u_gauss_ajustado = np.zeros((nn*2,1))\n",
    "i = 0\n",
    "for e in range(len(u_gauss_ajustado)):\n",
    "    if e not in R:\n",
    "        u_gauss_ajustado[e] += u_gauss[i]\n",
    "        i += 1\n",
    "u_gauss_ajustado"
   ]
  },
  {
   "cell_type": "code",
   "execution_count": 43,
   "metadata": {},
   "outputs": [
    {
     "name": "stdout",
     "output_type": "stream",
     "text": [
      "PRECISA SER MENOR QUE  0.02 m\n",
      "[5.28636528e-06]\n",
      "[8.80110904e-05]\n"
     ]
    }
   ],
   "source": [
    "u = np.zeros((nn*2,1))\n",
    "i = 0\n",
    "for e in range(len(u)):\n",
    "    if e not in R:\n",
    "        u[e] += U_ar[i]\n",
    "        i += 1\n",
    "u\n",
    "print(\"PRECISA SER MENOR QUE \", 20e-3, \"m\")\n",
    "print(max(u))\n",
    "print(abs(min(u)))"
   ]
  },
  {
   "cell_type": "markdown",
   "metadata": {},
   "source": [
    "### Reações de apoio"
   ]
  },
  {
   "cell_type": "code",
   "execution_count": 44,
   "metadata": {
    "scrolled": false
   },
   "outputs": [
    {
     "data": {
      "text/plain": [
       "array([[-8.19110253e+00],\n",
       "       [-8.19110253e+00],\n",
       "       [ 4.26325641e-14],\n",
       "       [ 3.45576735e+01],\n",
       "       [-7.10542736e-14],\n",
       "       [ 3.46389584e-14],\n",
       "       [ 2.84217094e-14],\n",
       "       [-9.41469125e-14],\n",
       "       [-5.68434189e-14],\n",
       "       [-1.35003120e-13],\n",
       "       [-1.42108547e-14],\n",
       "       [-4.97379915e-14],\n",
       "       [ 4.55064357e+00],\n",
       "       [ 2.56839674e+01],\n",
       "       [ 4.44089210e-16],\n",
       "       [ 2.66453526e-15],\n",
       "       [ 3.55271368e-14],\n",
       "       [-3.55271368e-15],\n",
       "       [-5.68434189e-14],\n",
       "       [ 4.44089210e-15],\n",
       "       [ 0.00000000e+00],\n",
       "       [-7.50000000e+01],\n",
       "       [ 2.84217094e-14],\n",
       "       [-7.50000000e+01],\n",
       "       [-2.84217094e-14],\n",
       "       [ 3.37507799e-14],\n",
       "       [ 2.84217094e-14],\n",
       "       [ 7.10542736e-15],\n",
       "       [ 8.01797988e+01],\n",
       "       [ 5.01123742e+01],\n",
       "       [-7.65393398e+01],\n",
       "       [ 4.78370874e+01]])"
      ]
     },
     "execution_count": 44,
     "metadata": {},
     "output_type": "execute_result"
    }
   ],
   "source": [
    "P = np.matmul(Kg,u)\n",
    "P"
   ]
  },
  {
   "cell_type": "code",
   "execution_count": 45,
   "metadata": {
    "scrolled": true
   },
   "outputs": [
    {
     "data": {
      "text/plain": [
       "array([[-8.19110253e+00],\n",
       "       [-8.19110253e+00],\n",
       "       [ 3.45576735e+01],\n",
       "       [ 8.01797988e+01],\n",
       "       [ 5.01123742e+01],\n",
       "       [ 4.55064357e+00],\n",
       "       [ 2.56839674e+01],\n",
       "       [ 2.66453526e-15],\n",
       "       [-7.65393398e+01],\n",
       "       [ 4.78370874e+01]])"
      ]
     },
     "execution_count": 45,
     "metadata": {},
     "output_type": "execute_result"
    }
   ],
   "source": [
    "P_r = np.zeros((nr,1))\n",
    "for i in range(nr):  \n",
    "    index = int(R[i])\n",
    "    P_r[i] = P[index]    \n",
    "P_r"
   ]
  },
  {
   "cell_type": "markdown",
   "metadata": {},
   "source": [
    "### Deformações, Tenões e Forças internas"
   ]
  },
  {
   "cell_type": "code",
   "execution_count": null,
   "metadata": {},
   "outputs": [],
   "source": []
  },
  {
   "cell_type": "code",
   "execution_count": 53,
   "metadata": {},
   "outputs": [
    {
     "name": "stdout",
     "output_type": "stream",
     "text": [
      "L0 = 0.08\n",
      "L1 = 0.07999999999999999\n",
      "L2 = 0.07999999999999999\n",
      "L3 = 0.08000000000000002\n",
      "L4 = 0.08000000000000002\n",
      "L5 = 0.08\n",
      "L6 = 0.07999999999999999\n",
      "L7 = 0.07999999999999999\n",
      "L8 = 0.08000000000000002\n",
      "L9 = 0.08000000000000002\n",
      "L10 = 0.07071067811865477\n",
      "L11 = 0.09433981132056604\n",
      "L12 = 0.09433981132056603\n",
      "L13 = 0.09433981132056603\n",
      "L14 = 0.09433981132056606\n",
      "L15 = 0.09433981132056606\n",
      "L16 = 0.07071067811865475\n",
      "L17 = 0.09433981132056604\n",
      "L18 = 0.09433981132056606\n",
      "L19 = 0.05\n",
      "L20 = 0.05\n",
      "L21 = 0.05\n",
      "L22 = 0.05\n",
      "L23 = 0.05\n",
      "L24 = 0.05\n",
      "L25 = 0.09433981132056603\n",
      "L26 = 0.09433981132056603\n",
      "L27 = 0.09433981132056606\n",
      "L28 = 0.09433981132056604\n",
      "L29 = 0.09433981132056606\n",
      "Massa = 0.20127272300873186\n"
     ]
    }
   ],
   "source": [
    "deformacoes=[]\n",
    "tensoes=[]\n",
    "forcas=[]\n",
    "massa=0\n",
    "for i in range (nm):\n",
    "        \n",
    "    matriz = [\n",
    "            u[(int(Inc[i, 0])-1)*2], \n",
    "            u[(int(Inc[i, 0])-1)*2 +1], \n",
    "            u[(int(Inc[i, 1])-1)*2], \n",
    "            u[int(Inc[i, 1]-1)*2 +1]\n",
    "    ]\n",
    "    \n",
    "    x1 = N[0][int(Inc[:,0][i])-1]\n",
    "    y1 = N[1][int(Inc[:,0][i])-1]\n",
    "    x2 = N[0][int(Inc[:,1][i])-1]\n",
    "    y2 = N[1][int(Inc[:,1][i])-1]    \n",
    "    \n",
    "    L = math.sqrt(((x1-x2)**2+(y1-y2)**2))  \n",
    "    print(f\"L{i} = {L}\")\n",
    "    E =  Inc[i, 2]\n",
    "    #A = 1e-4\n",
    "    A = Inc[i,3]\n",
    "    const = E*A/L\n",
    "    \n",
    "    massa += L*A*848\n",
    "    \n",
    "    s = (y2-y1)/L\n",
    "    c = (x2-x1)/L\n",
    "    \n",
    "    C = [-c, -s, c, s]\n",
    "\n",
    "    deformacao = (1/L) * np.matmul(C, matriz)\n",
    "    tensao = deformacao*E\n",
    "    forca=tensao*A\n",
    "    \n",
    "    deformacoes.append(deformacao)\n",
    "    tensoes.append(tensao)\n",
    "    forcas.append(forca)\n",
    "\n",
    "print(f\"Massa = {massa}\")"
   ]
  },
  {
   "cell_type": "code",
   "execution_count": 47,
   "metadata": {},
   "outputs": [
    {
     "name": "stdout",
     "output_type": "stream",
     "text": [
      "MENOR QUE 0.0004 (0.008 * 0.05)\n",
      "[0.00015625]\n",
      "[0.00024271]\n"
     ]
    }
   ],
   "source": [
    "deformacoes\n",
    "print(\"MENOR QUE\",4e-4,\"(0.008 * 0.05)\")\n",
    "print(max(deformacoes))\n",
    "print(abs(min(deformacoes)))"
   ]
  },
  {
   "cell_type": "code",
   "execution_count": 48,
   "metadata": {},
   "outputs": [
    {
     "name": "stdout",
     "output_type": "stream",
     "text": [
      "MENOR QUE 18000000.0 Pa\n",
      "[625016.3857138]\n",
      "[970837.18667927]\n"
     ]
    }
   ],
   "source": [
    "tensoes\n",
    "print(\"MENOR QUE\", 18e6, \"Pa\")\n",
    "print(max(tensoes))\n",
    "print(abs(min(tensoes)))"
   ]
  },
  {
   "cell_type": "code",
   "execution_count": 49,
   "metadata": {},
   "outputs": [
    {
     "data": {
      "text/plain": [
       "[array([24.69550055]),\n",
       " array([31.37174358]),\n",
       " array([93.73820522]),\n",
       " array([51.43248046]),\n",
       " array([30.16071678]),\n",
       " array([-9.29991046]),\n",
       " array([-86.99669452]),\n",
       " array([-149.36285747]),\n",
       " array([-76.40120683]),\n",
       " array([-15.4842747]),\n",
       " array([11.58396829]),\n",
       " array([20.62623582]),\n",
       " array([-81.79854661]),\n",
       " array([-8.25339603]),\n",
       " array([-97.08371867]),\n",
       " array([18.25979442]),\n",
       " array([0.]),\n",
       " array([-94.55183858]),\n",
       " array([-90.25883594]),\n",
       " array([-19.12298565]),\n",
       " array([-17.69111435]),\n",
       " array([-27.27256586]),\n",
       " array([-17.69249568]),\n",
       " array([-6.06049107]),\n",
       " array([-9.67767169]),\n",
       " array([-11.04386423]),\n",
       " array([62.50163857]),\n",
       " array([41.63553012]),\n",
       " array([-29.12211078]),\n",
       " array([-30.20061843])]"
      ]
     },
     "execution_count": 49,
     "metadata": {},
     "output_type": "execute_result"
    }
   ],
   "source": [
    "forcas"
   ]
  },
  {
   "cell_type": "markdown",
   "metadata": {},
   "source": [
    "___\n",
    "**Gerando Saídas com as 3 matrizes U calculadas anteriormente**"
   ]
  },
  {
   "cell_type": "code",
   "execution_count": 50,
   "metadata": {},
   "outputs": [],
   "source": [
    "x = geraSaida(\"geral\", P_r, u, deformacoes, forcas, tensoes)"
   ]
  },
  {
   "cell_type": "code",
   "execution_count": 51,
   "metadata": {},
   "outputs": [],
   "source": [
    "geraSaida(\"jacobi\", P_r, u_jacobi_ajustado, deformacoes, forcas, tensoes)"
   ]
  },
  {
   "cell_type": "code",
   "execution_count": 52,
   "metadata": {},
   "outputs": [],
   "source": [
    "geraSaida(\"gauss\", P_r, u_gauss_ajustado, deformacoes, forcas, tensoes)"
   ]
  },
  {
   "cell_type": "code",
   "execution_count": null,
   "metadata": {},
   "outputs": [],
   "source": []
  },
  {
   "cell_type": "code",
   "execution_count": null,
   "metadata": {},
   "outputs": [],
   "source": []
  },
  {
   "cell_type": "code",
   "execution_count": null,
   "metadata": {},
   "outputs": [],
   "source": []
  }
 ],
 "metadata": {
  "kernelspec": {
   "display_name": "Python 3",
   "language": "python",
   "name": "python3"
  },
  "language_info": {
   "codemirror_mode": {
    "name": "ipython",
    "version": 3
   },
   "file_extension": ".py",
   "mimetype": "text/x-python",
   "name": "python",
   "nbconvert_exporter": "python",
   "pygments_lexer": "ipython3",
   "version": "3.8.5"
  }
 },
 "nbformat": 4,
 "nbformat_minor": 2
}
