{
 "cells": [
  {
   "cell_type": "markdown",
   "metadata": {},
   "source": [
    "# APS 3\n",
    "\n",
    "___"
   ]
  },
  {
   "cell_type": "markdown",
   "metadata": {},
   "source": [
    "## <font style='font-family:Georgia' color='teal'> Estudo de uma treliça plana</font> \n"
   ]
  },
  {
   "cell_type": "markdown",
   "metadata": {},
   "source": [
    "####  <font style='font-family:Georgia' color='darkturquoise'> André Tavernaro || Antonio Fuziy || Gabriela Mitu || Gabriella Cukier</font> "
   ]
  },
  {
   "cell_type": "markdown",
   "metadata": {},
   "source": [
    "### Importando bibliotecas e valores"
   ]
  },
  {
   "cell_type": "code",
   "execution_count": 1,
   "metadata": {},
   "outputs": [],
   "source": [
    "from funcoesTermosol import *\n",
    "import numpy as np\n",
    "import math"
   ]
  },
  {
   "cell_type": "markdown",
   "metadata": {},
   "source": [
    "### Representação da estrutura"
   ]
  },
  {
   "cell_type": "code",
   "execution_count": 7,
   "metadata": {
    "scrolled": false
   },
   "outputs": [
    {
     "output_type": "display_data",
     "data": {
      "text/plain": "<Figure size 432x288 with 1 Axes>",
      "image/svg+xml": "<?xml version=\"1.0\" encoding=\"utf-8\" standalone=\"no\"?>\n<!DOCTYPE svg PUBLIC \"-//W3C//DTD SVG 1.1//EN\"\n  \"http://www.w3.org/Graphics/SVG/1.1/DTD/svg11.dtd\">\n<svg height=\"262.19625pt\" version=\"1.1\" viewBox=\"0 0 397.345312 262.19625\" width=\"397.345312pt\" xmlns=\"http://www.w3.org/2000/svg\" xmlns:xlink=\"http://www.w3.org/1999/xlink\">\n <metadata>\n  <rdf:RDF xmlns:cc=\"http://creativecommons.org/ns#\" xmlns:dc=\"http://purl.org/dc/elements/1.1/\" xmlns:rdf=\"http://www.w3.org/1999/02/22-rdf-syntax-ns#\">\n   <cc:Work>\n    <dc:type rdf:resource=\"http://purl.org/dc/dcmitype/StillImage\"/>\n    <dc:date>2021-06-04T09:04:34.285401</dc:date>\n    <dc:format>image/svg+xml</dc:format>\n    <dc:creator>\n     <cc:Agent>\n      <dc:title>Matplotlib v3.4.1, https://matplotlib.org/</dc:title>\n     </cc:Agent>\n    </dc:creator>\n   </cc:Work>\n  </rdf:RDF>\n </metadata>\n <defs>\n  <style type=\"text/css\">*{stroke-linecap:butt;stroke-linejoin:round;}</style>\n </defs>\n <g id=\"figure_1\">\n  <g id=\"patch_1\">\n   <path d=\"M 0 262.19625 \nL 397.345312 262.19625 \nL 397.345312 0 \nL 0 0 \nz\n\" style=\"fill:none;\"/>\n  </g>\n  <g id=\"axes_1\">\n   <g id=\"patch_2\">\n    <path d=\"M 55.345313 224.64 \nL 390.145312 224.64 \nL 390.145312 7.2 \nL 55.345313 7.2 \nz\n\" style=\"fill:#ffffff;\"/>\n   </g>\n   <g id=\"matplotlib.axis_1\">\n    <g id=\"xtick_1\">\n     <g id=\"line2d_1\">\n      <path clip-path=\"url(#pe17e85c812)\" d=\"M 70.563494 224.64 \nL 70.563494 7.2 \n\" style=\"fill:none;stroke:#b0b0b0;stroke-linecap:square;stroke-width:0.8;\"/>\n     </g>\n     <g id=\"line2d_2\">\n      <defs>\n       <path d=\"M 0 0 \nL 0 3.5 \n\" id=\"m9360a879fa\" style=\"stroke:#000000;stroke-width:0.8;\"/>\n      </defs>\n      <g>\n       <use style=\"stroke:#000000;stroke-width:0.8;\" x=\"70.563494\" xlink:href=\"#m9360a879fa\" y=\"224.64\"/>\n      </g>\n     </g>\n     <g id=\"text_1\">\n      <!-- 0 -->\n      <g transform=\"translate(67.382244 239.238437)scale(0.1 -0.1)\">\n       <defs>\n        <path d=\"M 2034 4250 \nQ 1547 4250 1301 3770 \nQ 1056 3291 1056 2328 \nQ 1056 1369 1301 889 \nQ 1547 409 2034 409 \nQ 2525 409 2770 889 \nQ 3016 1369 3016 2328 \nQ 3016 3291 2770 3770 \nQ 2525 4250 2034 4250 \nz\nM 2034 4750 \nQ 2819 4750 3233 4129 \nQ 3647 3509 3647 2328 \nQ 3647 1150 3233 529 \nQ 2819 -91 2034 -91 \nQ 1250 -91 836 529 \nQ 422 1150 422 2328 \nQ 422 3509 836 4129 \nQ 1250 4750 2034 4750 \nz\n\" id=\"DejaVuSans-30\" transform=\"scale(0.015625)\"/>\n       </defs>\n       <use xlink:href=\"#DejaVuSans-30\"/>\n      </g>\n     </g>\n    </g>\n    <g id=\"xtick_2\">\n     <g id=\"line2d_3\">\n      <path clip-path=\"url(#pe17e85c812)\" d=\"M 131.436222 224.64 \nL 131.436222 7.2 \n\" style=\"fill:none;stroke:#b0b0b0;stroke-linecap:square;stroke-width:0.8;\"/>\n     </g>\n     <g id=\"line2d_4\">\n      <g>\n       <use style=\"stroke:#000000;stroke-width:0.8;\" x=\"131.436222\" xlink:href=\"#m9360a879fa\" y=\"224.64\"/>\n      </g>\n     </g>\n     <g id=\"text_2\">\n      <!-- 100 -->\n      <g transform=\"translate(121.892472 239.238437)scale(0.1 -0.1)\">\n       <defs>\n        <path d=\"M 794 531 \nL 1825 531 \nL 1825 4091 \nL 703 3866 \nL 703 4441 \nL 1819 4666 \nL 2450 4666 \nL 2450 531 \nL 3481 531 \nL 3481 0 \nL 794 0 \nL 794 531 \nz\n\" id=\"DejaVuSans-31\" transform=\"scale(0.015625)\"/>\n       </defs>\n       <use xlink:href=\"#DejaVuSans-31\"/>\n       <use x=\"63.623047\" xlink:href=\"#DejaVuSans-30\"/>\n       <use x=\"127.246094\" xlink:href=\"#DejaVuSans-30\"/>\n      </g>\n     </g>\n    </g>\n    <g id=\"xtick_3\">\n     <g id=\"line2d_5\">\n      <path clip-path=\"url(#pe17e85c812)\" d=\"M 192.308949 224.64 \nL 192.308949 7.2 \n\" style=\"fill:none;stroke:#b0b0b0;stroke-linecap:square;stroke-width:0.8;\"/>\n     </g>\n     <g id=\"line2d_6\">\n      <g>\n       <use style=\"stroke:#000000;stroke-width:0.8;\" x=\"192.308949\" xlink:href=\"#m9360a879fa\" y=\"224.64\"/>\n      </g>\n     </g>\n     <g id=\"text_3\">\n      <!-- 200 -->\n      <g transform=\"translate(182.765199 239.238437)scale(0.1 -0.1)\">\n       <defs>\n        <path d=\"M 1228 531 \nL 3431 531 \nL 3431 0 \nL 469 0 \nL 469 531 \nQ 828 903 1448 1529 \nQ 2069 2156 2228 2338 \nQ 2531 2678 2651 2914 \nQ 2772 3150 2772 3378 \nQ 2772 3750 2511 3984 \nQ 2250 4219 1831 4219 \nQ 1534 4219 1204 4116 \nQ 875 4013 500 3803 \nL 500 4441 \nQ 881 4594 1212 4672 \nQ 1544 4750 1819 4750 \nQ 2544 4750 2975 4387 \nQ 3406 4025 3406 3419 \nQ 3406 3131 3298 2873 \nQ 3191 2616 2906 2266 \nQ 2828 2175 2409 1742 \nQ 1991 1309 1228 531 \nz\n\" id=\"DejaVuSans-32\" transform=\"scale(0.015625)\"/>\n       </defs>\n       <use xlink:href=\"#DejaVuSans-32\"/>\n       <use x=\"63.623047\" xlink:href=\"#DejaVuSans-30\"/>\n       <use x=\"127.246094\" xlink:href=\"#DejaVuSans-30\"/>\n      </g>\n     </g>\n    </g>\n    <g id=\"xtick_4\">\n     <g id=\"line2d_7\">\n      <path clip-path=\"url(#pe17e85c812)\" d=\"M 253.181676 224.64 \nL 253.181676 7.2 \n\" style=\"fill:none;stroke:#b0b0b0;stroke-linecap:square;stroke-width:0.8;\"/>\n     </g>\n     <g id=\"line2d_8\">\n      <g>\n       <use style=\"stroke:#000000;stroke-width:0.8;\" x=\"253.181676\" xlink:href=\"#m9360a879fa\" y=\"224.64\"/>\n      </g>\n     </g>\n     <g id=\"text_4\">\n      <!-- 300 -->\n      <g transform=\"translate(243.637926 239.238437)scale(0.1 -0.1)\">\n       <defs>\n        <path d=\"M 2597 2516 \nQ 3050 2419 3304 2112 \nQ 3559 1806 3559 1356 \nQ 3559 666 3084 287 \nQ 2609 -91 1734 -91 \nQ 1441 -91 1130 -33 \nQ 819 25 488 141 \nL 488 750 \nQ 750 597 1062 519 \nQ 1375 441 1716 441 \nQ 2309 441 2620 675 \nQ 2931 909 2931 1356 \nQ 2931 1769 2642 2001 \nQ 2353 2234 1838 2234 \nL 1294 2234 \nL 1294 2753 \nL 1863 2753 \nQ 2328 2753 2575 2939 \nQ 2822 3125 2822 3475 \nQ 2822 3834 2567 4026 \nQ 2313 4219 1838 4219 \nQ 1578 4219 1281 4162 \nQ 984 4106 628 3988 \nL 628 4550 \nQ 988 4650 1302 4700 \nQ 1616 4750 1894 4750 \nQ 2613 4750 3031 4423 \nQ 3450 4097 3450 3541 \nQ 3450 3153 3228 2886 \nQ 3006 2619 2597 2516 \nz\n\" id=\"DejaVuSans-33\" transform=\"scale(0.015625)\"/>\n       </defs>\n       <use xlink:href=\"#DejaVuSans-33\"/>\n       <use x=\"63.623047\" xlink:href=\"#DejaVuSans-30\"/>\n       <use x=\"127.246094\" xlink:href=\"#DejaVuSans-30\"/>\n      </g>\n     </g>\n    </g>\n    <g id=\"xtick_5\">\n     <g id=\"line2d_9\">\n      <path clip-path=\"url(#pe17e85c812)\" d=\"M 314.054403 224.64 \nL 314.054403 7.2 \n\" style=\"fill:none;stroke:#b0b0b0;stroke-linecap:square;stroke-width:0.8;\"/>\n     </g>\n     <g id=\"line2d_10\">\n      <g>\n       <use style=\"stroke:#000000;stroke-width:0.8;\" x=\"314.054403\" xlink:href=\"#m9360a879fa\" y=\"224.64\"/>\n      </g>\n     </g>\n     <g id=\"text_5\">\n      <!-- 400 -->\n      <g transform=\"translate(304.510653 239.238437)scale(0.1 -0.1)\">\n       <defs>\n        <path d=\"M 2419 4116 \nL 825 1625 \nL 2419 1625 \nL 2419 4116 \nz\nM 2253 4666 \nL 3047 4666 \nL 3047 1625 \nL 3713 1625 \nL 3713 1100 \nL 3047 1100 \nL 3047 0 \nL 2419 0 \nL 2419 1100 \nL 313 1100 \nL 313 1709 \nL 2253 4666 \nz\n\" id=\"DejaVuSans-34\" transform=\"scale(0.015625)\"/>\n       </defs>\n       <use xlink:href=\"#DejaVuSans-34\"/>\n       <use x=\"63.623047\" xlink:href=\"#DejaVuSans-30\"/>\n       <use x=\"127.246094\" xlink:href=\"#DejaVuSans-30\"/>\n      </g>\n     </g>\n    </g>\n    <g id=\"xtick_6\">\n     <g id=\"line2d_11\">\n      <path clip-path=\"url(#pe17e85c812)\" d=\"M 374.927131 224.64 \nL 374.927131 7.2 \n\" style=\"fill:none;stroke:#b0b0b0;stroke-linecap:square;stroke-width:0.8;\"/>\n     </g>\n     <g id=\"line2d_12\">\n      <g>\n       <use style=\"stroke:#000000;stroke-width:0.8;\" x=\"374.927131\" xlink:href=\"#m9360a879fa\" y=\"224.64\"/>\n      </g>\n     </g>\n     <g id=\"text_6\">\n      <!-- 500 -->\n      <g transform=\"translate(365.383381 239.238437)scale(0.1 -0.1)\">\n       <defs>\n        <path d=\"M 691 4666 \nL 3169 4666 \nL 3169 4134 \nL 1269 4134 \nL 1269 2991 \nQ 1406 3038 1543 3061 \nQ 1681 3084 1819 3084 \nQ 2600 3084 3056 2656 \nQ 3513 2228 3513 1497 \nQ 3513 744 3044 326 \nQ 2575 -91 1722 -91 \nQ 1428 -91 1123 -41 \nQ 819 9 494 109 \nL 494 744 \nQ 775 591 1075 516 \nQ 1375 441 1709 441 \nQ 2250 441 2565 725 \nQ 2881 1009 2881 1497 \nQ 2881 1984 2565 2268 \nQ 2250 2553 1709 2553 \nQ 1456 2553 1204 2497 \nQ 953 2441 691 2322 \nL 691 4666 \nz\n\" id=\"DejaVuSans-35\" transform=\"scale(0.015625)\"/>\n       </defs>\n       <use xlink:href=\"#DejaVuSans-35\"/>\n       <use x=\"63.623047\" xlink:href=\"#DejaVuSans-30\"/>\n       <use x=\"127.246094\" xlink:href=\"#DejaVuSans-30\"/>\n      </g>\n     </g>\n    </g>\n    <g id=\"text_7\">\n     <!-- x [m] -->\n     <g transform=\"translate(209.425 252.916562)scale(0.1 -0.1)\">\n      <defs>\n       <path d=\"M 3513 3500 \nL 2247 1797 \nL 3578 0 \nL 2900 0 \nL 1881 1375 \nL 863 0 \nL 184 0 \nL 1544 1831 \nL 300 3500 \nL 978 3500 \nL 1906 2253 \nL 2834 3500 \nL 3513 3500 \nz\n\" id=\"DejaVuSans-78\" transform=\"scale(0.015625)\"/>\n       <path id=\"DejaVuSans-20\" transform=\"scale(0.015625)\"/>\n       <path d=\"M 550 4863 \nL 1875 4863 \nL 1875 4416 \nL 1125 4416 \nL 1125 -397 \nL 1875 -397 \nL 1875 -844 \nL 550 -844 \nL 550 4863 \nz\n\" id=\"DejaVuSans-5b\" transform=\"scale(0.015625)\"/>\n       <path d=\"M 3328 2828 \nQ 3544 3216 3844 3400 \nQ 4144 3584 4550 3584 \nQ 5097 3584 5394 3201 \nQ 5691 2819 5691 2113 \nL 5691 0 \nL 5113 0 \nL 5113 2094 \nQ 5113 2597 4934 2840 \nQ 4756 3084 4391 3084 \nQ 3944 3084 3684 2787 \nQ 3425 2491 3425 1978 \nL 3425 0 \nL 2847 0 \nL 2847 2094 \nQ 2847 2600 2669 2842 \nQ 2491 3084 2119 3084 \nQ 1678 3084 1418 2786 \nQ 1159 2488 1159 1978 \nL 1159 0 \nL 581 0 \nL 581 3500 \nL 1159 3500 \nL 1159 2956 \nQ 1356 3278 1631 3431 \nQ 1906 3584 2284 3584 \nQ 2666 3584 2933 3390 \nQ 3200 3197 3328 2828 \nz\n\" id=\"DejaVuSans-6d\" transform=\"scale(0.015625)\"/>\n       <path d=\"M 1947 4863 \nL 1947 -844 \nL 622 -844 \nL 622 -397 \nL 1369 -397 \nL 1369 4416 \nL 622 4416 \nL 622 4863 \nL 1947 4863 \nz\n\" id=\"DejaVuSans-5d\" transform=\"scale(0.015625)\"/>\n      </defs>\n      <use xlink:href=\"#DejaVuSans-78\"/>\n      <use x=\"59.179688\" xlink:href=\"#DejaVuSans-20\"/>\n      <use x=\"90.966797\" xlink:href=\"#DejaVuSans-5b\"/>\n      <use x=\"129.980469\" xlink:href=\"#DejaVuSans-6d\"/>\n      <use x=\"227.392578\" xlink:href=\"#DejaVuSans-5d\"/>\n     </g>\n    </g>\n   </g>\n   <g id=\"matplotlib.axis_2\">\n    <g id=\"ytick_1\">\n     <g id=\"line2d_13\">\n      <path clip-path=\"url(#pe17e85c812)\" d=\"M 55.345313 207.229091 \nL 390.145312 207.229091 \n\" style=\"fill:none;stroke:#b0b0b0;stroke-linecap:square;stroke-width:0.8;\"/>\n     </g>\n     <g id=\"line2d_14\">\n      <defs>\n       <path d=\"M 0 0 \nL -3.5 0 \n\" id=\"mcdaa324ec5\" style=\"stroke:#000000;stroke-width:0.8;\"/>\n      </defs>\n      <g>\n       <use style=\"stroke:#000000;stroke-width:0.8;\" x=\"55.345313\" xlink:href=\"#mcdaa324ec5\" y=\"207.229091\"/>\n      </g>\n     </g>\n     <g id=\"text_8\">\n      <!-- −100 -->\n      <g transform=\"translate(20.878125 211.02831)scale(0.1 -0.1)\">\n       <defs>\n        <path d=\"M 678 2272 \nL 4684 2272 \nL 4684 1741 \nL 678 1741 \nL 678 2272 \nz\n\" id=\"DejaVuSans-2212\" transform=\"scale(0.015625)\"/>\n       </defs>\n       <use xlink:href=\"#DejaVuSans-2212\"/>\n       <use x=\"83.789062\" xlink:href=\"#DejaVuSans-31\"/>\n       <use x=\"147.412109\" xlink:href=\"#DejaVuSans-30\"/>\n       <use x=\"211.035156\" xlink:href=\"#DejaVuSans-30\"/>\n      </g>\n     </g>\n    </g>\n    <g id=\"ytick_2\">\n     <g id=\"line2d_15\">\n      <path clip-path=\"url(#pe17e85c812)\" d=\"M 55.345313 176.792727 \nL 390.145312 176.792727 \n\" style=\"fill:none;stroke:#b0b0b0;stroke-linecap:square;stroke-width:0.8;\"/>\n     </g>\n     <g id=\"line2d_16\">\n      <g>\n       <use style=\"stroke:#000000;stroke-width:0.8;\" x=\"55.345313\" xlink:href=\"#mcdaa324ec5\" y=\"176.792727\"/>\n      </g>\n     </g>\n     <g id=\"text_9\">\n      <!-- −50 -->\n      <g transform=\"translate(27.240625 180.591946)scale(0.1 -0.1)\">\n       <use xlink:href=\"#DejaVuSans-2212\"/>\n       <use x=\"83.789062\" xlink:href=\"#DejaVuSans-35\"/>\n       <use x=\"147.412109\" xlink:href=\"#DejaVuSans-30\"/>\n      </g>\n     </g>\n    </g>\n    <g id=\"ytick_3\">\n     <g id=\"line2d_17\">\n      <path clip-path=\"url(#pe17e85c812)\" d=\"M 55.345313 146.356364 \nL 390.145312 146.356364 \n\" style=\"fill:none;stroke:#b0b0b0;stroke-linecap:square;stroke-width:0.8;\"/>\n     </g>\n     <g id=\"line2d_18\">\n      <g>\n       <use style=\"stroke:#000000;stroke-width:0.8;\" x=\"55.345313\" xlink:href=\"#mcdaa324ec5\" y=\"146.356364\"/>\n      </g>\n     </g>\n     <g id=\"text_10\">\n      <!-- 0 -->\n      <g transform=\"translate(41.982813 150.155582)scale(0.1 -0.1)\">\n       <use xlink:href=\"#DejaVuSans-30\"/>\n      </g>\n     </g>\n    </g>\n    <g id=\"ytick_4\">\n     <g id=\"line2d_19\">\n      <path clip-path=\"url(#pe17e85c812)\" d=\"M 55.345313 115.92 \nL 390.145312 115.92 \n\" style=\"fill:none;stroke:#b0b0b0;stroke-linecap:square;stroke-width:0.8;\"/>\n     </g>\n     <g id=\"line2d_20\">\n      <g>\n       <use style=\"stroke:#000000;stroke-width:0.8;\" x=\"55.345313\" xlink:href=\"#mcdaa324ec5\" y=\"115.92\"/>\n      </g>\n     </g>\n     <g id=\"text_11\">\n      <!-- 50 -->\n      <g transform=\"translate(35.620313 119.719219)scale(0.1 -0.1)\">\n       <use xlink:href=\"#DejaVuSans-35\"/>\n       <use x=\"63.623047\" xlink:href=\"#DejaVuSans-30\"/>\n      </g>\n     </g>\n    </g>\n    <g id=\"ytick_5\">\n     <g id=\"line2d_21\">\n      <path clip-path=\"url(#pe17e85c812)\" d=\"M 55.345313 85.483636 \nL 390.145312 85.483636 \n\" style=\"fill:none;stroke:#b0b0b0;stroke-linecap:square;stroke-width:0.8;\"/>\n     </g>\n     <g id=\"line2d_22\">\n      <g>\n       <use style=\"stroke:#000000;stroke-width:0.8;\" x=\"55.345313\" xlink:href=\"#mcdaa324ec5\" y=\"85.483636\"/>\n      </g>\n     </g>\n     <g id=\"text_12\">\n      <!-- 100 -->\n      <g transform=\"translate(29.257813 89.282855)scale(0.1 -0.1)\">\n       <use xlink:href=\"#DejaVuSans-31\"/>\n       <use x=\"63.623047\" xlink:href=\"#DejaVuSans-30\"/>\n       <use x=\"127.246094\" xlink:href=\"#DejaVuSans-30\"/>\n      </g>\n     </g>\n    </g>\n    <g id=\"ytick_6\">\n     <g id=\"line2d_23\">\n      <path clip-path=\"url(#pe17e85c812)\" d=\"M 55.345313 55.047273 \nL 390.145312 55.047273 \n\" style=\"fill:none;stroke:#b0b0b0;stroke-linecap:square;stroke-width:0.8;\"/>\n     </g>\n     <g id=\"line2d_24\">\n      <g>\n       <use style=\"stroke:#000000;stroke-width:0.8;\" x=\"55.345313\" xlink:href=\"#mcdaa324ec5\" y=\"55.047273\"/>\n      </g>\n     </g>\n     <g id=\"text_13\">\n      <!-- 150 -->\n      <g transform=\"translate(29.257813 58.846491)scale(0.1 -0.1)\">\n       <use xlink:href=\"#DejaVuSans-31\"/>\n       <use x=\"63.623047\" xlink:href=\"#DejaVuSans-35\"/>\n       <use x=\"127.246094\" xlink:href=\"#DejaVuSans-30\"/>\n      </g>\n     </g>\n    </g>\n    <g id=\"ytick_7\">\n     <g id=\"line2d_25\">\n      <path clip-path=\"url(#pe17e85c812)\" d=\"M 55.345313 24.610909 \nL 390.145312 24.610909 \n\" style=\"fill:none;stroke:#b0b0b0;stroke-linecap:square;stroke-width:0.8;\"/>\n     </g>\n     <g id=\"line2d_26\">\n      <g>\n       <use style=\"stroke:#000000;stroke-width:0.8;\" x=\"55.345313\" xlink:href=\"#mcdaa324ec5\" y=\"24.610909\"/>\n      </g>\n     </g>\n     <g id=\"text_14\">\n      <!-- 200 -->\n      <g transform=\"translate(29.257813 28.410128)scale(0.1 -0.1)\">\n       <use xlink:href=\"#DejaVuSans-32\"/>\n       <use x=\"63.623047\" xlink:href=\"#DejaVuSans-30\"/>\n       <use x=\"127.246094\" xlink:href=\"#DejaVuSans-30\"/>\n      </g>\n     </g>\n    </g>\n    <g id=\"text_15\">\n     <!-- y [m] -->\n     <g transform=\"translate(14.798438 129.240312)rotate(-90)scale(0.1 -0.1)\">\n      <defs>\n       <path d=\"M 2059 -325 \nQ 1816 -950 1584 -1140 \nQ 1353 -1331 966 -1331 \nL 506 -1331 \nL 506 -850 \nL 844 -850 \nQ 1081 -850 1212 -737 \nQ 1344 -625 1503 -206 \nL 1606 56 \nL 191 3500 \nL 800 3500 \nL 1894 763 \nL 2988 3500 \nL 3597 3500 \nL 2059 -325 \nz\n\" id=\"DejaVuSans-79\" transform=\"scale(0.015625)\"/>\n      </defs>\n      <use xlink:href=\"#DejaVuSans-79\"/>\n      <use x=\"59.179688\" xlink:href=\"#DejaVuSans-20\"/>\n      <use x=\"90.966797\" xlink:href=\"#DejaVuSans-5b\"/>\n      <use x=\"129.980469\" xlink:href=\"#DejaVuSans-6d\"/>\n      <use x=\"227.392578\" xlink:href=\"#DejaVuSans-5d\"/>\n     </g>\n    </g>\n   </g>\n   <g id=\"line2d_27\">\n    <path clip-path=\"url(#pe17e85c812)\" d=\"M 100.999858 115.92 \nL 149.69804 115.92 \n\" style=\"fill:none;stroke:#ff0000;stroke-linecap:square;stroke-width:3;\"/>\n   </g>\n   <g id=\"line2d_28\">\n    <path clip-path=\"url(#pe17e85c812)\" d=\"M 149.69804 115.92 \nL 198.396222 115.92 \n\" style=\"fill:none;stroke:#ff0000;stroke-linecap:square;stroke-width:3;\"/>\n   </g>\n   <g id=\"line2d_29\">\n    <path clip-path=\"url(#pe17e85c812)\" d=\"M 198.396222 115.92 \nL 247.094403 115.92 \n\" style=\"fill:none;stroke:#ff0000;stroke-linecap:square;stroke-width:3;\"/>\n   </g>\n   <g id=\"line2d_30\">\n    <path clip-path=\"url(#pe17e85c812)\" d=\"M 247.094403 115.92 \nL 295.792585 115.92 \n\" style=\"fill:none;stroke:#ff0000;stroke-linecap:square;stroke-width:3;\"/>\n   </g>\n   <g id=\"line2d_31\">\n    <path clip-path=\"url(#pe17e85c812)\" d=\"M 295.792585 115.92 \nL 344.490767 115.92 \n\" style=\"fill:none;stroke:#ff0000;stroke-linecap:square;stroke-width:3;\"/>\n   </g>\n   <g id=\"line2d_32\">\n    <path clip-path=\"url(#pe17e85c812)\" d=\"M 100.999858 85.483636 \nL 149.69804 85.483636 \n\" style=\"fill:none;stroke:#ff0000;stroke-linecap:square;stroke-width:3;\"/>\n   </g>\n   <g id=\"line2d_33\">\n    <path clip-path=\"url(#pe17e85c812)\" d=\"M 149.69804 85.483636 \nL 198.396222 85.483636 \n\" style=\"fill:none;stroke:#ff0000;stroke-linecap:square;stroke-width:3;\"/>\n   </g>\n   <g id=\"line2d_34\">\n    <path clip-path=\"url(#pe17e85c812)\" d=\"M 198.396222 85.483636 \nL 247.094403 85.483636 \n\" style=\"fill:none;stroke:#ff0000;stroke-linecap:square;stroke-width:3;\"/>\n   </g>\n   <g id=\"line2d_35\">\n    <path clip-path=\"url(#pe17e85c812)\" d=\"M 247.094403 85.483636 \nL 295.792585 85.483636 \n\" style=\"fill:none;stroke:#ff0000;stroke-linecap:square;stroke-width:3;\"/>\n   </g>\n   <g id=\"line2d_36\">\n    <path clip-path=\"url(#pe17e85c812)\" d=\"M 295.792585 85.483636 \nL 344.490767 85.483636 \n\" style=\"fill:none;stroke:#ff0000;stroke-linecap:square;stroke-width:3;\"/>\n   </g>\n   <g id=\"line2d_37\">\n    <path clip-path=\"url(#pe17e85c812)\" d=\"M 70.563494 115.92 \nL 100.999858 85.483636 \n\" style=\"fill:none;stroke:#ff0000;stroke-linecap:square;stroke-width:3;\"/>\n   </g>\n   <g id=\"line2d_38\">\n    <path clip-path=\"url(#pe17e85c812)\" d=\"M 100.999858 85.483636 \nL 149.69804 115.92 \n\" style=\"fill:none;stroke:#ff0000;stroke-linecap:square;stroke-width:3;\"/>\n   </g>\n   <g id=\"line2d_39\">\n    <path clip-path=\"url(#pe17e85c812)\" d=\"M 149.69804 115.92 \nL 198.396222 85.483636 \n\" style=\"fill:none;stroke:#ff0000;stroke-linecap:square;stroke-width:3;\"/>\n   </g>\n   <g id=\"line2d_40\">\n    <path clip-path=\"url(#pe17e85c812)\" d=\"M 198.396222 85.483636 \nL 247.094403 115.92 \n\" style=\"fill:none;stroke:#ff0000;stroke-linecap:square;stroke-width:3;\"/>\n   </g>\n   <g id=\"line2d_41\">\n    <path clip-path=\"url(#pe17e85c812)\" d=\"M 247.094403 85.483636 \nL 295.792585 115.92 \n\" style=\"fill:none;stroke:#ff0000;stroke-linecap:square;stroke-width:3;\"/>\n   </g>\n   <g id=\"line2d_42\">\n    <path clip-path=\"url(#pe17e85c812)\" d=\"M 295.792585 115.92 \nL 344.490767 85.483636 \n\" style=\"fill:none;stroke:#ff0000;stroke-linecap:square;stroke-width:3;\"/>\n   </g>\n   <g id=\"line2d_43\">\n    <path clip-path=\"url(#pe17e85c812)\" d=\"M 344.490767 85.483636 \nL 374.927131 115.92 \n\" style=\"fill:none;stroke:#ff0000;stroke-linecap:square;stroke-width:3;\"/>\n   </g>\n   <g id=\"line2d_44\">\n    <path clip-path=\"url(#pe17e85c812)\" d=\"M 100.999858 146.356364 \nL 149.69804 115.92 \n\" style=\"fill:none;stroke:#ff0000;stroke-linecap:square;stroke-width:3;\"/>\n   </g>\n   <g id=\"line2d_45\">\n    <path clip-path=\"url(#pe17e85c812)\" d=\"M 295.792585 115.92 \nL 344.490767 146.356364 \n\" style=\"fill:none;stroke:#ff0000;stroke-linecap:square;stroke-width:3;\"/>\n   </g>\n   <g id=\"line2d_46\">\n    <path clip-path=\"url(#pe17e85c812)\" d=\"M 100.999858 115.92 \nL 100.999858 85.483636 \n\" style=\"fill:none;stroke:#ff0000;stroke-linecap:square;stroke-width:3;\"/>\n   </g>\n   <g id=\"line2d_47\">\n    <path clip-path=\"url(#pe17e85c812)\" d=\"M 149.69804 85.483636 \nL 149.69804 115.92 \n\" style=\"fill:none;stroke:#ff0000;stroke-linecap:square;stroke-width:3;\"/>\n   </g>\n   <g id=\"line2d_48\">\n    <path clip-path=\"url(#pe17e85c812)\" d=\"M 198.396222 85.483636 \nL 198.396222 115.92 \n\" style=\"fill:none;stroke:#ff0000;stroke-linecap:square;stroke-width:3;\"/>\n   </g>\n   <g id=\"line2d_49\">\n    <path clip-path=\"url(#pe17e85c812)\" d=\"M 247.094403 85.483636 \nL 247.094403 115.92 \n\" style=\"fill:none;stroke:#ff0000;stroke-linecap:square;stroke-width:3;\"/>\n   </g>\n   <g id=\"line2d_50\">\n    <path clip-path=\"url(#pe17e85c812)\" d=\"M 295.792585 85.483636 \nL 295.792585 115.92 \n\" style=\"fill:none;stroke:#ff0000;stroke-linecap:square;stroke-width:3;\"/>\n   </g>\n   <g id=\"line2d_51\">\n    <path clip-path=\"url(#pe17e85c812)\" d=\"M 344.490767 85.483636 \nL 344.490767 115.92 \n\" style=\"fill:none;stroke:#ff0000;stroke-linecap:square;stroke-width:3;\"/>\n   </g>\n   <g id=\"line2d_52\">\n    <path clip-path=\"url(#pe17e85c812)\" d=\"M 198.396222 115.92 \nL 247.094403 85.483636 \n\" style=\"fill:none;stroke:#ff0000;stroke-linecap:square;stroke-width:3;\"/>\n   </g>\n   <g id=\"patch_3\">\n    <path d=\"M 55.345313 224.64 \nL 55.345313 7.2 \n\" style=\"fill:none;stroke:#000000;stroke-linecap:square;stroke-linejoin:miter;stroke-width:0.8;\"/>\n   </g>\n   <g id=\"patch_4\">\n    <path d=\"M 390.145312 224.64 \nL 390.145312 7.2 \n\" style=\"fill:none;stroke:#000000;stroke-linecap:square;stroke-linejoin:miter;stroke-width:0.8;\"/>\n   </g>\n   <g id=\"patch_5\">\n    <path d=\"M 55.345313 224.64 \nL 390.145312 224.64 \n\" style=\"fill:none;stroke:#000000;stroke-linecap:square;stroke-linejoin:miter;stroke-width:0.8;\"/>\n   </g>\n   <g id=\"patch_6\">\n    <path d=\"M 55.345313 7.2 \nL 390.145312 7.2 \n\" style=\"fill:none;stroke:#000000;stroke-linecap:square;stroke-linejoin:miter;stroke-width:0.8;\"/>\n   </g>\n  </g>\n </g>\n <defs>\n  <clipPath id=\"pe17e85c812\">\n   <rect height=\"217.44\" width=\"334.8\" x=\"55.345313\" y=\"7.2\"/>\n  </clipPath>\n </defs>\n</svg>\n",
      "image/png": "[encoded data removed]"
     },
     "metadata": {
      "needs_background": "light"
     }
    }
   ],
   "source": [
    "entrada = \"entrada.xlsx\"\n",
    "\n",
    "[nn,N,nm,Inc,nc,F,nr,R] = importa(entrada)\n",
    "\n",
    "plota(N, Inc)\n",
    "# geraSaida()"
   ]
  },
  {
   "cell_type": "markdown",
   "metadata": {},
   "source": [
    "### Informações sobre a treliça\n",
    "\n",
    "* nn: número de nós\n",
    "* N: Matriz dos nós\n",
    "* nm: número de membros\n",
    "* Inc: Matriz de incidência. Colunas:\n",
    "    1. Nó 1\n",
    "    2. Nó 2\n",
    "    3. E\n",
    "    4. A\n",
    "* nc: número de cargas\n",
    "* F: forças (Vetor carregamento)\n",
    "* nr: número de restrições\n",
    "* R: Restrições (Vetor com os graus de liberdade)"
   ]
  },
  {
   "cell_type": "code",
   "execution_count": 9,
   "metadata": {},
   "outputs": [],
   "source": [
    "# Comprimento \n",
    "L = 5\n",
    "#numero de nodes\n",
    "n = 16"
   ]
  },
  {
   "cell_type": "markdown",
   "metadata": {},
   "source": [
    "### Gerando a matriz de conectividade transposta"
   ]
  },
  {
   "cell_type": "code",
   "execution_count": 10,
   "metadata": {},
   "outputs": [
    {
     "output_type": "execute_result",
     "data": {
      "text/plain": [
       "array([[ 0,  0,  0,  0,  0,  0,  0,  0,  0,  0, -1,  0,  0,  0,  0,  0,\n",
       "         0,  0,  0,  0,  0,  0,  0,  0,  0,  0],\n",
       "       [-1,  0,  0,  0,  0,  0,  0,  0,  0,  0,  0,  0,  0,  0,  0,  0,\n",
       "         0,  0,  0, -1,  0,  0,  0,  0,  0,  0],\n",
       "       [ 1, -1,  0,  0,  0,  0,  0,  0,  0,  0,  0,  1, -1,  0,  0,  0,\n",
       "         0,  1,  0,  0,  1,  0,  0,  0,  0,  0],\n",
       "       [ 0,  1, -1,  0,  0,  0,  0,  0,  0,  0,  0,  0,  0,  0,  0,  0,\n",
       "         0,  0,  0,  0,  0,  1,  0,  0,  0, -1],\n",
       "       [ 0,  0,  1, -1,  0,  0,  0,  0,  0,  0,  0,  0,  0,  1,  0,  0,\n",
       "         0,  0,  0,  0,  0,  0,  1,  0,  0,  0],\n",
       "       [ 0,  0,  0,  1, -1,  0,  0,  0,  0,  0,  0,  0,  0,  0,  1, -1,\n",
       "         0,  0, -1,  0,  0,  0,  0,  1,  0,  0],\n",
       "       [ 0,  0,  0,  0,  1,  0,  0,  0,  0,  0,  0,  0,  0,  0,  0,  0,\n",
       "         0,  0,  0,  0,  0,  0,  0,  0,  1,  0],\n",
       "       [ 0,  0,  0,  0,  0,  0,  0,  0,  0,  0,  0,  0,  0,  0,  0,  0,\n",
       "         1,  0,  0,  0,  0,  0,  0,  0,  0,  0],\n",
       "       [ 0,  0,  0,  0,  0, -1,  0,  0,  0,  0,  1, -1,  0,  0,  0,  0,\n",
       "         0,  0,  0,  1,  0,  0,  0,  0,  0,  0],\n",
       "       [ 0,  0,  0,  0,  0,  1, -1,  0,  0,  0,  0,  0,  0,  0,  0,  0,\n",
       "         0,  0,  0,  0, -1,  0,  0,  0,  0,  0],\n",
       "       [ 0,  0,  0,  0,  0,  0,  1, -1,  0,  0,  0,  0,  1, -1,  0,  0,\n",
       "         0,  0,  0,  0,  0, -1,  0,  0,  0,  0],\n",
       "       [ 0,  0,  0,  0,  0,  0,  0,  1, -1,  0,  0,  0,  0,  0, -1,  0,\n",
       "         0,  0,  0,  0,  0,  0, -1,  0,  0,  1],\n",
       "       [ 0,  0,  0,  0,  0,  0,  0,  0,  1, -1,  0,  0,  0,  0,  0,  0,\n",
       "         0,  0,  0,  0,  0,  0,  0, -1,  0,  0],\n",
       "       [ 0,  0,  0,  0,  0,  0,  0,  0,  0,  1,  0,  0,  0,  0,  0,  1,\n",
       "        -1,  0,  0,  0,  0,  0,  0,  0, -1,  0],\n",
       "       [ 0,  0,  0,  0,  0,  0,  0,  0,  0,  0,  0,  0,  0,  0,  0,  0,\n",
       "         0, -1,  0,  0,  0,  0,  0,  0,  0,  0],\n",
       "       [ 0,  0,  0,  0,  0,  0,  0,  0,  0,  0,  0,  0,  0,  0,  0,  0,\n",
       "         0,  0,  1,  0,  0,  0,  0,  0,  0,  0]])"
      ]
     },
     "metadata": {},
     "execution_count": 10
    }
   ],
   "source": [
    "C = []\n",
    "for i in range(nm):\n",
    "        C_i = nn*[0]\n",
    "\n",
    "        no_1 = int(Inc[i, 0])\n",
    "        no_2 = int(Inc[i, 1])\n",
    "\n",
    "        C_i[no_1-1] = -1\n",
    "        C_i[no_2-1] = 1\n",
    "        C.append(C_i) \n",
    "\n",
    "C_t = np.array(C).T\n",
    "C_t"
   ]
  },
  {
   "cell_type": "markdown",
   "metadata": {},
   "source": [
    "### Matriz dos membros (M)"
   ]
  },
  {
   "cell_type": "code",
   "execution_count": 11,
   "metadata": {
    "scrolled": true
   },
   "outputs": [
    {
     "output_type": "stream",
     "name": "stdout",
     "text": [
      "[[ 80.  80.  80.  80.  80.  80.  80.  80.  80.  80.  50.  80.  80.  80.\n   80.  80.  50.  80.  80.   0.   0.   0.   0.   0.   0.  80.]\n [  0.   0.   0.   0.   0.   0.   0.   0.   0.   0.  50. -50.  50. -50.\n  -50.  50. -50.  50. -50.  50. -50. -50. -50. -50. -50.  50.]]\n"
     ]
    }
   ],
   "source": [
    "M = np.matmul(N, C_t)\n",
    "print(M)"
   ]
  },
  {
   "cell_type": "markdown",
   "metadata": {},
   "source": [
    "### Obtendo Se, Ke e Kg"
   ]
  },
  {
   "cell_type": "code",
   "execution_count": 12,
   "metadata": {},
   "outputs": [
    {
     "output_type": "stream",
     "name": "stdout",
     "text": [
      "[[ 5656.85424949  5656.85424949     0.         ...     0.\n      0.             0.        ]\n [ 5656.85424949  5656.85424949     0.         ...     0.\n      0.             0.        ]\n [    0.             0.         10000.         ...     0.\n      0.             0.        ]\n ...\n [    0.             0.             0.         ...  2382.01770788\n      0.             0.        ]\n [    0.             0.             0.         ...     0.\n   6097.9653337  -3811.22833356]\n [    0.             0.             0.         ...     0.\n  -3811.22833356  2382.01770847]]\n"
     ]
    }
   ],
   "source": [
    "len_linhas_M = len(M)\n",
    "len_linhas_C = len(C_t)\n",
    "Kg = np.zeros((nn*2, nn*2))\n",
    "for i in range(0, nm):\n",
    "    E = Inc[i,2]\n",
    "    A = Inc[i,3]\n",
    "    \n",
    "    n1 = Inc[i,0]\n",
    "    n2 = Inc[i,1]\n",
    "    \n",
    "    x1 = N[0][int(Inc[:,0][i])-1]\n",
    "    y1 = N[1][int(Inc[:,0][i])-1]\n",
    "    x2 = N[0][int(Inc[:,1][i])-1]\n",
    "    y2 = N[1][int(Inc[:,1][i])-1]    \n",
    "    \n",
    "    L = math.sqrt(((x1-x2)**2+(y1-y2)**2))\n",
    "    \n",
    "    const = E*A/L\n",
    "    \n",
    "    M_aux = M[:,i]\n",
    "    M_aux.shape = [len_linhas_M, 1]\n",
    "    M_aux2 = np.transpose(M_aux)\n",
    "    Se = (const * np.matmul(M_aux, M_aux2)) / (np.linalg.norm(M[:,i])**2)\n",
    "\n",
    "    C_aux = C_t[:,i]\n",
    "    C_aux.shape = [len_linhas_C, 1]\n",
    "    C_aux2 = np.transpose(C_aux)\n",
    "    \n",
    "    multi_C_aux = np.matmul(C_aux, C_aux2)\n",
    "    Ke = np.kron(multi_C_aux, Se)\n",
    "    Kg += Ke\n",
    "# print(Se)\n",
    "print(Kg)"
   ]
  },
  {
   "cell_type": "markdown",
   "metadata": {},
   "source": [
    "### Deslocamento nodal"
   ]
  },
  {
   "cell_type": "markdown",
   "metadata": {},
   "source": [
    "Aplicando as condições de contorno para a matriz das forças:"
   ]
  },
  {
   "cell_type": "code",
   "execution_count": 13,
   "metadata": {
    "scrolled": true
   },
   "outputs": [
    {
     "output_type": "execute_result",
     "data": {
      "text/plain": [
       "array([ 0.,  0.,  0.,  0.,  0.,  0.,  0.,  0.,  0.,  0.,  0.,  0.,  0.,\n",
       "       75.,  0., 75.,  0.,  0.,  0.,  0.])"
      ]
     },
     "metadata": {},
     "execution_count": 13
    }
   ],
   "source": [
    "F_c = np.delete(F, R.astype(int))\n",
    "F_c\n"
   ]
  },
  {
   "cell_type": "markdown",
   "metadata": {},
   "source": [
    "Aplicando as condições de contorno para a matriz da rigidez:"
   ]
  },
  {
   "cell_type": "code",
   "execution_count": 14,
   "metadata": {},
   "outputs": [
    {
     "output_type": "execute_result",
     "data": {
      "text/plain": [
       "array([[ 3.82938960e+04,  3.81122833e+03, -1.00000000e+04,\n",
       "         0.00000000e+00,  0.00000000e+00,  0.00000000e+00,\n",
       "         0.00000000e+00,  0.00000000e+00, -6.09796533e+03,\n",
       "         3.81122833e+03,  0.00000000e+00,  0.00000000e+00,\n",
       "        -6.09796533e+03, -3.81122833e+03,  0.00000000e+00,\n",
       "         0.00000000e+00,  0.00000000e+00,  0.00000000e+00,\n",
       "         0.00000000e+00,  0.00000000e+00],\n",
       "       [ 3.81122833e+03,  2.31460531e+04,  0.00000000e+00,\n",
       "         0.00000000e+00,  0.00000000e+00,  0.00000000e+00,\n",
       "         0.00000000e+00,  0.00000000e+00,  3.81122833e+03,\n",
       "        -2.38201771e+03,  0.00000000e+00, -1.60000000e+04,\n",
       "        -3.81122833e+03, -2.38201771e+03,  0.00000000e+00,\n",
       "         0.00000000e+00,  0.00000000e+00,  0.00000000e+00,\n",
       "         0.00000000e+00,  0.00000000e+00],\n",
       "       [-1.00000000e+04,  0.00000000e+00,  2.60979653e+04,\n",
       "         3.81122834e+03, -1.00000000e+04,  0.00000000e+00,\n",
       "         0.00000000e+00,  0.00000000e+00,  0.00000000e+00,\n",
       "         0.00000000e+00,  0.00000000e+00,  0.00000000e+00,\n",
       "         0.00000000e+00,  0.00000000e+00, -6.09796534e+03,\n",
       "        -3.81122834e+03,  0.00000000e+00,  0.00000000e+00,\n",
       "         0.00000000e+00,  0.00000000e+00],\n",
       "       [ 0.00000000e+00,  0.00000000e+00,  3.81122834e+03,\n",
       "         1.83820177e+04,  0.00000000e+00,  0.00000000e+00,\n",
       "         0.00000000e+00,  0.00000000e+00,  0.00000000e+00,\n",
       "         0.00000000e+00,  0.00000000e+00,  0.00000000e+00,\n",
       "         0.00000000e+00, -1.60000000e+04, -3.81122834e+03,\n",
       "        -2.38201771e+03,  0.00000000e+00,  0.00000000e+00,\n",
       "         0.00000000e+00,  0.00000000e+00],\n",
       "       [ 0.00000000e+00,  0.00000000e+00, -1.00000000e+04,\n",
       "         0.00000000e+00,  2.60979653e+04, -3.81122833e+03,\n",
       "        -1.00000000e+04,  0.00000000e+00,  0.00000000e+00,\n",
       "         0.00000000e+00,  0.00000000e+00,  0.00000000e+00,\n",
       "        -6.09796533e+03,  3.81122833e+03,  0.00000000e+00,\n",
       "         0.00000000e+00,  0.00000000e+00,  0.00000000e+00,\n",
       "         0.00000000e+00,  0.00000000e+00],\n",
       "       [ 0.00000000e+00,  0.00000000e+00,  0.00000000e+00,\n",
       "         0.00000000e+00, -3.81122833e+03,  1.83820177e+04,\n",
       "         0.00000000e+00,  0.00000000e+00,  0.00000000e+00,\n",
       "         0.00000000e+00,  0.00000000e+00,  0.00000000e+00,\n",
       "         3.81122833e+03, -2.38201771e+03,  0.00000000e+00,\n",
       "        -1.60000000e+04,  0.00000000e+00,  0.00000000e+00,\n",
       "         0.00000000e+00,  0.00000000e+00],\n",
       "       [ 0.00000000e+00,  0.00000000e+00,  0.00000000e+00,\n",
       "         0.00000000e+00, -1.00000000e+04,  0.00000000e+00,\n",
       "         3.82938960e+04, -3.81122833e+03,  0.00000000e+00,\n",
       "         0.00000000e+00,  0.00000000e+00,  0.00000000e+00,\n",
       "         0.00000000e+00,  0.00000000e+00, -6.09796533e+03,\n",
       "         3.81122833e+03,  0.00000000e+00,  0.00000000e+00,\n",
       "        -6.09796533e+03, -3.81122833e+03],\n",
       "       [ 0.00000000e+00,  0.00000000e+00,  0.00000000e+00,\n",
       "         0.00000000e+00,  0.00000000e+00,  0.00000000e+00,\n",
       "        -3.81122833e+03,  2.31460531e+04,  0.00000000e+00,\n",
       "         0.00000000e+00,  0.00000000e+00,  0.00000000e+00,\n",
       "         0.00000000e+00,  0.00000000e+00,  3.81122833e+03,\n",
       "        -2.38201771e+03,  0.00000000e+00, -1.60000000e+04,\n",
       "        -3.81122833e+03, -2.38201771e+03],\n",
       "       [-6.09796533e+03,  3.81122833e+03,  0.00000000e+00,\n",
       "         0.00000000e+00,  0.00000000e+00,  0.00000000e+00,\n",
       "         0.00000000e+00,  0.00000000e+00,  2.17548196e+04,\n",
       "         1.84562592e+03, -1.00000000e+04,  0.00000000e+00,\n",
       "         0.00000000e+00,  0.00000000e+00,  0.00000000e+00,\n",
       "         0.00000000e+00,  0.00000000e+00,  0.00000000e+00,\n",
       "         0.00000000e+00,  0.00000000e+00],\n",
       "       [ 3.81122833e+03, -2.38201771e+03,  0.00000000e+00,\n",
       "         0.00000000e+00,  0.00000000e+00,  0.00000000e+00,\n",
       "         0.00000000e+00,  0.00000000e+00,  1.84562592e+03,\n",
       "         2.40388720e+04,  0.00000000e+00,  0.00000000e+00,\n",
       "         0.00000000e+00,  0.00000000e+00,  0.00000000e+00,\n",
       "         0.00000000e+00,  0.00000000e+00,  0.00000000e+00,\n",
       "         0.00000000e+00,  0.00000000e+00],\n",
       "       [ 0.00000000e+00,  0.00000000e+00,  0.00000000e+00,\n",
       "         0.00000000e+00,  0.00000000e+00,  0.00000000e+00,\n",
       "         0.00000000e+00,  0.00000000e+00, -1.00000000e+04,\n",
       "         0.00000000e+00,  2.00000000e+04,  0.00000000e+00,\n",
       "        -1.00000000e+04,  0.00000000e+00,  0.00000000e+00,\n",
       "         0.00000000e+00,  0.00000000e+00,  0.00000000e+00,\n",
       "         0.00000000e+00,  0.00000000e+00],\n",
       "       [ 0.00000000e+00, -1.60000000e+04,  0.00000000e+00,\n",
       "         0.00000000e+00,  0.00000000e+00,  0.00000000e+00,\n",
       "         0.00000000e+00,  0.00000000e+00,  0.00000000e+00,\n",
       "         0.00000000e+00,  0.00000000e+00,  1.60000000e+04,\n",
       "         0.00000000e+00,  0.00000000e+00,  0.00000000e+00,\n",
       "         0.00000000e+00,  0.00000000e+00,  0.00000000e+00,\n",
       "         0.00000000e+00,  0.00000000e+00],\n",
       "       [-6.09796533e+03, -3.81122833e+03,  0.00000000e+00,\n",
       "         0.00000000e+00, -6.09796533e+03,  3.81122833e+03,\n",
       "         0.00000000e+00,  0.00000000e+00,  0.00000000e+00,\n",
       "         0.00000000e+00, -1.00000000e+04,  0.00000000e+00,\n",
       "         3.21959307e+04,  0.00000000e+00, -1.00000000e+04,\n",
       "         0.00000000e+00,  0.00000000e+00,  0.00000000e+00,\n",
       "         0.00000000e+00,  0.00000000e+00],\n",
       "       [-3.81122833e+03, -2.38201771e+03,  0.00000000e+00,\n",
       "        -1.60000000e+04,  3.81122833e+03, -2.38201771e+03,\n",
       "         0.00000000e+00,  0.00000000e+00,  0.00000000e+00,\n",
       "         0.00000000e+00,  0.00000000e+00,  0.00000000e+00,\n",
       "         0.00000000e+00,  2.07640354e+04,  0.00000000e+00,\n",
       "         0.00000000e+00,  0.00000000e+00,  0.00000000e+00,\n",
       "         0.00000000e+00,  0.00000000e+00],\n",
       "       [ 0.00000000e+00,  0.00000000e+00, -6.09796534e+03,\n",
       "        -3.81122834e+03,  0.00000000e+00,  0.00000000e+00,\n",
       "        -6.09796533e+03,  3.81122833e+03,  0.00000000e+00,\n",
       "         0.00000000e+00,  0.00000000e+00,  0.00000000e+00,\n",
       "        -1.00000000e+04,  0.00000000e+00,  3.21959307e+04,\n",
       "         7.62245736e-06, -1.00000000e+04,  0.00000000e+00,\n",
       "         0.00000000e+00,  0.00000000e+00],\n",
       "       [ 0.00000000e+00,  0.00000000e+00, -3.81122834e+03,\n",
       "        -2.38201771e+03,  0.00000000e+00, -1.60000000e+04,\n",
       "         3.81122833e+03, -2.38201771e+03,  0.00000000e+00,\n",
       "         0.00000000e+00,  0.00000000e+00,  0.00000000e+00,\n",
       "         0.00000000e+00,  0.00000000e+00,  7.62245736e-06,\n",
       "         2.07640354e+04,  0.00000000e+00,  0.00000000e+00,\n",
       "         0.00000000e+00,  0.00000000e+00],\n",
       "       [ 0.00000000e+00,  0.00000000e+00,  0.00000000e+00,\n",
       "         0.00000000e+00,  0.00000000e+00,  0.00000000e+00,\n",
       "         0.00000000e+00,  0.00000000e+00,  0.00000000e+00,\n",
       "         0.00000000e+00,  0.00000000e+00,  0.00000000e+00,\n",
       "         0.00000000e+00,  0.00000000e+00, -1.00000000e+04,\n",
       "         0.00000000e+00,  2.00000000e+04,  0.00000000e+00,\n",
       "        -1.00000000e+04,  0.00000000e+00],\n",
       "       [ 0.00000000e+00,  0.00000000e+00,  0.00000000e+00,\n",
       "         0.00000000e+00,  0.00000000e+00,  0.00000000e+00,\n",
       "         0.00000000e+00, -1.60000000e+04,  0.00000000e+00,\n",
       "         0.00000000e+00,  0.00000000e+00,  0.00000000e+00,\n",
       "         0.00000000e+00,  0.00000000e+00,  0.00000000e+00,\n",
       "         0.00000000e+00,  0.00000000e+00,  1.60000000e+04,\n",
       "         0.00000000e+00,  0.00000000e+00],\n",
       "       [ 0.00000000e+00,  0.00000000e+00,  0.00000000e+00,\n",
       "         0.00000000e+00,  0.00000000e+00,  0.00000000e+00,\n",
       "        -6.09796533e+03, -3.81122833e+03,  0.00000000e+00,\n",
       "         0.00000000e+00,  0.00000000e+00,  0.00000000e+00,\n",
       "         0.00000000e+00,  0.00000000e+00,  0.00000000e+00,\n",
       "         0.00000000e+00, -1.00000000e+04,  0.00000000e+00,\n",
       "         2.17548196e+04, -1.84562592e+03],\n",
       "       [ 0.00000000e+00,  0.00000000e+00,  0.00000000e+00,\n",
       "         0.00000000e+00,  0.00000000e+00,  0.00000000e+00,\n",
       "        -3.81122833e+03, -2.38201771e+03,  0.00000000e+00,\n",
       "         0.00000000e+00,  0.00000000e+00,  0.00000000e+00,\n",
       "         0.00000000e+00,  0.00000000e+00,  0.00000000e+00,\n",
       "         0.00000000e+00,  0.00000000e+00,  0.00000000e+00,\n",
       "        -1.84562592e+03,  2.40388720e+04]])"
      ]
     },
     "metadata": {},
     "execution_count": 14
    }
   ],
   "source": [
    "Kg_c = np.delete(Kg, R.astype(int),0)\n",
    "Kg_c = np.delete(Kg_c, R.astype(int), 1)\n",
    "Kg_c"
   ]
  },
  {
   "source": [
    "___\n",
    "**Funções de Jacobi e Gauss-Seidel utilizadas na aula 21:**"
   ],
   "cell_type": "markdown",
   "metadata": {}
  },
  {
   "cell_type": "code",
   "execution_count": 15,
   "metadata": {},
   "outputs": [],
   "source": [
    "def jacobi(k,F,ite,tol):\n",
    "    #inicializando X com \n",
    "    x = np.zeros(k.shape[0])\n",
    "\n",
    "    # Cria um vetor com os elementos da diagonal de k                       \n",
    "    diagonal = np.diag(k)\n",
    "    # Subtrai a diagonal de K\n",
    "    k_d = k - np.diagflat(diagonal)\n",
    "    # loop até chegar abaixo da tolerância ou passar do número máximo de iterações\n",
    "    for i in range(ite):\n",
    "        x2 = (F - np.matmul(k_d,x)) / diagonal\n",
    "        error =  max(abs((x2 - x)/x2) )\n",
    "        if error < tol:\n",
    "            print(f\"Erro máximo: {error}\")\n",
    "            print(f\"Convergiu na iteração: {i}\")\n",
    "            return x2\n",
    "        \n",
    "        x = x2\n",
    "    return x"
   ]
  },
  {
   "cell_type": "code",
   "execution_count": 16,
   "metadata": {},
   "outputs": [],
   "source": [
    "def gauss_seidel(A, b, ite, tol):\n",
    "    x = np.zeros_like(b, dtype=np.double)\n",
    "    \n",
    "    #Iterate\n",
    "    for k in range(ite):\n",
    "        \n",
    "        x_old  = x.copy()\n",
    "        \n",
    "        #Loop over rows\n",
    "        for i in range(A.shape[0]):\n",
    "            x[i] = (b[i] - np.dot(A[i,:i], x[:i]) - np.dot(A[i,(i+1):], x_old[(i+1):])) / A[i ,i]\n",
    "            \n",
    "        #Stop condition \n",
    "        if np.linalg.norm(x - x_old, ord=np.inf) / np.linalg.norm(x, ord=np.inf) < tol:\n",
    "            break\n",
    "            \n",
    "    return x"
   ]
  },
  {
   "source": [
    "___\n",
    "Utilizando Jacobi, Gauss-Seidel e a forma geral para cálculo da matriz **U**"
   ],
   "cell_type": "markdown",
   "metadata": {}
  },
  {
   "cell_type": "code",
   "execution_count": 17,
   "metadata": {},
   "outputs": [
    {
     "output_type": "stream",
     "name": "stderr",
     "text": [
      "<ipython-input-15-262c35adf621>:12: RuntimeWarning: invalid value encountered in true_divide\n  error =  max(abs((x2 - x)/x2) )\n"
     ]
    }
   ],
   "source": [
    "u_jacobi = jacobi(Kg_c, F_c, 100, 1e-5)"
   ]
  },
  {
   "cell_type": "code",
   "execution_count": 18,
   "metadata": {},
   "outputs": [
    {
     "output_type": "execute_result",
     "data": {
      "text/plain": [
       "array([-1.09593264,  0.4288049 ,  4.63496717,  7.79522066, -4.63496716,\n",
       "        7.79522066,  1.09593264,  0.4288049 ,  1.1802917 , -0.11080247,\n",
       "       -2.03369068, -0.35366354,  3.27043316, -6.80127024, -3.27043316,\n",
       "       -6.80127024,  2.03369068, -0.35366354, -1.1802917 , -0.11080247])"
      ]
     },
     "metadata": {},
     "execution_count": 18
    }
   ],
   "source": [
    "u_jacobi"
   ]
  },
  {
   "cell_type": "code",
   "execution_count": 19,
   "metadata": {},
   "outputs": [],
   "source": [
    "u_gauss = gauss_seidel(Kg_c, F_c, 100, 1e-5)"
   ]
  },
  {
   "cell_type": "code",
   "execution_count": 20,
   "metadata": {},
   "outputs": [
    {
     "output_type": "execute_result",
     "data": {
      "text/plain": [
       "array([ 0.00292797,  0.02100353,  0.00160035,  0.06590212, -0.00160111,\n",
       "        0.06590435, -0.00292881,  0.02100668, -0.00546208,  0.00203639,\n",
       "       -0.00528966,  0.02100353, -0.00511886,  0.06519501,  0.00511447,\n",
       "        0.06519685,  0.00528705,  0.02100668,  0.00546219,  0.00203658])"
      ]
     },
     "metadata": {},
     "execution_count": 20
    }
   ],
   "source": [
    "u_gauss"
   ]
  },
  {
   "cell_type": "markdown",
   "metadata": {},
   "source": [
    "**Deslocamentos nodais**"
   ]
  },
  {
   "cell_type": "code",
   "execution_count": 21,
   "metadata": {},
   "outputs": [
    {
     "output_type": "execute_result",
     "data": {
      "text/plain": [
       "array([ 0.00293888,  0.02118023,  0.00160656,  0.06634306, -0.00160656,\n",
       "        0.06634306, -0.00293888,  0.02118023, -0.00551161,  0.00205597,\n",
       "       -0.00533081,  0.02118023, -0.00515001,  0.06560838,  0.00515001,\n",
       "        0.06560838,  0.00533081,  0.02118023,  0.00551161,  0.00205597])"
      ]
     },
     "metadata": {},
     "execution_count": 21
    }
   ],
   "source": [
    "U_ar = np.linalg.solve(Kg_c, F_c)\n",
    "U_ar"
   ]
  },
  {
   "cell_type": "markdown",
   "metadata": {},
   "source": [
    "**Ajustando o tamanho das matrizes U**"
   ]
  },
  {
   "cell_type": "code",
   "execution_count": 22,
   "metadata": {},
   "outputs": [
    {
     "output_type": "execute_result",
     "data": {
      "text/plain": [
       "array([[ 0.        ],\n",
       "       [ 0.        ],\n",
       "       [ 0.        ],\n",
       "       [ 0.        ],\n",
       "       [-1.09593264],\n",
       "       [ 0.4288049 ],\n",
       "       [ 4.63496717],\n",
       "       [ 7.79522066],\n",
       "       [-4.63496716],\n",
       "       [ 7.79522066],\n",
       "       [ 1.09593264],\n",
       "       [ 0.4288049 ],\n",
       "       [ 0.        ],\n",
       "       [ 0.        ],\n",
       "       [ 0.        ],\n",
       "       [ 0.        ],\n",
       "       [ 1.1802917 ],\n",
       "       [-0.11080247],\n",
       "       [-2.03369068],\n",
       "       [-0.35366354],\n",
       "       [ 3.27043316],\n",
       "       [-6.80127024],\n",
       "       [-3.27043316],\n",
       "       [-6.80127024],\n",
       "       [ 2.03369068],\n",
       "       [-0.35366354],\n",
       "       [-1.1802917 ],\n",
       "       [-0.11080247],\n",
       "       [ 0.        ],\n",
       "       [ 0.        ],\n",
       "       [ 0.        ],\n",
       "       [ 0.        ]])"
      ]
     },
     "metadata": {},
     "execution_count": 22
    }
   ],
   "source": [
    "u_jacobi_ajustado = np.zeros((nn*2,1))\n",
    "i = 0\n",
    "for e in range(len(u_jacobi_ajustado)):\n",
    "    if e not in R:\n",
    "        u_jacobi_ajustado[e] += u_jacobi[i]\n",
    "        i += 1\n",
    "u_jacobi_ajustado"
   ]
  },
  {
   "cell_type": "code",
   "execution_count": 23,
   "metadata": {},
   "outputs": [
    {
     "output_type": "execute_result",
     "data": {
      "text/plain": [
       "array([[ 0.        ],\n",
       "       [ 0.        ],\n",
       "       [ 0.        ],\n",
       "       [ 0.        ],\n",
       "       [ 0.00292797],\n",
       "       [ 0.02100353],\n",
       "       [ 0.00160035],\n",
       "       [ 0.06590212],\n",
       "       [-0.00160111],\n",
       "       [ 0.06590435],\n",
       "       [-0.00292881],\n",
       "       [ 0.02100668],\n",
       "       [ 0.        ],\n",
       "       [ 0.        ],\n",
       "       [ 0.        ],\n",
       "       [ 0.        ],\n",
       "       [-0.00546208],\n",
       "       [ 0.00203639],\n",
       "       [-0.00528966],\n",
       "       [ 0.02100353],\n",
       "       [-0.00511886],\n",
       "       [ 0.06519501],\n",
       "       [ 0.00511447],\n",
       "       [ 0.06519685],\n",
       "       [ 0.00528705],\n",
       "       [ 0.02100668],\n",
       "       [ 0.00546219],\n",
       "       [ 0.00203658],\n",
       "       [ 0.        ],\n",
       "       [ 0.        ],\n",
       "       [ 0.        ],\n",
       "       [ 0.        ]])"
      ]
     },
     "metadata": {},
     "execution_count": 23
    }
   ],
   "source": [
    "u_gauss_ajustado = np.zeros((nn*2,1))\n",
    "i = 0\n",
    "for e in range(len(u_gauss_ajustado)):\n",
    "    if e not in R:\n",
    "        u_gauss_ajustado[e] += u_gauss[i]\n",
    "        i += 1\n",
    "u_gauss_ajustado"
   ]
  },
  {
   "cell_type": "code",
   "execution_count": 24,
   "metadata": {},
   "outputs": [
    {
     "output_type": "execute_result",
     "data": {
      "text/plain": [
       "array([[ 0.        ],\n",
       "       [ 0.        ],\n",
       "       [ 0.        ],\n",
       "       [ 0.        ],\n",
       "       [ 0.00293888],\n",
       "       [ 0.02118023],\n",
       "       [ 0.00160656],\n",
       "       [ 0.06634306],\n",
       "       [-0.00160656],\n",
       "       [ 0.06634306],\n",
       "       [-0.00293888],\n",
       "       [ 0.02118023],\n",
       "       [ 0.        ],\n",
       "       [ 0.        ],\n",
       "       [ 0.        ],\n",
       "       [ 0.        ],\n",
       "       [-0.00551161],\n",
       "       [ 0.00205597],\n",
       "       [-0.00533081],\n",
       "       [ 0.02118023],\n",
       "       [-0.00515001],\n",
       "       [ 0.06560838],\n",
       "       [ 0.00515001],\n",
       "       [ 0.06560838],\n",
       "       [ 0.00533081],\n",
       "       [ 0.02118023],\n",
       "       [ 0.00551161],\n",
       "       [ 0.00205597],\n",
       "       [ 0.        ],\n",
       "       [ 0.        ],\n",
       "       [ 0.        ],\n",
       "       [ 0.        ]])"
      ]
     },
     "metadata": {},
     "execution_count": 24
    }
   ],
   "source": [
    "u = np.zeros((nn*2,1))\n",
    "i = 0\n",
    "for e in range(len(u)):\n",
    "    if e not in R:\n",
    "        u[e] += U_ar[i]\n",
    "        i += 1\n",
    "u"
   ]
  },
  {
   "cell_type": "markdown",
   "metadata": {},
   "source": [
    "### Reações de apoio"
   ]
  },
  {
   "cell_type": "code",
   "execution_count": 25,
   "metadata": {
    "scrolled": false
   },
   "outputs": [
    {
     "output_type": "execute_result",
     "data": {
      "text/plain": [
       "array([[ 1.95480493e+01],\n",
       "       [ 1.95480493e+01],\n",
       "       [-2.93888499e+01],\n",
       "       [-3.28955936e+01],\n",
       "       [ 0.00000000e+00],\n",
       "       [-7.99360578e-14],\n",
       "       [ 4.21884749e-14],\n",
       "       [ 1.19015908e-13],\n",
       "       [ 7.77156117e-14],\n",
       "       [ 7.10542736e-15],\n",
       "       [-2.84217094e-14],\n",
       "       [ 7.46069873e-14],\n",
       "       [ 2.93888499e+01],\n",
       "       [-3.28955936e+01],\n",
       "       [-1.95480493e+01],\n",
       "       [ 1.95480493e+01],\n",
       "       [ 0.00000000e+00],\n",
       "       [ 1.50990331e-14],\n",
       "       [-1.42108547e-14],\n",
       "       [ 5.68434189e-14],\n",
       "       [-8.52651283e-14],\n",
       "       [ 7.50000000e+01],\n",
       "       [-5.68434189e-14],\n",
       "       [ 7.50000000e+01],\n",
       "       [ 0.00000000e+00],\n",
       "       [-1.13686838e-13],\n",
       "       [-1.42108547e-14],\n",
       "       [-2.28705943e-14],\n",
       "       [-9.86439291e+01],\n",
       "       [-6.16524557e+01],\n",
       "       [ 9.86439291e+01],\n",
       "       [-6.16524557e+01]])"
      ]
     },
     "metadata": {},
     "execution_count": 25
    }
   ],
   "source": [
    "P = np.matmul(Kg,u)\n",
    "P"
   ]
  },
  {
   "cell_type": "code",
   "execution_count": 26,
   "metadata": {
    "scrolled": true
   },
   "outputs": [
    {
     "output_type": "execute_result",
     "data": {
      "text/plain": [
       "array([[ 19.54804934],\n",
       "       [ 19.54804934],\n",
       "       [-29.38884989],\n",
       "       [-32.89559362],\n",
       "       [-98.64392914],\n",
       "       [-61.65245572],\n",
       "       [ 29.38884989],\n",
       "       [-32.89559363],\n",
       "       [-19.54804934],\n",
       "       [ 19.54804934],\n",
       "       [ 98.64392915],\n",
       "       [-61.65245572]])"
      ]
     },
     "metadata": {},
     "execution_count": 26
    }
   ],
   "source": [
    "P_r = np.zeros((nr,1))\n",
    "for i in range(nr):  \n",
    "    index = int(R[i])\n",
    "    P_r[i] = P[index]    \n",
    "P_r"
   ]
  },
  {
   "cell_type": "markdown",
   "metadata": {},
   "source": [
    "### Deformações, Tenões e Forças internas"
   ]
  },
  {
   "cell_type": "code",
   "execution_count": null,
   "metadata": {},
   "outputs": [],
   "source": []
  },
  {
   "cell_type": "code",
   "execution_count": 27,
   "metadata": {},
   "outputs": [],
   "source": [
    "deformacoes=[]\n",
    "tensoes=[]\n",
    "forcas=[]\n",
    "for i in range (nm):\n",
    "        \n",
    "    matriz = [\n",
    "            u[(int(Inc[i, 0])-1)*2], \n",
    "            u[(int(Inc[i, 0])-1)*2 +1], \n",
    "            u[(int(Inc[i, 1])-1)*2], \n",
    "            u[int(Inc[i, 1]-1)*2 +1]\n",
    "    ]\n",
    "    \n",
    "    x1 = N[0][int(Inc[:,0][i])-1]\n",
    "    y1 = N[1][int(Inc[:,0][i])-1]\n",
    "    x2 = N[0][int(Inc[:,1][i])-1]\n",
    "    y2 = N[1][int(Inc[:,1][i])-1]    \n",
    "    \n",
    "    L = math.sqrt(((x1-x2)**2+(y1-y2)**2))  \n",
    "    \n",
    "    E =  Inc[i, 2]\n",
    "    A = Inc[i,3]\n",
    "    const = E*A/L\n",
    "    \n",
    "    s = (y2-y1)/L\n",
    "    c = (x2-x1)/L\n",
    "    \n",
    "    C = [-c, -s, c, s]\n",
    "\n",
    "    deformacao = (1/L) * np.matmul(C, matriz)\n",
    "    tensao = deformacao*E\n",
    "    forca=tensao*A\n",
    "    \n",
    "    deformacoes.append(deformacao)\n",
    "    tensoes.append(tensao)\n",
    "    forcas.append(forca)\n",
    "\n"
   ]
  },
  {
   "cell_type": "code",
   "execution_count": 28,
   "metadata": {},
   "outputs": [
    {
     "output_type": "execute_result",
     "data": {
      "text/plain": [
       "[array([3.67360624e-05]),\n",
       " array([-1.66541148e-05]),\n",
       " array([-4.01638952e-05]),\n",
       " array([-1.66541148e-05]),\n",
       " array([3.67360624e-05]),\n",
       " array([2.26002689e-06]),\n",
       " array([2.26002689e-06]),\n",
       " array([0.00012875]),\n",
       " array([2.26002689e-06]),\n",
       " array([2.26002689e-06]),\n",
       " array([-3.45563956e-05]),\n",
       " array([-3.14801202e-05]),\n",
       " array([0.00017689]),\n",
       " array([2.77238531e-05]),\n",
       " array([0.00017689]),\n",
       " array([-3.14801202e-05]),\n",
       " array([-3.45563956e-05]),\n",
       " array([0.00014541]),\n",
       " array([0.00014541]),\n",
       " array([4.1119492e-05]),\n",
       " array([6.9388939e-20]),\n",
       " array([-1.46936127e-05]),\n",
       " array([-1.46936127e-05]),\n",
       " array([-1.38777878e-19]),\n",
       " array([4.1119492e-05]),\n",
       " array([2.7723853e-05])]"
      ]
     },
     "metadata": {},
     "execution_count": 28
    }
   ],
   "source": [
    "deformacoes"
   ]
  },
  {
   "cell_type": "code",
   "execution_count": 29,
   "metadata": {},
   "outputs": [
    {
     "output_type": "execute_result",
     "data": {
      "text/plain": [
       "[array([146944.24944765]),\n",
       " array([-66616.45909275]),\n",
       " array([-160655.58071734]),\n",
       " array([-66616.45908344]),\n",
       " array([146944.24944589]),\n",
       " array([9040.10757009]),\n",
       " array([9040.10757009]),\n",
       " array([515000.98592688]),\n",
       " array([9040.10754216]),\n",
       " array([9040.10754216]),\n",
       " array([-138225.582473]),\n",
       " array([-125920.48093243]),\n",
       " array([707548.58489327]),\n",
       " array([110895.41239617]),\n",
       " array([707548.58491522]),\n",
       " array([-125920.4809259]),\n",
       " array([-138225.58250467]),\n",
       " array([581628.10396084]),\n",
       " array([581628.10398932]),\n",
       " array([164477.96811899]),\n",
       " array([2.77555756e-10]),\n",
       " array([-58774.45101537]),\n",
       " array([-58774.45102119]),\n",
       " array([-5.55111513e-10]),\n",
       " array([164477.96813793]),\n",
       " array([110895.41238519])]"
      ]
     },
     "metadata": {},
     "execution_count": 29
    }
   ],
   "source": [
    "tensoes"
   ]
  },
  {
   "cell_type": "code",
   "execution_count": 30,
   "metadata": {},
   "outputs": [
    {
     "output_type": "execute_result",
     "data": {
      "text/plain": [
       "[array([29.38884989]),\n",
       " array([-13.32329182]),\n",
       " array([-32.13111614]),\n",
       " array([-13.32329182]),\n",
       " array([29.38884989]),\n",
       " array([1.80802151]),\n",
       " array([1.80802151]),\n",
       " array([103.00019719]),\n",
       " array([1.80802151]),\n",
       " array([1.80802151]),\n",
       " array([-27.64511649]),\n",
       " array([-25.18409619]),\n",
       " array([141.50971698]),\n",
       " array([22.17908248]),\n",
       " array([141.50971698]),\n",
       " array([-25.18409619]),\n",
       " array([-27.6451165]),\n",
       " array([116.32562079]),\n",
       " array([116.3256208]),\n",
       " array([32.89559362]),\n",
       " array([5.55111513e-14]),\n",
       " array([-11.7548902]),\n",
       " array([-11.7548902]),\n",
       " array([-1.11022303e-13]),\n",
       " array([32.89559363]),\n",
       " array([22.17908248])]"
      ]
     },
     "metadata": {},
     "execution_count": 30
    }
   ],
   "source": [
    "forcas"
   ]
  },
  {
   "source": [
    "___\n",
    "**Gerando Saídas com as 3 matrizes U calculadas anteriormente**"
   ],
   "cell_type": "markdown",
   "metadata": {}
  },
  {
   "cell_type": "code",
   "execution_count": 31,
   "metadata": {},
   "outputs": [],
   "source": [
    "geraSaida(\"geral\", P_r, u, deformacoes, forcas, tensoes)"
   ]
  },
  {
   "cell_type": "code",
   "execution_count": 32,
   "metadata": {},
   "outputs": [],
   "source": [
    "geraSaida(\"jacobi\", P_r, u_jacobi_ajustado, deformacoes, forcas, tensoes)"
   ]
  },
  {
   "cell_type": "code",
   "execution_count": 33,
   "metadata": {},
   "outputs": [],
   "source": [
    "geraSaida(\"gauss\", P_r, u_gauss_ajustado, deformacoes, forcas, tensoes)"
   ]
  },
  {
   "cell_type": "code",
   "execution_count": null,
   "metadata": {},
   "outputs": [],
   "source": []
  }
 ],
 "metadata": {
  "kernelspec": {
   "display_name": "Python 3",
   "language": "python",
   "name": "python3"
  },
  "language_info": {
   "codemirror_mode": {
    "name": "ipython",
    "version": 3
   },
   "file_extension": ".py",
   "mimetype": "text/x-python",
   "name": "python",
   "nbconvert_exporter": "python",
   "pygments_lexer": "ipython3",
   "version": "3.8.5"
  }
 },
 "nbformat": 4,
 "nbformat_minor": 2
}