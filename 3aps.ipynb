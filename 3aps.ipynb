{
 "cells": [
  {
   "cell_type": "markdown",
   "metadata": {},
   "source": [
    "# APS 3\n",
    "\n",
    "___"
   ]
  },
  {
   "cell_type": "markdown",
   "metadata": {},
   "source": [
    "####  <font style='font-family:Georgia' color='darkturquoise'> Arthur"
   ]
  },
  {
   "cell_type": "markdown",
   "metadata": {},
   "source": [
    "### Importando bibliotecas e valores"
   ]
  },
  {
   "cell_type": "code",
   "execution_count": 4,
   "metadata": {},
   "outputs": [],
   "source": [
    "from funcoesTermosol import *\n",
    "import numpy as np\n",
    "import math\n",
    "from time import perf_counter"
   ]
  },
  {
   "cell_type": "code",
   "execution_count": 5,
   "metadata": {},
   "outputs": [],
   "source": [
    "def matprint(mat, fmt=\"g\"):        # Credits to braingineer https://gist.github.com/braingineer/d801735dac07ff3ac4d746e1f218ab75\n",
    "    col_maxes = [max([len((\"{:\"+fmt+\"}\").format(x)) for x in col]) for col in mat.T]\n",
    "    for x in mat:\n",
    "        for i, y in enumerate(x):\n",
    "            print((\"{:\"+str(col_maxes[i])+fmt+\"}\").format(y), end=\"  \")\n",
    "        print(\"\")"
   ]
  },
  {
   "cell_type": "markdown",
   "metadata": {},
   "source": [
    "### Representação da estrutura"
   ]
  },
  {
   "cell_type": "code",
   "execution_count": 6,
   "metadata": {
    "scrolled": false
   },
   "outputs": [
    {
     "data": {
      "image/png": "[encoded data removed]",
      "text/plain": [
       "<Figure size 432x288 with 1 Axes>"
      ]
     },
     "metadata": {
      "needs_background": "light"
     },
     "output_type": "display_data"
    }
   ],
   "source": [
    "entrada = \"aps3_entrada.xlsx\"\n",
    "\n",
    "[nn,N,nm,Inc,nc,F,nr,R] = importa(entrada)\n",
    "\n",
    "plota(N, Inc)\n",
    "# geraSaida()"
   ]
  },
  {
   "cell_type": "markdown",
   "metadata": {},
   "source": [
    "### Informações sobre a treliça\n",
    "\n",
    "* nn: número de nós\n",
    "* N: Matriz dos nós\n",
    "* nm: número de membros\n",
    "* Inc: Matriz de incidência. Colunas:\n",
    "    1. Nó 1\n",
    "    2. Nó 2\n",
    "    3. E\n",
    "    4. A\n",
    "* nc: número de cargas\n",
    "* F: forças (Vetor carregamento)\n",
    "* nr: número de restrições\n",
    "* R: Restrições (Vetor com os graus de liberdade)"
   ]
  },
  {
   "cell_type": "code",
   "execution_count": 7,
   "metadata": {},
   "outputs": [],
   "source": [
    "# Comprimento \n",
    "L = 4\n",
    "#numero de nodes\n",
    "n = 8"
   ]
  },
  {
   "cell_type": "markdown",
   "metadata": {},
   "source": [
    "### Gerando a matriz de conectividade transposta"
   ]
  },
  {
   "cell_type": "code",
   "execution_count": 8,
   "metadata": {},
   "outputs": [
    {
     "name": "stdout",
     "output_type": "stream",
     "text": [
      "-1   0   0   0  -1   0   0   0   0   0   0   0   0  \n",
      " 1  -1   0   0   0   1  -1   0   0   0   0   0   0  \n",
      " 0   1  -1   0   0   0   0   1   0   0   0   0   0  \n",
      " 0   0   1  -1   0   0   0   0   1  -1   0   0   0  \n",
      " 0   0   0   1   0   0   0   0   0   0   1   0   0  \n",
      " 0   0   0   0   1  -1   0   0   0   0   0  -1   0  \n",
      " 0   0   0   0   0   0   1  -1  -1   0   0   1  -1  \n",
      " 0   0   0   0   0   0   0   0   0   1  -1   0   1  \n"
     ]
    }
   ],
   "source": [
    "C = []\n",
    "for i in range(nm):\n",
    "        C_i = nn*[0]\n",
    "\n",
    "        no_1 = int(Inc[i, 0])\n",
    "        no_2 = int(Inc[i, 1])\n",
    "\n",
    "        C_i[no_1-1] = -1\n",
    "        C_i[no_2-1] = 1\n",
    "        C.append(C_i) \n",
    "\n",
    "C_t = np.array(C).T\n",
    "matprint(C_t)"
   ]
  },
  {
   "cell_type": "markdown",
   "metadata": {},
   "source": [
    "### Matriz dos membros (M)"
   ]
  },
  {
   "cell_type": "code",
   "execution_count": 9,
   "metadata": {
    "scrolled": true
   },
   "outputs": [
    {
     "name": "stdout",
     "output_type": "stream",
     "text": [
      "[[ 4.  4.  4.  4.  4.  0.  4.  0.  4.  0.  4.  4.  4.]\n",
      " [ 0.  0.  0.  0.  4. -4.  4. -4. -4.  4. -4.  0.  0.]]\n"
     ]
    }
   ],
   "source": [
    "M = np.matmul(N, C_t)\n",
    "print(M)"
   ]
  },
  {
   "cell_type": "markdown",
   "metadata": {},
   "source": [
    "### Obtendo Se, Ke e Kg"
   ]
  },
  {
   "cell_type": "code",
   "execution_count": 10,
   "metadata": {},
   "outputs": [
    {
     "name": "stdout",
     "output_type": "stream",
     "text": [
      "[[ 1.59888494e+09  4.17634943e+08 -1.18125000e+09  0.00000000e+00\n",
      "   0.00000000e+00  0.00000000e+00  0.00000000e+00  0.00000000e+00\n",
      "   0.00000000e+00  0.00000000e+00 -4.17634943e+08 -4.17634943e+08\n",
      "   0.00000000e+00  0.00000000e+00  0.00000000e+00  0.00000000e+00]\n",
      " [ 4.17634943e+08  4.17634943e+08  0.00000000e+00  0.00000000e+00\n",
      "   0.00000000e+00  0.00000000e+00  0.00000000e+00  0.00000000e+00\n",
      "   0.00000000e+00  0.00000000e+00 -4.17634943e+08 -4.17634943e+08\n",
      "   0.00000000e+00  0.00000000e+00  0.00000000e+00  0.00000000e+00]\n",
      " [-1.18125000e+09  0.00000000e+00  2.78013494e+09  4.17634943e+08\n",
      "  -1.18125000e+09  0.00000000e+00  0.00000000e+00  0.00000000e+00\n",
      "   0.00000000e+00  0.00000000e+00  0.00000000e+00  0.00000000e+00\n",
      "  -4.17634943e+08 -4.17634943e+08  0.00000000e+00  0.00000000e+00]\n",
      " [ 0.00000000e+00  0.00000000e+00  4.17634943e+08  1.59888494e+09\n",
      "   0.00000000e+00  0.00000000e+00  0.00000000e+00  0.00000000e+00\n",
      "   0.00000000e+00  0.00000000e+00  0.00000000e+00 -1.18125000e+09\n",
      "  -4.17634943e+08 -4.17634943e+08  0.00000000e+00  0.00000000e+00]\n",
      " [ 0.00000000e+00  0.00000000e+00 -1.18125000e+09  0.00000000e+00\n",
      "   2.36250000e+09  0.00000000e+00 -1.18125000e+09  0.00000000e+00\n",
      "   0.00000000e+00  0.00000000e+00  0.00000000e+00  0.00000000e+00\n",
      "   0.00000000e+00  0.00000000e+00  0.00000000e+00  0.00000000e+00]\n",
      " [ 0.00000000e+00  0.00000000e+00  0.00000000e+00  0.00000000e+00\n",
      "   0.00000000e+00  1.18125000e+09  0.00000000e+00  0.00000000e+00\n",
      "   0.00000000e+00  0.00000000e+00  0.00000000e+00  0.00000000e+00\n",
      "   0.00000000e+00 -1.18125000e+09  0.00000000e+00  0.00000000e+00]\n",
      " [ 0.00000000e+00  0.00000000e+00  0.00000000e+00  0.00000000e+00\n",
      "  -1.18125000e+09  0.00000000e+00  2.78013494e+09 -4.17634943e+08\n",
      "  -1.18125000e+09  0.00000000e+00  0.00000000e+00  0.00000000e+00\n",
      "  -4.17634943e+08  4.17634943e+08  0.00000000e+00  0.00000000e+00]\n",
      " [ 0.00000000e+00  0.00000000e+00  0.00000000e+00  0.00000000e+00\n",
      "   0.00000000e+00  0.00000000e+00 -4.17634943e+08  1.59888494e+09\n",
      "   0.00000000e+00  0.00000000e+00  0.00000000e+00  0.00000000e+00\n",
      "   4.17634943e+08 -4.17634943e+08  0.00000000e+00 -1.18125000e+09]\n",
      " [ 0.00000000e+00  0.00000000e+00  0.00000000e+00  0.00000000e+00\n",
      "   0.00000000e+00  0.00000000e+00 -1.18125000e+09  0.00000000e+00\n",
      "   1.59888494e+09 -4.17634943e+08  0.00000000e+00  0.00000000e+00\n",
      "   0.00000000e+00  0.00000000e+00 -4.17634943e+08  4.17634943e+08]\n",
      " [ 0.00000000e+00  0.00000000e+00  0.00000000e+00  0.00000000e+00\n",
      "   0.00000000e+00  0.00000000e+00  0.00000000e+00  0.00000000e+00\n",
      "  -4.17634943e+08  4.17634943e+08  0.00000000e+00  0.00000000e+00\n",
      "   0.00000000e+00  0.00000000e+00  4.17634943e+08 -4.17634943e+08]\n",
      " [-4.17634943e+08 -4.17634943e+08  0.00000000e+00  0.00000000e+00\n",
      "   0.00000000e+00  0.00000000e+00  0.00000000e+00  0.00000000e+00\n",
      "   0.00000000e+00  0.00000000e+00  1.59888494e+09  4.17634943e+08\n",
      "  -1.18125000e+09  0.00000000e+00  0.00000000e+00  0.00000000e+00]\n",
      " [-4.17634943e+08 -4.17634943e+08  0.00000000e+00 -1.18125000e+09\n",
      "   0.00000000e+00  0.00000000e+00  0.00000000e+00  0.00000000e+00\n",
      "   0.00000000e+00  0.00000000e+00  4.17634943e+08  1.59888494e+09\n",
      "   0.00000000e+00  0.00000000e+00  0.00000000e+00  0.00000000e+00]\n",
      " [ 0.00000000e+00  0.00000000e+00 -4.17634943e+08 -4.17634943e+08\n",
      "   0.00000000e+00  0.00000000e+00 -4.17634943e+08  4.17634943e+08\n",
      "   0.00000000e+00  0.00000000e+00 -1.18125000e+09  0.00000000e+00\n",
      "   3.19776989e+09  0.00000000e+00 -1.18125000e+09  0.00000000e+00]\n",
      " [ 0.00000000e+00  0.00000000e+00 -4.17634943e+08 -4.17634943e+08\n",
      "   0.00000000e+00 -1.18125000e+09  4.17634943e+08 -4.17634943e+08\n",
      "   0.00000000e+00  0.00000000e+00  0.00000000e+00  0.00000000e+00\n",
      "   0.00000000e+00  2.01651989e+09  0.00000000e+00  0.00000000e+00]\n",
      " [ 0.00000000e+00  0.00000000e+00  0.00000000e+00  0.00000000e+00\n",
      "   0.00000000e+00  0.00000000e+00  0.00000000e+00  0.00000000e+00\n",
      "  -4.17634943e+08  4.17634943e+08  0.00000000e+00  0.00000000e+00\n",
      "  -1.18125000e+09  0.00000000e+00  1.59888494e+09 -4.17634943e+08]\n",
      " [ 0.00000000e+00  0.00000000e+00  0.00000000e+00  0.00000000e+00\n",
      "   0.00000000e+00  0.00000000e+00  0.00000000e+00 -1.18125000e+09\n",
      "   4.17634943e+08 -4.17634943e+08  0.00000000e+00  0.00000000e+00\n",
      "   0.00000000e+00  0.00000000e+00 -4.17634943e+08  1.59888494e+09]]\n"
     ]
    }
   ],
   "source": [
    "len_linhas_M = len(M)\n",
    "len_linhas_C = len(C_t)\n",
    "Kg = np.zeros((nn*2, nn*2))\n",
    "for i in range(0, nm):\n",
    "    E = Inc[i,2]\n",
    "    A = Inc[i,3]\n",
    "    \n",
    "    n1 = Inc[i,0]\n",
    "    n2 = Inc[i,1]\n",
    "    \n",
    "    x1 = N[0][int(Inc[:,0][i])-1]\n",
    "    y1 = N[1][int(Inc[:,0][i])-1]\n",
    "    x2 = N[0][int(Inc[:,1][i])-1]\n",
    "    y2 = N[1][int(Inc[:,1][i])-1]    \n",
    "    \n",
    "    L = math.sqrt(((x1-x2)**2+(y1-y2)**2))\n",
    "    \n",
    "    const = E*A/L\n",
    "    \n",
    "    M_aux = M[:,i]\n",
    "    M_aux.shape = [len_linhas_M, 1]\n",
    "    M_aux2 = np.transpose(M_aux)\n",
    "    Se = (const * np.matmul(M_aux, M_aux2)) / (np.linalg.norm(M[:,i])**2)\n",
    "\n",
    "    C_aux = C_t[:,i]\n",
    "    C_aux.shape = [len_linhas_C, 1]\n",
    "    C_aux2 = np.transpose(C_aux)\n",
    "    \n",
    "    multi_C_aux = np.matmul(C_aux, C_aux2)\n",
    "    Ke = np.kron(multi_C_aux, Se)\n",
    "    Kg += Ke\n",
    "# print(Se)\n",
    "print(Kg)"
   ]
  },
  {
   "cell_type": "markdown",
   "metadata": {},
   "source": [
    "### Deslocamento nodal"
   ]
  },
  {
   "cell_type": "markdown",
   "metadata": {},
   "source": [
    "Aplicando as condições de contorno para a matriz das forças:"
   ]
  },
  {
   "cell_type": "code",
   "execution_count": 11,
   "metadata": {
    "scrolled": true
   },
   "outputs": [
    {
     "data": {
      "text/plain": [
       "array([     0.,      0.,      0.,      0.,      0., -32000.,      0.,\n",
       "       -48000.,      0., -32000.])"
      ]
     },
     "execution_count": 11,
     "metadata": {},
     "output_type": "execute_result"
    }
   ],
   "source": [
    "F_c = np.delete(F, R.astype(int))\n",
    "F_c\n"
   ]
  },
  {
   "cell_type": "markdown",
   "metadata": {},
   "source": [
    "Aplicando as condições de contorno para a matriz da rigidez:"
   ]
  },
  {
   "cell_type": "code",
   "execution_count": 12,
   "metadata": {},
   "outputs": [
    {
     "name": "stdout",
     "output_type": "stream",
     "text": [
      " 2.78013e+09  -1.18125e+09             0             0             0            0  -4.17635e+08  -4.17635e+08             0             0  \n",
      "-1.18125e+09    2.3625e+09             0  -1.18125e+09             0            0             0             0             0             0  \n",
      "           0             0   1.18125e+09             0             0            0             0  -1.18125e+09             0             0  \n",
      "           0  -1.18125e+09             0   2.78013e+09             0            0  -4.17635e+08   4.17635e+08             0             0  \n",
      "           0             0             0             0   1.59888e+09  4.17635e+08  -1.18125e+09             0             0             0  \n",
      "           0             0             0             0   4.17635e+08  1.59888e+09             0             0             0             0  \n",
      "-4.17635e+08             0             0  -4.17635e+08  -1.18125e+09            0   3.19777e+09             0  -1.18125e+09             0  \n",
      "-4.17635e+08             0  -1.18125e+09   4.17635e+08             0            0             0   2.01652e+09             0             0  \n",
      "           0             0             0             0             0            0  -1.18125e+09             0   1.59888e+09  -4.17635e+08  \n",
      "           0             0             0             0             0            0             0             0  -4.17635e+08   1.59888e+09  \n"
     ]
    }
   ],
   "source": [
    "Kg_c = np.delete(Kg, R.astype(int),0)\n",
    "Kg_c = np.delete(Kg_c, R.astype(int), 1)\n",
    "matprint(Kg_c)"
   ]
  },
  {
   "cell_type": "markdown",
   "metadata": {},
   "source": [
    "___\n",
    "**Funções de Jacobi e Gauss-Seidel utilizadas na aula 21:**"
   ]
  },
  {
   "cell_type": "code",
   "execution_count": 13,
   "metadata": {},
   "outputs": [],
   "source": [
    "# def jacobi(k,F,ite,tol):\n",
    "#     #inicializando X com \n",
    "#     x = np.zeros(k.shape[0])\n",
    "\n",
    "#     # Cria um vetor com os elementos da diagonal de k                       \n",
    "#     diagonal = np.diag(k)\n",
    "#     # Subtrai a diagonal de K\n",
    "#     k_d = k - np.diagflat(diagonal)\n",
    "#     # loop até chegar abaixo da tolerância ou passar do número máximo de iterações\n",
    "#     for i in range(ite):\n",
    "#         x2 = (F - np.matmul(k_d,x)) / diagonal\n",
    "#         error =  max(abs((x2 - x)/x2) )\n",
    "#         if error < tol:\n",
    "#             print(f\"Erro máximo: {error}\")\n",
    "#             print(f\"Convergiu na iteração: {i}\")\n",
    "#             return x2\n",
    "        \n",
    "#         x = x2\n",
    "#     return x\n",
    "def jacobi(K,F,ite,tol):\n",
    "    if type(K) != list:\n",
    "        U = np.zeros((K.shape[0],1))\n",
    "        n = K.shape[0]\n",
    "    else:\n",
    "        U = np.zeros((len(K),1))\n",
    "        n = len(K)\n",
    "    U_ = U.copy()\n",
    "    count = 0\n",
    "    while count < ite:\n",
    "        for i in range(n):\n",
    "            U_[i][0] = F[i]\n",
    "            for j in range(n):\n",
    "                if j != i:\n",
    "                    U_[i][0] -= K[i][j] * U[j][0]\n",
    "            U_[i][0] /= K[i][i]\n",
    "\n",
    "        if 0 not in U:     # Cálculo do erro\n",
    "            ERROR_list = []\n",
    "            for i,j in zip(U_,U):\n",
    "                ERROR_list.append(abs((i-j)/j))\n",
    "            ERRO = max(ERROR_list)\n",
    "            if ERRO < tol:\n",
    "                print(\"Iterações: {0}\".format(count))\n",
    "                return U;\n",
    "        U = U_.copy() \n",
    "        count += 1\n",
    "    print(\"Iterações: {0}\".format(count))\n",
    "    return U;"
   ]
  },
  {
   "cell_type": "code",
   "execution_count": 14,
   "metadata": {},
   "outputs": [],
   "source": [
    "# def gauss_seidel(A, b, ite, tol):\n",
    "#     x = np.zeros_like(b, dtype=np.double)\n",
    "    \n",
    "#     #Iterate\n",
    "#     for k in range(ite):\n",
    "        \n",
    "#         x_old  = x.copy()\n",
    "        \n",
    "#         #Loop over rows\n",
    "#         for i in range(A.shape[0]):\n",
    "#             x[i] = (b[i] - np.dot(A[i,:i], x[:i]) - np.dot(A[i,(i+1):], x_old[(i+1):])) / A[i ,i]\n",
    "            \n",
    "#         #Stop condition \n",
    "#         if np.linalg.norm(x - x_old, ord=np.inf) / np.linalg.norm(x, ord=np.inf) < tol:\n",
    "#             break\n",
    "            \n",
    "#     return x\n",
    "def gauss_seidel(K,F,ite,tol):\n",
    "    if type(K) != list:\n",
    "        U = np.zeros((K.shape[0],1))\n",
    "        n = K.shape[0]\n",
    "    else:\n",
    "        U = np.zeros((len(K),1))\n",
    "        n = len(K)\n",
    "    U_ = U.copy()\n",
    "    count = 0\n",
    "    while count < ite:\n",
    "        for i in range(n):\n",
    "            U_[i][0] = F[i]\n",
    "            for j in range(n):\n",
    "                if j != i:\n",
    "                    U_[i][0] -= K[i][j] * U_[j][0]\n",
    "            U_[i][0] /= K[i][i]\n",
    "\n",
    "        if 0 not in U:     # Cálculo do erro\n",
    "            ERROR_list = []\n",
    "            for i,j in zip(U_,U):\n",
    "                ERROR_list.append(abs((i-j)/j))\n",
    "            ERRO = max(ERROR_list)\n",
    "            if ERRO < tol:\n",
    "                print(\"Iterações: {0}\".format(count))\n",
    "                return U;\n",
    "        U = U_.copy() \n",
    "        count += 1\n",
    "    print(\"Iterações: {0}\".format(count))\n",
    "    return U;"
   ]
  },
  {
   "cell_type": "markdown",
   "metadata": {},
   "source": [
    "___\n",
    "Utilizando Jacobi, Gauss-Seidel e a forma geral para cálculo da matriz **U**"
   ]
  },
  {
   "cell_type": "code",
   "execution_count": 15,
   "metadata": {},
   "outputs": [
    {
     "name": "stdout",
     "output_type": "stream",
     "text": [
      "Iterações: 1000\n",
      "Método Jacobi:\n",
      "Iterações: 1000\n",
      "-1.01587e-05  \n",
      "           0  \n",
      "-6.76252e-05  \n",
      " 1.01587e-05  \n",
      " 5.61051e-06  \n",
      "-2.14794e-05  \n",
      "           0  \n",
      "-6.76252e-05  \n",
      "-5.61051e-06  \n",
      "-2.14794e-05  \n",
      "Tempo: 0.074639572999331\n"
     ]
    }
   ],
   "source": [
    "u_jacobi = jacobi(Kg_c, F_c, 1000, 1e-5)\n",
    "print(\"Método Jacobi:\")\n",
    "timer_start = perf_counter()\n",
    "matprint(jacobi(Kg_c, F_c,1000, 1e-5))\n",
    "print(\"Tempo: {0}\".format(perf_counter() - timer_start))"
   ]
  },
  {
   "cell_type": "code",
   "execution_count": 16,
   "metadata": {},
   "outputs": [
    {
     "name": "stdout",
     "output_type": "stream",
     "text": [
      "Iterações: 101\n",
      "Método Gauss-Seidel:\n",
      "Iterações: 101\n",
      "-1.01587e-05  \n",
      "-2.30983e-21  \n",
      "-6.76252e-05  \n",
      " 1.01587e-05  \n",
      " 5.61051e-06  \n",
      "-2.14794e-05  \n",
      "-2.55974e-21  \n",
      "-6.76252e-05  \n",
      "-5.61051e-06  \n",
      "-2.14794e-05  \n",
      "Tempo: 0.010982079000314116\n"
     ]
    }
   ],
   "source": [
    "u_gauss = gauss_seidel(Kg_c, F_c, 1000, 1e-5)\n",
    "print(\"Método Gauss-Seidel:\")\n",
    "timer_start = perf_counter()\n",
    "matprint(gauss_seidel(Kg_c, F_c, 1000, 1e-5))\n",
    "print(\"Tempo: {0}\".format(perf_counter() - timer_start))"
   ]
  },
  {
   "cell_type": "markdown",
   "metadata": {},
   "source": [
    "**Deslocamentos nodais**"
   ]
  },
  {
   "cell_type": "code",
   "execution_count": 17,
   "metadata": {},
   "outputs": [
    {
     "data": {
      "text/plain": [
       "array([-1.01587302e-05,  0.00000000e+00, -6.76251860e-05,  1.01587302e-05,\n",
       "        5.61051174e-06, -2.14794353e-05,  6.91800873e-22, -6.76251860e-05,\n",
       "       -5.61051174e-06, -2.14794353e-05])"
      ]
     },
     "execution_count": 17,
     "metadata": {},
     "output_type": "execute_result"
    }
   ],
   "source": [
    "U_ar = np.linalg.solve(Kg_c, F_c)\n",
    "U_ar"
   ]
  },
  {
   "cell_type": "markdown",
   "metadata": {},
   "source": [
    "**Ajustando o tamanho das matrizes U**"
   ]
  },
  {
   "cell_type": "code",
   "execution_count": 18,
   "metadata": {},
   "outputs": [
    {
     "data": {
      "text/plain": [
       "array([[ 0.00000000e+00],\n",
       "       [ 0.00000000e+00],\n",
       "       [-1.01587302e-05],\n",
       "       [ 0.00000000e+00],\n",
       "       [ 0.00000000e+00],\n",
       "       [-6.76251860e-05],\n",
       "       [ 1.01587302e-05],\n",
       "       [ 0.00000000e+00],\n",
       "       [ 0.00000000e+00],\n",
       "       [ 0.00000000e+00],\n",
       "       [ 5.61051174e-06],\n",
       "       [-2.14794353e-05],\n",
       "       [ 0.00000000e+00],\n",
       "       [-6.76251860e-05],\n",
       "       [-5.61051174e-06],\n",
       "       [-2.14794353e-05]])"
      ]
     },
     "execution_count": 18,
     "metadata": {},
     "output_type": "execute_result"
    }
   ],
   "source": [
    "u_jacobi_ajustado = np.zeros((nn*2,1))\n",
    "i = 0\n",
    "for e in range(len(u_jacobi_ajustado)):\n",
    "    if e not in R:\n",
    "        u_jacobi_ajustado[e] += u_jacobi[i]\n",
    "        i += 1\n",
    "u_jacobi_ajustado"
   ]
  },
  {
   "cell_type": "code",
   "execution_count": 19,
   "metadata": {},
   "outputs": [
    {
     "data": {
      "text/plain": [
       "array([[ 0.00000000e+00],\n",
       "       [ 0.00000000e+00],\n",
       "       [-1.01587302e-05],\n",
       "       [ 0.00000000e+00],\n",
       "       [-2.30982781e-21],\n",
       "       [-6.76251860e-05],\n",
       "       [ 1.01587302e-05],\n",
       "       [ 0.00000000e+00],\n",
       "       [ 0.00000000e+00],\n",
       "       [ 0.00000000e+00],\n",
       "       [ 5.61051174e-06],\n",
       "       [-2.14794353e-05],\n",
       "       [-2.55973776e-21],\n",
       "       [-6.76251860e-05],\n",
       "       [-5.61051174e-06],\n",
       "       [-2.14794353e-05]])"
      ]
     },
     "execution_count": 19,
     "metadata": {},
     "output_type": "execute_result"
    }
   ],
   "source": [
    "u_gauss_ajustado = np.zeros((nn*2,1))\n",
    "i = 0\n",
    "for e in range(len(u_gauss_ajustado)):\n",
    "    if e not in R:\n",
    "        u_gauss_ajustado[e] += u_gauss[i]\n",
    "        i += 1\n",
    "u_gauss_ajustado"
   ]
  },
  {
   "cell_type": "code",
   "execution_count": 20,
   "metadata": {},
   "outputs": [
    {
     "data": {
      "text/plain": [
       "array([[ 0.00000000e+00],\n",
       "       [ 0.00000000e+00],\n",
       "       [-1.01587302e-05],\n",
       "       [ 0.00000000e+00],\n",
       "       [ 0.00000000e+00],\n",
       "       [-6.76251860e-05],\n",
       "       [ 1.01587302e-05],\n",
       "       [ 0.00000000e+00],\n",
       "       [ 0.00000000e+00],\n",
       "       [ 0.00000000e+00],\n",
       "       [ 5.61051174e-06],\n",
       "       [-2.14794353e-05],\n",
       "       [ 6.91800873e-22],\n",
       "       [-6.76251860e-05],\n",
       "       [-5.61051174e-06],\n",
       "       [-2.14794353e-05]])"
      ]
     },
     "execution_count": 20,
     "metadata": {},
     "output_type": "execute_result"
    }
   ],
   "source": [
    "u = np.zeros((nn*2,1))\n",
    "i = 0\n",
    "for e in range(len(u)):\n",
    "    if e not in R:\n",
    "        u[e] += U_ar[i]\n",
    "        i += 1\n",
    "u"
   ]
  },
  {
   "cell_type": "markdown",
   "metadata": {},
   "source": [
    "### Reações de apoio"
   ]
  },
  {
   "cell_type": "code",
   "execution_count": 21,
   "metadata": {
    "scrolled": false
   },
   "outputs": [
    {
     "data": {
      "text/plain": [
       "array([[ 1.86274170e+04],\n",
       "       [ 6.62741700e+03],\n",
       "       [-3.63797881e-12],\n",
       "       [ 4.93725830e+04],\n",
       "       [-7.35983242e-13],\n",
       "       [-1.68160212e-12],\n",
       "       [ 3.63797881e-12],\n",
       "       [ 4.93725830e+04],\n",
       "       [-1.86274170e+04],\n",
       "       [ 6.62741700e+03],\n",
       "       [ 0.00000000e+00],\n",
       "       [-3.20000000e+04],\n",
       "       [ 2.45500359e-12],\n",
       "       [-4.80000000e+04],\n",
       "       [ 0.00000000e+00],\n",
       "       [-3.20000000e+04]])"
      ]
     },
     "execution_count": 21,
     "metadata": {},
     "output_type": "execute_result"
    }
   ],
   "source": [
    "P = np.matmul(Kg,u)\n",
    "P"
   ]
  },
  {
   "cell_type": "code",
   "execution_count": 22,
   "metadata": {
    "scrolled": true
   },
   "outputs": [
    {
     "data": {
      "text/plain": [
       "array([[ 18627.41699797],\n",
       "       [  6627.41699797],\n",
       "       [ 49372.58300203],\n",
       "       [ 49372.58300203],\n",
       "       [-18627.41699797],\n",
       "       [  6627.41699797]])"
      ]
     },
     "execution_count": 22,
     "metadata": {},
     "output_type": "execute_result"
    }
   ],
   "source": [
    "P_r = np.zeros((nr,1))\n",
    "for i in range(nr):  \n",
    "    index = int(R[i])\n",
    "    P_r[i] = P[index]    \n",
    "P_r"
   ]
  },
  {
   "cell_type": "markdown",
   "metadata": {},
   "source": [
    "### Deformações, Tenões e Forças internas"
   ]
  },
  {
   "cell_type": "code",
   "execution_count": null,
   "metadata": {},
   "outputs": [],
   "source": []
  },
  {
   "cell_type": "code",
   "execution_count": 23,
   "metadata": {},
   "outputs": [],
   "source": [
    "deformacoes=[]\n",
    "tensoes=[]\n",
    "forcas=[]\n",
    "for i in range (nm):\n",
    "        \n",
    "    matriz = [\n",
    "            u[(int(Inc[i, 0])-1)*2], \n",
    "            u[(int(Inc[i, 0])-1)*2 +1], \n",
    "            u[(int(Inc[i, 1])-1)*2], \n",
    "            u[int(Inc[i, 1]-1)*2 +1]\n",
    "    ]\n",
    "    \n",
    "    x1 = N[0][int(Inc[:,0][i])-1]\n",
    "    y1 = N[1][int(Inc[:,0][i])-1]\n",
    "    x2 = N[0][int(Inc[:,1][i])-1]\n",
    "    y2 = N[1][int(Inc[:,1][i])-1]    \n",
    "    \n",
    "    L = math.sqrt(((x1-x2)**2+(y1-y2)**2))  \n",
    "    \n",
    "    E =  Inc[i, 2]\n",
    "    A = Inc[i,3]\n",
    "    const = E*A/L\n",
    "    \n",
    "    s = (y2-y1)/L\n",
    "    c = (x2-x1)/L\n",
    "    \n",
    "    C = [-c, -s, c, s]\n",
    "\n",
    "    deformacao = (1/L) * np.matmul(C, matriz)\n",
    "    tensao = deformacao*E\n",
    "    forca=tensao*A\n",
    "    \n",
    "    deformacoes.append(deformacao)\n",
    "    tensoes.append(tensao)\n",
    "    forcas.append(forca)\n",
    "\n"
   ]
  },
  {
   "cell_type": "code",
   "execution_count": 24,
   "metadata": {},
   "outputs": [
    {
     "data": {
      "text/plain": [
       "[array([-2.53968254e-06]),\n",
       " array([2.53968254e-06]),\n",
       " array([2.53968254e-06]),\n",
       " array([-2.53968254e-06]),\n",
       " array([-1.98361545e-06]),\n",
       " array([-5.36985884e-06]),\n",
       " array([-7.18330698e-06]),\n",
       " array([0.]),\n",
       " array([-7.18330698e-06]),\n",
       " array([-5.36985884e-06]),\n",
       " array([-1.98361545e-06]),\n",
       " array([-1.40262794e-06]),\n",
       " array([-1.40262794e-06])]"
      ]
     },
     "execution_count": 24,
     "metadata": {},
     "output_type": "execute_result"
    }
   ],
   "source": [
    "deformacoes"
   ]
  },
  {
   "cell_type": "code",
   "execution_count": 25,
   "metadata": {},
   "outputs": [
    {
     "data": {
      "text/plain": [
       "[array([-533333.33333333]),\n",
       " array([533333.33333333]),\n",
       " array([533333.33333333]),\n",
       " array([-533333.33333333]),\n",
       " array([-416559.24453469]),\n",
       " array([-1127670.3556458]),\n",
       " array([-1508494.4665313]),\n",
       " array([0.]),\n",
       " array([-1508494.4665313]),\n",
       " array([-1127670.3556458]),\n",
       " array([-416559.24453469]),\n",
       " array([-294551.86657642]),\n",
       " array([-294551.86657642])]"
      ]
     },
     "execution_count": 25,
     "metadata": {},
     "output_type": "execute_result"
    }
   ],
   "source": [
    "tensoes"
   ]
  },
  {
   "cell_type": "code",
   "execution_count": 26,
   "metadata": {},
   "outputs": [
    {
     "data": {
      "text/plain": [
       "[array([-12000.]),\n",
       " array([12000.]),\n",
       " array([12000.]),\n",
       " array([-12000.]),\n",
       " array([-9372.58300203]),\n",
       " array([-25372.58300203]),\n",
       " array([-33941.12549695]),\n",
       " array([0.]),\n",
       " array([-33941.12549695]),\n",
       " array([-25372.58300203]),\n",
       " array([-9372.58300203]),\n",
       " array([-6627.41699797]),\n",
       " array([-6627.41699797])]"
      ]
     },
     "execution_count": 26,
     "metadata": {},
     "output_type": "execute_result"
    }
   ],
   "source": [
    "forcas"
   ]
  },
  {
   "cell_type": "markdown",
   "metadata": {},
   "source": [
    "___\n",
    "**Gerando Saídas com as 3 matrizes U calculadas anteriormente**"
   ]
  },
  {
   "cell_type": "code",
   "execution_count": 27,
   "metadata": {},
   "outputs": [],
   "source": [
    "x = geraSaida(\"geral\", P_r, u, deformacoes, forcas, tensoes)"
   ]
  },
  {
   "cell_type": "code",
   "execution_count": 28,
   "metadata": {},
   "outputs": [],
   "source": [
    "geraSaida(\"jacobi\", P_r, u_jacobi_ajustado, deformacoes, forcas, tensoes)"
   ]
  },
  {
   "cell_type": "code",
   "execution_count": 29,
   "metadata": {},
   "outputs": [],
   "source": [
    "geraSaida(\"gauss\", P_r, u_gauss_ajustado, deformacoes, forcas, tensoes)"
   ]
  },
  {
   "cell_type": "code",
   "execution_count": null,
   "metadata": {},
   "outputs": [],
   "source": []
  }
 ],
 "metadata": {
  "kernelspec": {
   "display_name": "Python 3",
   "language": "python",
   "name": "python3"
  },
  "language_info": {
   "codemirror_mode": {
    "name": "ipython",
    "version": 3
   },
   "file_extension": ".py",
   "mimetype": "text/x-python",
   "name": "python",
   "nbconvert_exporter": "python",
   "pygments_lexer": "ipython3",
   "version": "3.8.5"
  }
 },
 "nbformat": 4,
 "nbformat_minor": 2
}
