{
 "cells": [
  {
   "cell_type": "markdown",
   "metadata": {},
   "source": [
    "# APS 3\n",
    "\n",
    "___"
   ]
  },
  {
   "cell_type": "markdown",
   "metadata": {},
   "source": [
    "####  <font style='font-family:Georgia' color='darkturquoise'> Arthur"
   ]
  },
  {
   "cell_type": "markdown",
   "metadata": {},
   "source": [
    "### Importando bibliotecas e valores"
   ]
  },
  {
   "cell_type": "code",
   "execution_count": 442,
   "metadata": {},
   "outputs": [],
   "source": [
    "from funcoesTermosol import *\n",
    "import numpy as np\n",
    "import math\n",
    "from time import perf_counter"
   ]
  },
  {
   "cell_type": "code",
   "execution_count": 443,
   "metadata": {},
   "outputs": [],
   "source": [
    "def matprint(mat, fmt=\"g\"):        # Credits to braingineer https://gist.github.com/braingineer/d801735dac07ff3ac4d746e1f218ab75\n",
    "    col_maxes = [max([len((\"{:\"+fmt+\"}\").format(x)) for x in col]) for col in mat.T]\n",
    "    for x in mat:\n",
    "        for i, y in enumerate(x):\n",
    "            print((\"{:\"+str(col_maxes[i])+fmt+\"}\").format(y), end=\"  \")\n",
    "        print(\"\")"
   ]
  },
  {
   "cell_type": "markdown",
   "metadata": {},
   "source": [
    "### Representação da estrutura"
   ]
  },
  {
   "cell_type": "code",
   "execution_count": 444,
   "metadata": {
    "scrolled": false
   },
   "outputs": [
    {
     "output_type": "display_data",
     "data": {
      "text/plain": "<Figure size 432x288 with 1 Axes>",
      "image/svg+xml": "<?xml version=\"1.0\" encoding=\"utf-8\" standalone=\"no\"?>\n<!DOCTYPE svg PUBLIC \"-//W3C//DTD SVG 1.1//EN\"\n  \"http://www.w3.org/Graphics/SVG/1.1/DTD/svg11.dtd\">\n<svg height=\"262.19625pt\" version=\"1.1\" viewBox=\"0 0 400.523438 262.19625\" width=\"400.523438pt\" xmlns=\"http://www.w3.org/2000/svg\" xmlns:xlink=\"http://www.w3.org/1999/xlink\">\n <metadata>\n  <rdf:RDF xmlns:cc=\"http://creativecommons.org/ns#\" xmlns:dc=\"http://purl.org/dc/elements/1.1/\" xmlns:rdf=\"http://www.w3.org/1999/02/22-rdf-syntax-ns#\">\n   <cc:Work>\n    <dc:type rdf:resource=\"http://purl.org/dc/dcmitype/StillImage\"/>\n    <dc:date>2021-06-08T00:13:18.688469</dc:date>\n    <dc:format>image/svg+xml</dc:format>\n    <dc:creator>\n     <cc:Agent>\n      <dc:title>Matplotlib v3.4.1, https://matplotlib.org/</dc:title>\n     </cc:Agent>\n    </dc:creator>\n   </cc:Work>\n  </rdf:RDF>\n </metadata>\n <defs>\n  <style type=\"text/css\">*{stroke-linecap:butt;stroke-linejoin:round;}</style>\n </defs>\n <g id=\"figure_1\">\n  <g id=\"patch_1\">\n   <path d=\"M 0 262.19625 \nL 400.523438 262.19625 \nL 400.523438 0 \nL 0 0 \nz\n\" style=\"fill:none;\"/>\n  </g>\n  <g id=\"axes_1\">\n   <g id=\"patch_2\">\n    <path d=\"M 58.523438 224.64 \nL 393.323438 224.64 \nL 393.323438 7.2 \nL 58.523438 7.2 \nz\n\" style=\"fill:#ffffff;\"/>\n   </g>\n   <g id=\"matplotlib.axis_1\">\n    <g id=\"xtick_1\">\n     <g id=\"line2d_1\">\n      <path clip-path=\"url(#pcc09078a55)\" d=\"M 73.741619 224.64 \nL 73.741619 7.2 \n\" style=\"fill:none;stroke:#b0b0b0;stroke-linecap:square;stroke-width:0.8;\"/>\n     </g>\n     <g id=\"line2d_2\">\n      <defs>\n       <path d=\"M 0 0 \nL 0 3.5 \n\" id=\"m607f135623\" style=\"stroke:#000000;stroke-width:0.8;\"/>\n      </defs>\n      <g>\n       <use style=\"stroke:#000000;stroke-width:0.8;\" x=\"73.741619\" xlink:href=\"#m607f135623\" y=\"224.64\"/>\n      </g>\n     </g>\n     <g id=\"text_1\">\n      <!-- 0.0 -->\n      <g transform=\"translate(65.790057 239.238437)scale(0.1 -0.1)\">\n       <defs>\n        <path d=\"M 2034 4250 \nQ 1547 4250 1301 3770 \nQ 1056 3291 1056 2328 \nQ 1056 1369 1301 889 \nQ 1547 409 2034 409 \nQ 2525 409 2770 889 \nQ 3016 1369 3016 2328 \nQ 3016 3291 2770 3770 \nQ 2525 4250 2034 4250 \nz\nM 2034 4750 \nQ 2819 4750 3233 4129 \nQ 3647 3509 3647 2328 \nQ 3647 1150 3233 529 \nQ 2819 -91 2034 -91 \nQ 1250 -91 836 529 \nQ 422 1150 422 2328 \nQ 422 3509 836 4129 \nQ 1250 4750 2034 4750 \nz\n\" id=\"DejaVuSans-30\" transform=\"scale(0.015625)\"/>\n        <path d=\"M 684 794 \nL 1344 794 \nL 1344 0 \nL 684 0 \nL 684 794 \nz\n\" id=\"DejaVuSans-2e\" transform=\"scale(0.015625)\"/>\n       </defs>\n       <use xlink:href=\"#DejaVuSans-30\"/>\n       <use x=\"63.623047\" xlink:href=\"#DejaVuSans-2e\"/>\n       <use x=\"95.410156\" xlink:href=\"#DejaVuSans-30\"/>\n      </g>\n     </g>\n    </g>\n    <g id=\"xtick_2\">\n     <g id=\"line2d_3\">\n      <path clip-path=\"url(#pcc09078a55)\" d=\"M 134.614347 224.64 \nL 134.614347 7.2 \n\" style=\"fill:none;stroke:#b0b0b0;stroke-linecap:square;stroke-width:0.8;\"/>\n     </g>\n     <g id=\"line2d_4\">\n      <g>\n       <use style=\"stroke:#000000;stroke-width:0.8;\" x=\"134.614347\" xlink:href=\"#m607f135623\" y=\"224.64\"/>\n      </g>\n     </g>\n     <g id=\"text_2\">\n      <!-- 0.1 -->\n      <g transform=\"translate(126.662784 239.238437)scale(0.1 -0.1)\">\n       <defs>\n        <path d=\"M 794 531 \nL 1825 531 \nL 1825 4091 \nL 703 3866 \nL 703 4441 \nL 1819 4666 \nL 2450 4666 \nL 2450 531 \nL 3481 531 \nL 3481 0 \nL 794 0 \nL 794 531 \nz\n\" id=\"DejaVuSans-31\" transform=\"scale(0.015625)\"/>\n       </defs>\n       <use xlink:href=\"#DejaVuSans-30\"/>\n       <use x=\"63.623047\" xlink:href=\"#DejaVuSans-2e\"/>\n       <use x=\"95.410156\" xlink:href=\"#DejaVuSans-31\"/>\n      </g>\n     </g>\n    </g>\n    <g id=\"xtick_3\">\n     <g id=\"line2d_5\">\n      <path clip-path=\"url(#pcc09078a55)\" d=\"M 195.487074 224.64 \nL 195.487074 7.2 \n\" style=\"fill:none;stroke:#b0b0b0;stroke-linecap:square;stroke-width:0.8;\"/>\n     </g>\n     <g id=\"line2d_6\">\n      <g>\n       <use style=\"stroke:#000000;stroke-width:0.8;\" x=\"195.487074\" xlink:href=\"#m607f135623\" y=\"224.64\"/>\n      </g>\n     </g>\n     <g id=\"text_3\">\n      <!-- 0.2 -->\n      <g transform=\"translate(187.535511 239.238437)scale(0.1 -0.1)\">\n       <defs>\n        <path d=\"M 1228 531 \nL 3431 531 \nL 3431 0 \nL 469 0 \nL 469 531 \nQ 828 903 1448 1529 \nQ 2069 2156 2228 2338 \nQ 2531 2678 2651 2914 \nQ 2772 3150 2772 3378 \nQ 2772 3750 2511 3984 \nQ 2250 4219 1831 4219 \nQ 1534 4219 1204 4116 \nQ 875 4013 500 3803 \nL 500 4441 \nQ 881 4594 1212 4672 \nQ 1544 4750 1819 4750 \nQ 2544 4750 2975 4387 \nQ 3406 4025 3406 3419 \nQ 3406 3131 3298 2873 \nQ 3191 2616 2906 2266 \nQ 2828 2175 2409 1742 \nQ 1991 1309 1228 531 \nz\n\" id=\"DejaVuSans-32\" transform=\"scale(0.015625)\"/>\n       </defs>\n       <use xlink:href=\"#DejaVuSans-30\"/>\n       <use x=\"63.623047\" xlink:href=\"#DejaVuSans-2e\"/>\n       <use x=\"95.410156\" xlink:href=\"#DejaVuSans-32\"/>\n      </g>\n     </g>\n    </g>\n    <g id=\"xtick_4\">\n     <g id=\"line2d_7\">\n      <path clip-path=\"url(#pcc09078a55)\" d=\"M 256.359801 224.64 \nL 256.359801 7.2 \n\" style=\"fill:none;stroke:#b0b0b0;stroke-linecap:square;stroke-width:0.8;\"/>\n     </g>\n     <g id=\"line2d_8\">\n      <g>\n       <use style=\"stroke:#000000;stroke-width:0.8;\" x=\"256.359801\" xlink:href=\"#m607f135623\" y=\"224.64\"/>\n      </g>\n     </g>\n     <g id=\"text_4\">\n      <!-- 0.3 -->\n      <g transform=\"translate(248.408239 239.238437)scale(0.1 -0.1)\">\n       <defs>\n        <path d=\"M 2597 2516 \nQ 3050 2419 3304 2112 \nQ 3559 1806 3559 1356 \nQ 3559 666 3084 287 \nQ 2609 -91 1734 -91 \nQ 1441 -91 1130 -33 \nQ 819 25 488 141 \nL 488 750 \nQ 750 597 1062 519 \nQ 1375 441 1716 441 \nQ 2309 441 2620 675 \nQ 2931 909 2931 1356 \nQ 2931 1769 2642 2001 \nQ 2353 2234 1838 2234 \nL 1294 2234 \nL 1294 2753 \nL 1863 2753 \nQ 2328 2753 2575 2939 \nQ 2822 3125 2822 3475 \nQ 2822 3834 2567 4026 \nQ 2313 4219 1838 4219 \nQ 1578 4219 1281 4162 \nQ 984 4106 628 3988 \nL 628 4550 \nQ 988 4650 1302 4700 \nQ 1616 4750 1894 4750 \nQ 2613 4750 3031 4423 \nQ 3450 4097 3450 3541 \nQ 3450 3153 3228 2886 \nQ 3006 2619 2597 2516 \nz\n\" id=\"DejaVuSans-33\" transform=\"scale(0.015625)\"/>\n       </defs>\n       <use xlink:href=\"#DejaVuSans-30\"/>\n       <use x=\"63.623047\" xlink:href=\"#DejaVuSans-2e\"/>\n       <use x=\"95.410156\" xlink:href=\"#DejaVuSans-33\"/>\n      </g>\n     </g>\n    </g>\n    <g id=\"xtick_5\">\n     <g id=\"line2d_9\">\n      <path clip-path=\"url(#pcc09078a55)\" d=\"M 317.232528 224.64 \nL 317.232528 7.2 \n\" style=\"fill:none;stroke:#b0b0b0;stroke-linecap:square;stroke-width:0.8;\"/>\n     </g>\n     <g id=\"line2d_10\">\n      <g>\n       <use style=\"stroke:#000000;stroke-width:0.8;\" x=\"317.232528\" xlink:href=\"#m607f135623\" y=\"224.64\"/>\n      </g>\n     </g>\n     <g id=\"text_5\">\n      <!-- 0.4 -->\n      <g transform=\"translate(309.280966 239.238437)scale(0.1 -0.1)\">\n       <defs>\n        <path d=\"M 2419 4116 \nL 825 1625 \nL 2419 1625 \nL 2419 4116 \nz\nM 2253 4666 \nL 3047 4666 \nL 3047 1625 \nL 3713 1625 \nL 3713 1100 \nL 3047 1100 \nL 3047 0 \nL 2419 0 \nL 2419 1100 \nL 313 1100 \nL 313 1709 \nL 2253 4666 \nz\n\" id=\"DejaVuSans-34\" transform=\"scale(0.015625)\"/>\n       </defs>\n       <use xlink:href=\"#DejaVuSans-30\"/>\n       <use x=\"63.623047\" xlink:href=\"#DejaVuSans-2e\"/>\n       <use x=\"95.410156\" xlink:href=\"#DejaVuSans-34\"/>\n      </g>\n     </g>\n    </g>\n    <g id=\"xtick_6\">\n     <g id=\"line2d_11\">\n      <path clip-path=\"url(#pcc09078a55)\" d=\"M 378.105256 224.64 \nL 378.105256 7.2 \n\" style=\"fill:none;stroke:#b0b0b0;stroke-linecap:square;stroke-width:0.8;\"/>\n     </g>\n     <g id=\"line2d_12\">\n      <g>\n       <use style=\"stroke:#000000;stroke-width:0.8;\" x=\"378.105256\" xlink:href=\"#m607f135623\" y=\"224.64\"/>\n      </g>\n     </g>\n     <g id=\"text_6\">\n      <!-- 0.5 -->\n      <g transform=\"translate(370.153693 239.238437)scale(0.1 -0.1)\">\n       <defs>\n        <path d=\"M 691 4666 \nL 3169 4666 \nL 3169 4134 \nL 1269 4134 \nL 1269 2991 \nQ 1406 3038 1543 3061 \nQ 1681 3084 1819 3084 \nQ 2600 3084 3056 2656 \nQ 3513 2228 3513 1497 \nQ 3513 744 3044 326 \nQ 2575 -91 1722 -91 \nQ 1428 -91 1123 -41 \nQ 819 9 494 109 \nL 494 744 \nQ 775 591 1075 516 \nQ 1375 441 1709 441 \nQ 2250 441 2565 725 \nQ 2881 1009 2881 1497 \nQ 2881 1984 2565 2268 \nQ 2250 2553 1709 2553 \nQ 1456 2553 1204 2497 \nQ 953 2441 691 2322 \nL 691 4666 \nz\n\" id=\"DejaVuSans-35\" transform=\"scale(0.015625)\"/>\n       </defs>\n       <use xlink:href=\"#DejaVuSans-30\"/>\n       <use x=\"63.623047\" xlink:href=\"#DejaVuSans-2e\"/>\n       <use x=\"95.410156\" xlink:href=\"#DejaVuSans-35\"/>\n      </g>\n     </g>\n    </g>\n    <g id=\"text_7\">\n     <!-- x [m] -->\n     <g transform=\"translate(212.603125 252.916562)scale(0.1 -0.1)\">\n      <defs>\n       <path d=\"M 3513 3500 \nL 2247 1797 \nL 3578 0 \nL 2900 0 \nL 1881 1375 \nL 863 0 \nL 184 0 \nL 1544 1831 \nL 300 3500 \nL 978 3500 \nL 1906 2253 \nL 2834 3500 \nL 3513 3500 \nz\n\" id=\"DejaVuSans-78\" transform=\"scale(0.015625)\"/>\n       <path id=\"DejaVuSans-20\" transform=\"scale(0.015625)\"/>\n       <path d=\"M 550 4863 \nL 1875 4863 \nL 1875 4416 \nL 1125 4416 \nL 1125 -397 \nL 1875 -397 \nL 1875 -844 \nL 550 -844 \nL 550 4863 \nz\n\" id=\"DejaVuSans-5b\" transform=\"scale(0.015625)\"/>\n       <path d=\"M 3328 2828 \nQ 3544 3216 3844 3400 \nQ 4144 3584 4550 3584 \nQ 5097 3584 5394 3201 \nQ 5691 2819 5691 2113 \nL 5691 0 \nL 5113 0 \nL 5113 2094 \nQ 5113 2597 4934 2840 \nQ 4756 3084 4391 3084 \nQ 3944 3084 3684 2787 \nQ 3425 2491 3425 1978 \nL 3425 0 \nL 2847 0 \nL 2847 2094 \nQ 2847 2600 2669 2842 \nQ 2491 3084 2119 3084 \nQ 1678 3084 1418 2786 \nQ 1159 2488 1159 1978 \nL 1159 0 \nL 581 0 \nL 581 3500 \nL 1159 3500 \nL 1159 2956 \nQ 1356 3278 1631 3431 \nQ 1906 3584 2284 3584 \nQ 2666 3584 2933 3390 \nQ 3200 3197 3328 2828 \nz\n\" id=\"DejaVuSans-6d\" transform=\"scale(0.015625)\"/>\n       <path d=\"M 1947 4863 \nL 1947 -844 \nL 622 -844 \nL 622 -397 \nL 1369 -397 \nL 1369 4416 \nL 622 4416 \nL 622 4863 \nL 1947 4863 \nz\n\" id=\"DejaVuSans-5d\" transform=\"scale(0.015625)\"/>\n      </defs>\n      <use xlink:href=\"#DejaVuSans-78\"/>\n      <use x=\"59.179688\" xlink:href=\"#DejaVuSans-20\"/>\n      <use x=\"90.966797\" xlink:href=\"#DejaVuSans-5b\"/>\n      <use x=\"129.980469\" xlink:href=\"#DejaVuSans-6d\"/>\n      <use x=\"227.392578\" xlink:href=\"#DejaVuSans-5d\"/>\n     </g>\n    </g>\n   </g>\n   <g id=\"matplotlib.axis_2\">\n    <g id=\"ytick_1\">\n     <g id=\"line2d_13\">\n      <path clip-path=\"url(#pcc09078a55)\" d=\"M 58.523438 207.229091 \nL 393.323438 207.229091 \n\" style=\"fill:none;stroke:#b0b0b0;stroke-linecap:square;stroke-width:0.8;\"/>\n     </g>\n     <g id=\"line2d_14\">\n      <defs>\n       <path d=\"M 0 0 \nL -3.5 0 \n\" id=\"mb1aa2e75a8\" style=\"stroke:#000000;stroke-width:0.8;\"/>\n      </defs>\n      <g>\n       <use style=\"stroke:#000000;stroke-width:0.8;\" x=\"58.523438\" xlink:href=\"#mb1aa2e75a8\" y=\"207.229091\"/>\n      </g>\n     </g>\n     <g id=\"text_8\">\n      <!-- −0.10 -->\n      <g transform=\"translate(20.878125 211.02831)scale(0.1 -0.1)\">\n       <defs>\n        <path d=\"M 678 2272 \nL 4684 2272 \nL 4684 1741 \nL 678 1741 \nL 678 2272 \nz\n\" id=\"DejaVuSans-2212\" transform=\"scale(0.015625)\"/>\n       </defs>\n       <use xlink:href=\"#DejaVuSans-2212\"/>\n       <use x=\"83.789062\" xlink:href=\"#DejaVuSans-30\"/>\n       <use x=\"147.412109\" xlink:href=\"#DejaVuSans-2e\"/>\n       <use x=\"179.199219\" xlink:href=\"#DejaVuSans-31\"/>\n       <use x=\"242.822266\" xlink:href=\"#DejaVuSans-30\"/>\n      </g>\n     </g>\n    </g>\n    <g id=\"ytick_2\">\n     <g id=\"line2d_15\">\n      <path clip-path=\"url(#pcc09078a55)\" d=\"M 58.523438 176.792727 \nL 393.323438 176.792727 \n\" style=\"fill:none;stroke:#b0b0b0;stroke-linecap:square;stroke-width:0.8;\"/>\n     </g>\n     <g id=\"line2d_16\">\n      <g>\n       <use style=\"stroke:#000000;stroke-width:0.8;\" x=\"58.523438\" xlink:href=\"#mb1aa2e75a8\" y=\"176.792727\"/>\n      </g>\n     </g>\n     <g id=\"text_9\">\n      <!-- −0.05 -->\n      <g transform=\"translate(20.878125 180.591946)scale(0.1 -0.1)\">\n       <use xlink:href=\"#DejaVuSans-2212\"/>\n       <use x=\"83.789062\" xlink:href=\"#DejaVuSans-30\"/>\n       <use x=\"147.412109\" xlink:href=\"#DejaVuSans-2e\"/>\n       <use x=\"179.199219\" xlink:href=\"#DejaVuSans-30\"/>\n       <use x=\"242.822266\" xlink:href=\"#DejaVuSans-35\"/>\n      </g>\n     </g>\n    </g>\n    <g id=\"ytick_3\">\n     <g id=\"line2d_17\">\n      <path clip-path=\"url(#pcc09078a55)\" d=\"M 58.523438 146.356364 \nL 393.323438 146.356364 \n\" style=\"fill:none;stroke:#b0b0b0;stroke-linecap:square;stroke-width:0.8;\"/>\n     </g>\n     <g id=\"line2d_18\">\n      <g>\n       <use style=\"stroke:#000000;stroke-width:0.8;\" x=\"58.523438\" xlink:href=\"#mb1aa2e75a8\" y=\"146.356364\"/>\n      </g>\n     </g>\n     <g id=\"text_10\">\n      <!-- 0.00 -->\n      <g transform=\"translate(29.257813 150.155582)scale(0.1 -0.1)\">\n       <use xlink:href=\"#DejaVuSans-30\"/>\n       <use x=\"63.623047\" xlink:href=\"#DejaVuSans-2e\"/>\n       <use x=\"95.410156\" xlink:href=\"#DejaVuSans-30\"/>\n       <use x=\"159.033203\" xlink:href=\"#DejaVuSans-30\"/>\n      </g>\n     </g>\n    </g>\n    <g id=\"ytick_4\">\n     <g id=\"line2d_19\">\n      <path clip-path=\"url(#pcc09078a55)\" d=\"M 58.523438 115.92 \nL 393.323438 115.92 \n\" style=\"fill:none;stroke:#b0b0b0;stroke-linecap:square;stroke-width:0.8;\"/>\n     </g>\n     <g id=\"line2d_20\">\n      <g>\n       <use style=\"stroke:#000000;stroke-width:0.8;\" x=\"58.523438\" xlink:href=\"#mb1aa2e75a8\" y=\"115.92\"/>\n      </g>\n     </g>\n     <g id=\"text_11\">\n      <!-- 0.05 -->\n      <g transform=\"translate(29.257813 119.719219)scale(0.1 -0.1)\">\n       <use xlink:href=\"#DejaVuSans-30\"/>\n       <use x=\"63.623047\" xlink:href=\"#DejaVuSans-2e\"/>\n       <use x=\"95.410156\" xlink:href=\"#DejaVuSans-30\"/>\n       <use x=\"159.033203\" xlink:href=\"#DejaVuSans-35\"/>\n      </g>\n     </g>\n    </g>\n    <g id=\"ytick_5\">\n     <g id=\"line2d_21\">\n      <path clip-path=\"url(#pcc09078a55)\" d=\"M 58.523438 85.483636 \nL 393.323438 85.483636 \n\" style=\"fill:none;stroke:#b0b0b0;stroke-linecap:square;stroke-width:0.8;\"/>\n     </g>\n     <g id=\"line2d_22\">\n      <g>\n       <use style=\"stroke:#000000;stroke-width:0.8;\" x=\"58.523438\" xlink:href=\"#mb1aa2e75a8\" y=\"85.483636\"/>\n      </g>\n     </g>\n     <g id=\"text_12\">\n      <!-- 0.10 -->\n      <g transform=\"translate(29.257813 89.282855)scale(0.1 -0.1)\">\n       <use xlink:href=\"#DejaVuSans-30\"/>\n       <use x=\"63.623047\" xlink:href=\"#DejaVuSans-2e\"/>\n       <use x=\"95.410156\" xlink:href=\"#DejaVuSans-31\"/>\n       <use x=\"159.033203\" xlink:href=\"#DejaVuSans-30\"/>\n      </g>\n     </g>\n    </g>\n    <g id=\"ytick_6\">\n     <g id=\"line2d_23\">\n      <path clip-path=\"url(#pcc09078a55)\" d=\"M 58.523438 55.047273 \nL 393.323438 55.047273 \n\" style=\"fill:none;stroke:#b0b0b0;stroke-linecap:square;stroke-width:0.8;\"/>\n     </g>\n     <g id=\"line2d_24\">\n      <g>\n       <use style=\"stroke:#000000;stroke-width:0.8;\" x=\"58.523438\" xlink:href=\"#mb1aa2e75a8\" y=\"55.047273\"/>\n      </g>\n     </g>\n     <g id=\"text_13\">\n      <!-- 0.15 -->\n      <g transform=\"translate(29.257813 58.846491)scale(0.1 -0.1)\">\n       <use xlink:href=\"#DejaVuSans-30\"/>\n       <use x=\"63.623047\" xlink:href=\"#DejaVuSans-2e\"/>\n       <use x=\"95.410156\" xlink:href=\"#DejaVuSans-31\"/>\n       <use x=\"159.033203\" xlink:href=\"#DejaVuSans-35\"/>\n      </g>\n     </g>\n    </g>\n    <g id=\"ytick_7\">\n     <g id=\"line2d_25\">\n      <path clip-path=\"url(#pcc09078a55)\" d=\"M 58.523438 24.610909 \nL 393.323438 24.610909 \n\" style=\"fill:none;stroke:#b0b0b0;stroke-linecap:square;stroke-width:0.8;\"/>\n     </g>\n     <g id=\"line2d_26\">\n      <g>\n       <use style=\"stroke:#000000;stroke-width:0.8;\" x=\"58.523438\" xlink:href=\"#mb1aa2e75a8\" y=\"24.610909\"/>\n      </g>\n     </g>\n     <g id=\"text_14\">\n      <!-- 0.20 -->\n      <g transform=\"translate(29.257813 28.410128)scale(0.1 -0.1)\">\n       <use xlink:href=\"#DejaVuSans-30\"/>\n       <use x=\"63.623047\" xlink:href=\"#DejaVuSans-2e\"/>\n       <use x=\"95.410156\" xlink:href=\"#DejaVuSans-32\"/>\n       <use x=\"159.033203\" xlink:href=\"#DejaVuSans-30\"/>\n      </g>\n     </g>\n    </g>\n    <g id=\"text_15\">\n     <!-- y [m] -->\n     <g transform=\"translate(14.798438 129.240312)rotate(-90)scale(0.1 -0.1)\">\n      <defs>\n       <path d=\"M 2059 -325 \nQ 1816 -950 1584 -1140 \nQ 1353 -1331 966 -1331 \nL 506 -1331 \nL 506 -850 \nL 844 -850 \nQ 1081 -850 1212 -737 \nQ 1344 -625 1503 -206 \nL 1606 56 \nL 191 3500 \nL 800 3500 \nL 1894 763 \nL 2988 3500 \nL 3597 3500 \nL 2059 -325 \nz\n\" id=\"DejaVuSans-79\" transform=\"scale(0.015625)\"/>\n      </defs>\n      <use xlink:href=\"#DejaVuSans-79\"/>\n      <use x=\"59.179688\" xlink:href=\"#DejaVuSans-20\"/>\n      <use x=\"90.966797\" xlink:href=\"#DejaVuSans-5b\"/>\n      <use x=\"129.980469\" xlink:href=\"#DejaVuSans-6d\"/>\n      <use x=\"227.392578\" xlink:href=\"#DejaVuSans-5d\"/>\n     </g>\n    </g>\n   </g>\n   <g id=\"line2d_27\">\n    <path clip-path=\"url(#pcc09078a55)\" d=\"M 104.177983 115.92 \nL 152.876165 115.92 \n\" style=\"fill:none;stroke:#ff0000;stroke-linecap:square;stroke-width:3;\"/>\n   </g>\n   <g id=\"line2d_28\">\n    <path clip-path=\"url(#pcc09078a55)\" d=\"M 152.876165 115.92 \nL 201.574347 115.92 \n\" style=\"fill:none;stroke:#ff0000;stroke-linecap:square;stroke-width:3;\"/>\n   </g>\n   <g id=\"line2d_29\">\n    <path clip-path=\"url(#pcc09078a55)\" d=\"M 201.574347 115.92 \nL 250.272528 115.92 \n\" style=\"fill:none;stroke:#ff0000;stroke-linecap:square;stroke-width:3;\"/>\n   </g>\n   <g id=\"line2d_30\">\n    <path clip-path=\"url(#pcc09078a55)\" d=\"M 250.272528 115.92 \nL 298.97071 115.92 \n\" style=\"fill:none;stroke:#ff0000;stroke-linecap:square;stroke-width:3;\"/>\n   </g>\n   <g id=\"line2d_31\">\n    <path clip-path=\"url(#pcc09078a55)\" d=\"M 298.97071 115.92 \nL 347.668892 115.92 \n\" style=\"fill:none;stroke:#ff0000;stroke-linecap:square;stroke-width:3;\"/>\n   </g>\n   <g id=\"line2d_32\">\n    <path clip-path=\"url(#pcc09078a55)\" d=\"M 104.177983 85.483636 \nL 152.876165 85.483636 \n\" style=\"fill:none;stroke:#ff0000;stroke-linecap:square;stroke-width:3;\"/>\n   </g>\n   <g id=\"line2d_33\">\n    <path clip-path=\"url(#pcc09078a55)\" d=\"M 152.876165 85.483636 \nL 201.574347 85.483636 \n\" style=\"fill:none;stroke:#ff0000;stroke-linecap:square;stroke-width:3;\"/>\n   </g>\n   <g id=\"line2d_34\">\n    <path clip-path=\"url(#pcc09078a55)\" d=\"M 201.574347 85.483636 \nL 250.272528 85.483636 \n\" style=\"fill:none;stroke:#ff0000;stroke-linecap:square;stroke-width:3;\"/>\n   </g>\n   <g id=\"line2d_35\">\n    <path clip-path=\"url(#pcc09078a55)\" d=\"M 250.272528 85.483636 \nL 298.97071 85.483636 \n\" style=\"fill:none;stroke:#ff0000;stroke-linecap:square;stroke-width:3;\"/>\n   </g>\n   <g id=\"line2d_36\">\n    <path clip-path=\"url(#pcc09078a55)\" d=\"M 298.97071 85.483636 \nL 347.668892 85.483636 \n\" style=\"fill:none;stroke:#ff0000;stroke-linecap:square;stroke-width:3;\"/>\n   </g>\n   <g id=\"line2d_37\">\n    <path clip-path=\"url(#pcc09078a55)\" d=\"M 73.741619 115.92 \nL 104.177983 85.483636 \n\" style=\"fill:none;stroke:#ff0000;stroke-linecap:square;stroke-width:3;\"/>\n   </g>\n   <g id=\"line2d_38\">\n    <path clip-path=\"url(#pcc09078a55)\" d=\"M 104.177983 85.483636 \nL 152.876165 115.92 \n\" style=\"fill:none;stroke:#ff0000;stroke-linecap:square;stroke-width:3;\"/>\n   </g>\n   <g id=\"line2d_39\">\n    <path clip-path=\"url(#pcc09078a55)\" d=\"M 152.876165 115.92 \nL 201.574347 85.483636 \n\" style=\"fill:none;stroke:#ff0000;stroke-linecap:square;stroke-width:3;\"/>\n   </g>\n   <g id=\"line2d_40\">\n    <path clip-path=\"url(#pcc09078a55)\" d=\"M 201.574347 85.483636 \nL 250.272528 115.92 \n\" style=\"fill:none;stroke:#ff0000;stroke-linecap:square;stroke-width:3;\"/>\n   </g>\n   <g id=\"line2d_41\">\n    <path clip-path=\"url(#pcc09078a55)\" d=\"M 250.272528 85.483636 \nL 298.97071 115.92 \n\" style=\"fill:none;stroke:#ff0000;stroke-linecap:square;stroke-width:3;\"/>\n   </g>\n   <g id=\"line2d_42\">\n    <path clip-path=\"url(#pcc09078a55)\" d=\"M 298.97071 115.92 \nL 347.668892 85.483636 \n\" style=\"fill:none;stroke:#ff0000;stroke-linecap:square;stroke-width:3;\"/>\n   </g>\n   <g id=\"line2d_43\">\n    <path clip-path=\"url(#pcc09078a55)\" d=\"M 347.668892 85.483636 \nL 378.105256 115.92 \n\" style=\"fill:none;stroke:#ff0000;stroke-linecap:square;stroke-width:3;\"/>\n   </g>\n   <g id=\"line2d_44\">\n    <path clip-path=\"url(#pcc09078a55)\" d=\"M 104.177983 146.356364 \nL 152.876165 115.92 \n\" style=\"fill:none;stroke:#ff0000;stroke-linecap:square;stroke-width:3;\"/>\n   </g>\n   <g id=\"line2d_45\">\n    <path clip-path=\"url(#pcc09078a55)\" d=\"M 298.97071 115.92 \nL 347.668892 146.356364 \n\" style=\"fill:none;stroke:#ff0000;stroke-linecap:square;stroke-width:3;\"/>\n   </g>\n   <g id=\"line2d_46\">\n    <path clip-path=\"url(#pcc09078a55)\" d=\"M 104.177983 115.92 \nL 104.177983 85.483636 \n\" style=\"fill:none;stroke:#ff0000;stroke-linecap:square;stroke-width:3;\"/>\n   </g>\n   <g id=\"line2d_47\">\n    <path clip-path=\"url(#pcc09078a55)\" d=\"M 152.876165 85.483636 \nL 152.876165 115.92 \n\" style=\"fill:none;stroke:#ff0000;stroke-linecap:square;stroke-width:3;\"/>\n   </g>\n   <g id=\"line2d_48\">\n    <path clip-path=\"url(#pcc09078a55)\" d=\"M 201.574347 85.483636 \nL 201.574347 115.92 \n\" style=\"fill:none;stroke:#ff0000;stroke-linecap:square;stroke-width:3;\"/>\n   </g>\n   <g id=\"line2d_49\">\n    <path clip-path=\"url(#pcc09078a55)\" d=\"M 250.272528 85.483636 \nL 250.272528 115.92 \n\" style=\"fill:none;stroke:#ff0000;stroke-linecap:square;stroke-width:3;\"/>\n   </g>\n   <g id=\"line2d_50\">\n    <path clip-path=\"url(#pcc09078a55)\" d=\"M 298.97071 85.483636 \nL 298.97071 115.92 \n\" style=\"fill:none;stroke:#ff0000;stroke-linecap:square;stroke-width:3;\"/>\n   </g>\n   <g id=\"line2d_51\">\n    <path clip-path=\"url(#pcc09078a55)\" d=\"M 347.668892 85.483636 \nL 347.668892 115.92 \n\" style=\"fill:none;stroke:#ff0000;stroke-linecap:square;stroke-width:3;\"/>\n   </g>\n   <g id=\"line2d_52\">\n    <path clip-path=\"url(#pcc09078a55)\" d=\"M 201.574347 115.92 \nL 250.272528 85.483636 \n\" style=\"fill:none;stroke:#ff0000;stroke-linecap:square;stroke-width:3;\"/>\n   </g>\n   <g id=\"line2d_53\">\n    <path clip-path=\"url(#pcc09078a55)\" d=\"M 201.574347 115.92 \nL 152.876165 85.483636 \n\" style=\"fill:none;stroke:#ff0000;stroke-linecap:square;stroke-width:3;\"/>\n   </g>\n   <g id=\"line2d_54\">\n    <path clip-path=\"url(#pcc09078a55)\" d=\"M 250.272528 115.92 \nL 298.97071 85.483636 \n\" style=\"fill:none;stroke:#ff0000;stroke-linecap:square;stroke-width:3;\"/>\n   </g>\n   <g id=\"line2d_55\">\n    <path clip-path=\"url(#pcc09078a55)\" d=\"M 104.177983 115.92 \nL 152.876165 85.483636 \n\" style=\"fill:none;stroke:#ff0000;stroke-linecap:square;stroke-width:3;\"/>\n   </g>\n   <g id=\"line2d_56\">\n    <path clip-path=\"url(#pcc09078a55)\" d=\"M 347.668892 115.92 \nL 298.97071 85.483636 \n\" style=\"fill:none;stroke:#ff0000;stroke-linecap:square;stroke-width:3;\"/>\n   </g>\n   <g id=\"patch_3\">\n    <path d=\"M 58.523438 224.64 \nL 58.523438 7.2 \n\" style=\"fill:none;stroke:#000000;stroke-linecap:square;stroke-linejoin:miter;stroke-width:0.8;\"/>\n   </g>\n   <g id=\"patch_4\">\n    <path d=\"M 393.323438 224.64 \nL 393.323438 7.2 \n\" style=\"fill:none;stroke:#000000;stroke-linecap:square;stroke-linejoin:miter;stroke-width:0.8;\"/>\n   </g>\n   <g id=\"patch_5\">\n    <path d=\"M 58.523438 224.64 \nL 393.323438 224.64 \n\" style=\"fill:none;stroke:#000000;stroke-linecap:square;stroke-linejoin:miter;stroke-width:0.8;\"/>\n   </g>\n   <g id=\"patch_6\">\n    <path d=\"M 58.523438 7.2 \nL 393.323438 7.2 \n\" style=\"fill:none;stroke:#000000;stroke-linecap:square;stroke-linejoin:miter;stroke-width:0.8;\"/>\n   </g>\n  </g>\n </g>\n <defs>\n  <clipPath id=\"pcc09078a55\">\n   <rect height=\"217.44\" width=\"334.8\" x=\"58.523438\" y=\"7.2\"/>\n  </clipPath>\n </defs>\n</svg>\n",
      "image/png": "[encoded data removed]"
     },
     "metadata": {
      "needs_background": "light"
     }
    }
   ],
   "source": [
    "entrada = \"entradaFinal.xlsx\"\n",
    "\n",
    "[nn,N,nm,Inc,nc,F,nr,R] = importa(entrada)\n",
    "\n",
    "plota(N, Inc)\n",
    "# geraSaida()"
   ]
  },
  {
   "cell_type": "markdown",
   "metadata": {},
   "source": [
    "### Informações sobre a treliça\n",
    "\n",
    "* nn: número de nós\n",
    "* N: Matriz dos nós\n",
    "* nm: número de membros\n",
    "* Inc: Matriz de incidência. Colunas:\n",
    "    1. Nó 1\n",
    "    2. Nó 2\n",
    "    3. E\n",
    "    4. A\n",
    "* nc: número de cargas\n",
    "* F: forças (Vetor carregamento)\n",
    "* nr: número de restrições\n",
    "* R: Restrições (Vetor com os graus de liberdade)"
   ]
  },
  {
   "cell_type": "code",
   "execution_count": 445,
   "metadata": {},
   "outputs": [],
   "source": [
    "# Comprimento \n",
    "L = 4\n",
    "#numero de nodes\n",
    "n = 8"
   ]
  },
  {
   "cell_type": "markdown",
   "metadata": {},
   "source": [
    "### Gerando a matriz de conectividade transposta"
   ]
  },
  {
   "cell_type": "code",
   "execution_count": 446,
   "metadata": {},
   "outputs": [
    {
     "output_type": "stream",
     "name": "stdout",
     "text": [
      " 0   0   0   0   0   0   0   0   0   0  -1   0   0   0   0   0   0   0   0   0   0   0   0   0   0   0   0   0   0   0  \n-1   0   0   0   0   0   0   0   0   0   0   0   0   0   0   0   0   0   0  -1   0   0   0   0   0   0   0   0  -1   0  \n 1  -1   0   0   0   0   0   0   0   0   0   1  -1   0   0   0   0   1   0   0   1   0   0   0   0   0   0   0   0   0  \n 0   1  -1   0   0   0   0   0   0   0   0   0   0   0   0   0   0   0   0   0   0   1   0   0   0  -1  -1   0   0   0  \n 0   0   1  -1   0   0   0   0   0   0   0   0   0   1   0   0   0   0   0   0   0   0   1   0   0   0   0  -1   0   0  \n 0   0   0   1  -1   0   0   0   0   0   0   0   0   0   1  -1   0   0  -1   0   0   0   0   1   0   0   0   0   0   0  \n 0   0   0   0   1   0   0   0   0   0   0   0   0   0   0   0   0   0   0   0   0   0   0   0   1   0   0   0   0  -1  \n 0   0   0   0   0   0   0   0   0   0   0   0   0   0   0   0   1   0   0   0   0   0   0   0   0   0   0   0   0   0  \n 0   0   0   0   0  -1   0   0   0   0   1  -1   0   0   0   0   0   0   0   1   0   0   0   0   0   0   0   0   0   0  \n 0   0   0   0   0   1  -1   0   0   0   0   0   0   0   0   0   0   0   0   0  -1   0   0   0   0   0   1   0   1   0  \n 0   0   0   0   0   0   1  -1   0   0   0   0   1  -1   0   0   0   0   0   0   0  -1   0   0   0   0   0   0   0   0  \n 0   0   0   0   0   0   0   1  -1   0   0   0   0   0  -1   0   0   0   0   0   0   0  -1   0   0   1   0   0   0   0  \n 0   0   0   0   0   0   0   0   1  -1   0   0   0   0   0   0   0   0   0   0   0   0   0  -1   0   0   0   1   0   1  \n 0   0   0   0   0   0   0   0   0   1   0   0   0   0   0   1  -1   0   0   0   0   0   0   0  -1   0   0   0   0   0  \n 0   0   0   0   0   0   0   0   0   0   0   0   0   0   0   0   0  -1   0   0   0   0   0   0   0   0   0   0   0   0  \n 0   0   0   0   0   0   0   0   0   0   0   0   0   0   0   0   0   0   1   0   0   0   0   0   0   0   0   0   0   0  \n"
     ]
    }
   ],
   "source": [
    "C = []\n",
    "for i in range(nm):\n",
    "        C_i = nn*[0]\n",
    "\n",
    "        no_1 = int(Inc[i, 0])\n",
    "        no_2 = int(Inc[i, 1])\n",
    "\n",
    "        C_i[no_1-1] = -1\n",
    "        C_i[no_2-1] = 1\n",
    "        C.append(C_i) \n",
    "\n",
    "C_t = np.array(C).T\n",
    "matprint(C_t)"
   ]
  },
  {
   "cell_type": "markdown",
   "metadata": {},
   "source": [
    "### Matriz dos membros (M)"
   ]
  },
  {
   "cell_type": "code",
   "execution_count": 447,
   "metadata": {
    "scrolled": true
   },
   "outputs": [
    {
     "output_type": "stream",
     "name": "stdout",
     "text": [
      "[[ 0.08  0.08  0.08  0.08  0.08  0.08  0.08  0.08  0.08  0.08  0.05  0.08\n   0.08  0.08  0.08  0.08  0.05  0.08  0.08  0.    0.    0.    0.    0.\n   0.    0.08 -0.08  0.08  0.08 -0.08]\n [ 0.    0.    0.    0.    0.    0.    0.    0.    0.    0.    0.05 -0.05\n   0.05 -0.05 -0.05  0.05 -0.05  0.05 -0.05  0.05 -0.05 -0.05 -0.05 -0.05\n  -0.05  0.05  0.05  0.05  0.05  0.05]]\n"
     ]
    }
   ],
   "source": [
    "M = np.matmul(N, C_t)\n",
    "print(M)"
   ]
  },
  {
   "cell_type": "markdown",
   "metadata": {},
   "source": [
    "### Obtendo Se, Ke e Kg"
   ]
  },
  {
   "cell_type": "code",
   "execution_count": 448,
   "metadata": {},
   "outputs": [
    {
     "output_type": "stream",
     "name": "stdout",
     "text": [
      "[[ 16970562.74847713  16970562.74847713         0.         ...\n          0.                 0.                 0.        ]\n [ 16970562.74847713  16970562.74847713         0.         ...\n          0.                 0.                 0.        ]\n [        0.                 0.          48293895.99651426 ...\n          0.                 0.                 0.        ]\n ...\n [        0.                 0.                 0.         ...\n    7146053.12363838         0.                 0.        ]\n [        0.                 0.                 0.         ...\n          0.          18293895.99651426 -11433684.99782141]\n [        0.                 0.                 0.         ...\n          0.         -11433684.99782141   7146053.12363838]]\n"
     ]
    }
   ],
   "source": [
    "len_linhas_M = len(M)\n",
    "len_linhas_C = len(C_t)\n",
    "Kg = np.zeros((nn*2, nn*2))\n",
    "for i in range(0, nm):\n",
    "    E = Inc[i,2]\n",
    "    A = Inc[i,3]\n",
    "    \n",
    "    n1 = Inc[i,0]\n",
    "    n2 = Inc[i,1]\n",
    "    \n",
    "    x1 = N[0][int(Inc[:,0][i])-1]\n",
    "    y1 = N[1][int(Inc[:,0][i])-1]\n",
    "    x2 = N[0][int(Inc[:,1][i])-1]\n",
    "    y2 = N[1][int(Inc[:,1][i])-1]    \n",
    "    \n",
    "    L = math.sqrt(((x1-x2)**2+(y1-y2)**2))\n",
    "    \n",
    "    const = E*A/L\n",
    "    \n",
    "    M_aux = M[:,i]\n",
    "    M_aux.shape = [len_linhas_M, 1]\n",
    "    M_aux2 = np.transpose(M_aux)\n",
    "    Se = (const * np.matmul(M_aux, M_aux2)) / (np.linalg.norm(M[:,i])**2)\n",
    "\n",
    "    C_aux = C_t[:,i]\n",
    "    C_aux.shape = [len_linhas_C, 1]\n",
    "    C_aux2 = np.transpose(C_aux)\n",
    "    \n",
    "    multi_C_aux = np.matmul(C_aux, C_aux2)\n",
    "    Ke = np.kron(multi_C_aux, Se)\n",
    "    Kg += Ke\n",
    "# print(Se)\n",
    "print(Kg)"
   ]
  },
  {
   "cell_type": "markdown",
   "metadata": {},
   "source": [
    "### Deslocamento nodal"
   ]
  },
  {
   "cell_type": "markdown",
   "metadata": {},
   "source": [
    "Aplicando as condições de contorno para a matriz das forças:"
   ]
  },
  {
   "cell_type": "code",
   "execution_count": 449,
   "metadata": {
    "scrolled": true
   },
   "outputs": [
    {
     "output_type": "execute_result",
     "data": {
      "text/plain": [
       "array([ 0.,  0.,  0.,  0.,  0.,  0.,  0.,  0.,  0.,  0.,  0.,  0.,  0.,\n",
       "        0.,  0., 75.,  0., 75.,  0.,  0.,  0.,  0.])"
      ]
     },
     "metadata": {},
     "execution_count": 449
    }
   ],
   "source": [
    "F_c = np.delete(F, R.astype(int))\n",
    "F_c\n"
   ]
  },
  {
   "cell_type": "markdown",
   "metadata": {},
   "source": [
    "Aplicando as condições de contorno para a matriz da rigidez:"
   ]
  },
  {
   "cell_type": "code",
   "execution_count": 450,
   "metadata": {},
   "outputs": [
    {
     "output_type": "stream",
     "name": "stdout",
     "text": [
      " 4.82939e+07        -3e+07             0             0             0             0             0             0             0             0             0             0  -1.82939e+07  -1.14337e+07             0             0             0             0             0             0             0             0  \n      -3e+07   1.14882e+08   1.14337e+07        -3e+07             0             0             0             0             0             0  -1.82939e+07   1.14337e+07             0             0  -1.82939e+07  -1.14337e+07             0             0             0             0             0             0  \n           0   1.14337e+07   6.94382e+07             0             0             0             0             0             0             0   1.14337e+07  -7.14605e+06             0      -4.8e+07  -1.14337e+07  -7.14605e+06             0             0             0             0             0             0  \n           0        -3e+07             0   9.65878e+07             0        -3e+07             0             0             0             0             0             0  -1.82939e+07   1.14337e+07             0             0  -1.82939e+07  -1.14337e+07             0             0             0             0  \n           0             0             0             0   6.22921e+07             0             0             0             0             0             0             0   1.14337e+07  -7.14605e+06             0      -4.8e+07  -1.14337e+07  -7.14605e+06             0             0             0             0  \n           0             0             0        -3e+07             0   9.65878e+07  -3.72529e-09        -3e+07             0             0             0             0             0             0  -1.82939e+07   1.14337e+07             0             0  -1.82939e+07  -1.14337e+07             0             0  \n           0             0             0             0             0  -3.72529e-09   6.22921e+07             0             0             0             0             0             0             0   1.14337e+07  -7.14605e+06             0      -4.8e+07  -1.14337e+07  -7.14605e+06             0             0  \n           0             0             0             0             0        -3e+07             0   1.14882e+08  -1.14337e+07             0             0             0             0             0             0             0  -1.82939e+07   1.14337e+07             0             0  -1.82939e+07  -1.14337e+07  \n           0             0             0             0             0             0             0  -1.14337e+07   6.94382e+07             0             0             0             0             0             0             0   1.14337e+07  -7.14605e+06             0      -4.8e+07  -1.14337e+07  -7.14605e+06  \n           0             0             0             0             0             0             0             0             0   1.69706e+07             0             0             0             0             0             0             0             0             0             0  -1.69706e+07   1.69706e+07  \n           0  -1.82939e+07   1.14337e+07             0             0             0             0             0             0             0   6.52645e+07   5.53688e+06        -3e+07             0             0             0             0             0             0             0             0             0  \n           0   1.14337e+07  -7.14605e+06             0             0             0             0             0             0             0   5.53688e+06   7.21166e+07             0             0             0             0             0             0             0             0             0             0  \n-1.82939e+07             0             0  -1.82939e+07   1.14337e+07             0             0             0             0             0        -3e+07             0   9.65878e+07  -1.86265e-09        -3e+07             0             0             0             0             0             0             0  \n-1.14337e+07             0      -4.8e+07   1.14337e+07  -7.14605e+06             0             0             0             0             0             0             0  -1.86265e-09   6.22921e+07             0             0             0             0             0             0             0             0  \n           0  -1.82939e+07  -1.14337e+07             0             0  -1.82939e+07   1.14337e+07             0             0             0             0             0        -3e+07             0   9.65878e+07             0        -3e+07             0             0             0             0             0  \n           0  -1.14337e+07  -7.14605e+06             0      -4.8e+07   1.14337e+07  -7.14605e+06             0             0             0             0             0             0             0             0   6.22921e+07             0             0             0             0             0             0  \n           0             0             0  -1.82939e+07  -1.14337e+07             0             0  -1.82939e+07   1.14337e+07             0             0             0             0             0        -3e+07             0   9.65878e+07   3.72529e-09        -3e+07             0             0             0  \n           0             0             0  -1.14337e+07  -7.14605e+06             0      -4.8e+07   1.14337e+07  -7.14605e+06             0             0             0             0             0             0             0   3.72529e-09   6.22921e+07             0             0             0             0  \n           0             0             0             0             0  -1.82939e+07  -1.14337e+07             0             0             0             0             0             0             0             0             0        -3e+07             0   9.65878e+07             0        -3e+07             0  \n           0             0             0             0             0  -1.14337e+07  -7.14605e+06             0      -4.8e+07             0             0             0             0             0             0             0             0             0             0   6.22921e+07             0             0  \n           0             0             0             0             0             0             0  -1.82939e+07  -1.14337e+07  -1.69706e+07             0             0             0             0             0             0             0             0        -3e+07             0   6.52645e+07  -5.53688e+06  \n           0             0             0             0             0             0             0  -1.14337e+07  -7.14605e+06   1.69706e+07             0             0             0             0             0             0             0             0             0             0  -5.53688e+06   7.21166e+07  \n"
     ]
    }
   ],
   "source": [
    "Kg_c = np.delete(Kg, R.astype(int),0)\n",
    "Kg_c = np.delete(Kg_c, R.astype(int), 1)\n",
    "matprint(Kg_c)"
   ]
  },
  {
   "cell_type": "markdown",
   "metadata": {},
   "source": [
    "___\n",
    "**Funções de Jacobi e Gauss-Seidel utilizadas na aula 21:**"
   ]
  },
  {
   "cell_type": "code",
   "execution_count": 451,
   "metadata": {},
   "outputs": [],
   "source": [
    "# def jacobi(k,F,ite,tol):\n",
    "#     #inicializando X com \n",
    "#     x = np.zeros(k.shape[0])\n",
    "\n",
    "#     # Cria um vetor com os elementos da diagonal de k                       \n",
    "#     diagonal = np.diag(k)\n",
    "#     # Subtrai a diagonal de K\n",
    "#     k_d = k - np.diagflat(diagonal)\n",
    "#     # loop até chegar abaixo da tolerância ou passar do número máximo de iterações\n",
    "#     for i in range(ite):\n",
    "#         x2 = (F - np.matmul(k_d,x)) / diagonal\n",
    "#         error =  max(abs((x2 - x)/x2) )\n",
    "#         if error < tol:\n",
    "#             print(f\"Erro máximo: {error}\")\n",
    "#             print(f\"Convergiu na iteração: {i}\")\n",
    "#             return x2\n",
    "        \n",
    "#         x = x2\n",
    "#     return x\n",
    "def jacobi(K,F,ite,tol):\n",
    "    if type(K) != list:\n",
    "        U = np.zeros((K.shape[0],1))\n",
    "        n = K.shape[0]\n",
    "    else:\n",
    "        U = np.zeros((len(K),1))\n",
    "        n = len(K)\n",
    "    U_ = U.copy()\n",
    "    count = 0\n",
    "    while count < ite:\n",
    "        for i in range(n):\n",
    "            U_[i][0] = F[i]\n",
    "            for j in range(n):\n",
    "                if j != i:\n",
    "                    U_[i][0] -= K[i][j] * U[j][0]\n",
    "            U_[i][0] /= K[i][i]\n",
    "\n",
    "        if 0 not in U:     # Cálculo do erro\n",
    "            ERROR_list = []\n",
    "            for i,j in zip(U_,U):\n",
    "                ERROR_list.append(abs((i-j)/j))\n",
    "            ERRO = max(ERROR_list)\n",
    "            if ERRO < tol:\n",
    "                print(\"Iterações: {0}\".format(count))\n",
    "                return U;\n",
    "        U = U_.copy() \n",
    "        count += 1\n",
    "    print(\"Iterações: {0}\".format(count))\n",
    "    return U;"
   ]
  },
  {
   "cell_type": "code",
   "execution_count": 452,
   "metadata": {},
   "outputs": [],
   "source": [
    "# def gauss_seidel(A, b, ite, tol):\n",
    "#     x = np.zeros_like(b, dtype=np.double)\n",
    "    \n",
    "#     #Iterate\n",
    "#     for k in range(ite):\n",
    "        \n",
    "#         x_old  = x.copy()\n",
    "        \n",
    "#         #Loop over rows\n",
    "#         for i in range(A.shape[0]):\n",
    "#             x[i] = (b[i] - np.dot(A[i,:i], x[:i]) - np.dot(A[i,(i+1):], x_old[(i+1):])) / A[i ,i]\n",
    "            \n",
    "#         #Stop condition \n",
    "#         if np.linalg.norm(x - x_old, ord=np.inf) / np.linalg.norm(x, ord=np.inf) < tol:\n",
    "#             break\n",
    "            \n",
    "#     return x\n",
    "def gauss_seidel(K,F,ite,tol):\n",
    "    if type(K) != list:\n",
    "        U = np.zeros((K.shape[0],1))\n",
    "        n = K.shape[0]\n",
    "    else:\n",
    "        U = np.zeros((len(K),1))\n",
    "        n = len(K)\n",
    "    U_ = U.copy()\n",
    "    count = 0\n",
    "    while count < ite:\n",
    "        for i in range(n):\n",
    "            U_[i][0] = F[i]\n",
    "            for j in range(n):\n",
    "                if j != i:\n",
    "                    U_[i][0] -= K[i][j] * U_[j][0]\n",
    "            U_[i][0] /= K[i][i]\n",
    "\n",
    "        if 0 not in U:     # Cálculo do erro\n",
    "            ERROR_list = []\n",
    "            for i,j in zip(U_,U):\n",
    "                ERROR_list.append(abs((i-j)/j))\n",
    "            ERRO = max(ERROR_list)\n",
    "            if ERRO < tol:\n",
    "                print(\"Iterações: {0}\".format(count))\n",
    "                return U;\n",
    "        U = U_.copy() \n",
    "        count += 1\n",
    "    print(\"Iterações: {0}\".format(count))\n",
    "    return U;"
   ]
  },
  {
   "cell_type": "markdown",
   "metadata": {},
   "source": [
    "___\n",
    "Utilizando Jacobi, Gauss-Seidel e a forma geral para cálculo da matriz **U**"
   ]
  },
  {
   "cell_type": "code",
   "execution_count": 453,
   "metadata": {},
   "outputs": [
    {
     "output_type": "stream",
     "name": "stdout",
     "text": [
      "Iterações: 425\n",
      "Método Jacobi:\n",
      "Iterações: 425\n",
      "  2.1178e-06  \n",
      " 1.86405e-06  \n",
      " 6.86966e-06  \n",
      " 2.28434e-06  \n",
      " 1.81262e-05  \n",
      " 4.51815e-07  \n",
      " 1.89259e-05  \n",
      " 3.37058e-07  \n",
      " 8.47579e-06  \n",
      " 4.98641e-06  \n",
      "-1.66917e-06  \n",
      " 5.13337e-07  \n",
      "-2.05502e-06  \n",
      " 7.34235e-06  \n",
      "-7.23277e-07  \n",
      " 1.83898e-05  \n",
      " 2.90908e-06  \n",
      " 1.91968e-05  \n",
      " 4.81284e-06  \n",
      " 8.78521e-06  \n",
      "  5.0977e-06  \n",
      " 1.11284e-07  \n",
      "Tempo: 0.27634764899266884\n"
     ]
    }
   ],
   "source": [
    "u_jacobi = jacobi(Kg_c, F_c, 1000, 1e-5)\n",
    "print(\"Método Jacobi:\")\n",
    "timer_start = perf_counter()\n",
    "matprint(jacobi(Kg_c, F_c,1000, 1e-5))\n",
    "print(\"Tempo: {0}\".format(perf_counter() - timer_start))"
   ]
  },
  {
   "cell_type": "code",
   "execution_count": 454,
   "metadata": {},
   "outputs": [
    {
     "output_type": "stream",
     "name": "stdout",
     "text": [
      "Iterações: 214\nMétodo Gauss-Seidel:\nIterações: 214\n  2.1178e-06  \n 1.86405e-06  \n 6.86967e-06  \n 2.28434e-06  \n 1.81262e-05  \n 4.51818e-07  \n  1.8926e-05  \n 3.37057e-07  \n 8.47581e-06  \n 4.98642e-06  \n-1.66918e-06  \n 5.13338e-07  \n-2.05503e-06  \n 7.34236e-06  \n-7.23283e-07  \n 1.83898e-05  \n 2.90908e-06  \n 1.91968e-05  \n 4.81285e-06  \n 8.78524e-06  \n 5.09772e-06  \n 1.11285e-07  \nTempo: 0.12710830199648626\n"
     ]
    }
   ],
   "source": [
    "u_gauss = gauss_seidel(Kg_c, F_c, 1000, 1e-5)\n",
    "print(\"Método Gauss-Seidel:\")\n",
    "timer_start = perf_counter()\n",
    "matprint(gauss_seidel(Kg_c, F_c, 1000, 1e-5))\n",
    "print(\"Tempo: {0}\".format(perf_counter() - timer_start))"
   ]
  },
  {
   "cell_type": "markdown",
   "metadata": {},
   "source": [
    "**Deslocamentos nodais**"
   ]
  },
  {
   "cell_type": "code",
   "execution_count": 455,
   "metadata": {},
   "outputs": [
    {
     "output_type": "execute_result",
     "data": {
      "text/plain": [
       "array([ 2.11792048e-06,  1.86415248e-06,  6.86989241e-06,  2.28448247e-06,\n",
       "        1.81267692e-05,  4.51913179e-07,  1.89266348e-05,  3.37123775e-07,\n",
       "        8.47619883e-06,  4.98669145e-06, -1.66919717e-06,  5.13343895e-07,\n",
       "       -2.05504512e-06,  7.34258803e-06, -7.23256265e-07,  1.83903779e-05,\n",
       "        2.90922528e-06,  1.91974594e-05,  4.81307868e-06,  8.78562867e-06,\n",
       "        5.09798169e-06,  1.11290239e-07])"
      ]
     },
     "metadata": {},
     "execution_count": 455
    }
   ],
   "source": [
    "U_ar = np.linalg.solve(Kg_c, F_c)\n",
    "U_ar"
   ]
  },
  {
   "cell_type": "markdown",
   "metadata": {},
   "source": [
    "**Ajustando o tamanho das matrizes U**"
   ]
  },
  {
   "cell_type": "code",
   "execution_count": 456,
   "metadata": {},
   "outputs": [
    {
     "output_type": "execute_result",
     "data": {
      "text/plain": [
       "array([[ 0.00000000e+00],\n",
       "       [ 0.00000000e+00],\n",
       "       [ 2.11780377e-06],\n",
       "       [ 0.00000000e+00],\n",
       "       [ 1.86404526e-06],\n",
       "       [ 6.86966442e-06],\n",
       "       [ 2.28434163e-06],\n",
       "       [ 1.81261593e-05],\n",
       "       [ 4.51815499e-07],\n",
       "       [ 1.89259318e-05],\n",
       "       [ 3.37057530e-07],\n",
       "       [ 8.47579448e-06],\n",
       "       [ 0.00000000e+00],\n",
       "       [ 0.00000000e+00],\n",
       "       [ 4.98641325e-06],\n",
       "       [ 0.00000000e+00],\n",
       "       [-1.66917484e-06],\n",
       "       [ 5.13336526e-07],\n",
       "       [-2.05502344e-06],\n",
       "       [ 7.34234572e-06],\n",
       "       [-7.23276762e-07],\n",
       "       [ 1.83897926e-05],\n",
       "       [ 2.90907559e-06],\n",
       "       [ 1.91967783e-05],\n",
       "       [ 4.81284030e-06],\n",
       "       [ 8.78521374e-06],\n",
       "       [ 5.09770140e-06],\n",
       "       [ 1.11284427e-07],\n",
       "       [ 0.00000000e+00],\n",
       "       [ 0.00000000e+00],\n",
       "       [ 0.00000000e+00],\n",
       "       [ 0.00000000e+00]])"
      ]
     },
     "metadata": {},
     "execution_count": 456
    }
   ],
   "source": [
    "u_jacobi_ajustado = np.zeros((nn*2,1))\n",
    "i = 0\n",
    "for e in range(len(u_jacobi_ajustado)):\n",
    "    if e not in R:\n",
    "        u_jacobi_ajustado[e] += u_jacobi[i]\n",
    "        i += 1\n",
    "u_jacobi_ajustado"
   ]
  },
  {
   "cell_type": "code",
   "execution_count": 457,
   "metadata": {},
   "outputs": [
    {
     "output_type": "execute_result",
     "data": {
      "text/plain": [
       "array([[ 0.00000000e+00],\n",
       "       [ 0.00000000e+00],\n",
       "       [ 2.11780029e-06],\n",
       "       [ 0.00000000e+00],\n",
       "       [ 1.86404659e-06],\n",
       "       [ 6.86967286e-06],\n",
       "       [ 2.28434194e-06],\n",
       "       [ 1.81261835e-05],\n",
       "       [ 4.51817824e-07],\n",
       "       [ 1.89259626e-05],\n",
       "       [ 3.37057451e-07],\n",
       "       [ 8.47581486e-06],\n",
       "       [ 0.00000000e+00],\n",
       "       [ 0.00000000e+00],\n",
       "       [ 4.98642394e-06],\n",
       "       [ 0.00000000e+00],\n",
       "       [-1.66917983e-06],\n",
       "       [ 5.13337597e-07],\n",
       "       [-2.05502853e-06],\n",
       "       [ 7.34235541e-06],\n",
       "       [-7.23283091e-07],\n",
       "       [ 1.83898224e-05],\n",
       "       [ 2.90907967e-06],\n",
       "       [ 1.91968166e-05],\n",
       "       [ 4.81285090e-06],\n",
       "       [ 8.78523819e-06],\n",
       "       [ 5.09772107e-06],\n",
       "       [ 1.11284617e-07],\n",
       "       [ 0.00000000e+00],\n",
       "       [ 0.00000000e+00],\n",
       "       [ 0.00000000e+00],\n",
       "       [ 0.00000000e+00]])"
      ]
     },
     "metadata": {},
     "execution_count": 457
    }
   ],
   "source": [
    "u_gauss_ajustado = np.zeros((nn*2,1))\n",
    "i = 0\n",
    "for e in range(len(u_gauss_ajustado)):\n",
    "    if e not in R:\n",
    "        u_gauss_ajustado[e] += u_gauss[i]\n",
    "        i += 1\n",
    "u_gauss_ajustado"
   ]
  },
  {
   "cell_type": "code",
   "execution_count": 458,
   "metadata": {},
   "outputs": [
    {
     "output_type": "stream",
     "name": "stdout",
     "text": [
      "[1.91974594e-05]\n[2.05504512e-06]\n"
     ]
    }
   ],
   "source": [
    "u = np.zeros((nn*2,1))\n",
    "i = 0\n",
    "for e in range(len(u)):\n",
    "    if e not in R:\n",
    "        u[e] += U_ar[i]\n",
    "        i += 1\n",
    "u\n",
    "print(max(u))\n",
    "print(abs(min(u)))"
   ]
  },
  {
   "cell_type": "markdown",
   "metadata": {},
   "source": [
    "### Reações de apoio"
   ]
  },
  {
   "cell_type": "code",
   "execution_count": 459,
   "metadata": {
    "scrolled": false
   },
   "outputs": [
    {
     "output_type": "execute_result",
     "data": {
      "text/plain": [
       "array([[ 1.96154806e+01],\n",
       "       [ 1.96154806e+01],\n",
       "       [-1.42108547e-14],\n",
       "       [-2.93986569e+01],\n",
       "       [ 4.26325641e-14],\n",
       "       [ 1.77635684e-15],\n",
       "       [-2.84217094e-14],\n",
       "       [-1.35003120e-13],\n",
       "       [ 5.68434189e-14],\n",
       "       [ 1.77635684e-13],\n",
       "       [-1.42108547e-14],\n",
       "       [-6.75015599e-14],\n",
       "       [ 2.28843671e+00],\n",
       "       [-1.30932752e+01],\n",
       "       [-1.93178806e-14],\n",
       "       [ 9.32587341e-15],\n",
       "       [ 1.42108547e-14],\n",
       "       [ 0.00000000e+00],\n",
       "       [ 0.00000000e+00],\n",
       "       [-6.86117829e-14],\n",
       "       [ 0.00000000e+00],\n",
       "       [ 7.50000000e+01],\n",
       "       [-1.42108547e-14],\n",
       "       [ 7.50000000e+01],\n",
       "       [-5.68434189e-14],\n",
       "       [ 4.97379915e-14],\n",
       "       [ 1.42108547e-14],\n",
       "       [-1.42108547e-14],\n",
       "       [-1.12650797e+02],\n",
       "       [-7.04067484e+01],\n",
       "       [ 9.07468801e+01],\n",
       "       [-5.67168001e+01]])"
      ]
     },
     "metadata": {},
     "execution_count": 459
    }
   ],
   "source": [
    "P = np.matmul(Kg,u)\n",
    "P"
   ]
  },
  {
   "cell_type": "code",
   "execution_count": 460,
   "metadata": {
    "scrolled": true
   },
   "outputs": [
    {
     "output_type": "execute_result",
     "data": {
      "text/plain": [
       "array([[ 1.96154806e+01],\n",
       "       [ 1.96154806e+01],\n",
       "       [-2.93986569e+01],\n",
       "       [-1.12650797e+02],\n",
       "       [-7.04067484e+01],\n",
       "       [ 2.28843671e+00],\n",
       "       [-1.30932752e+01],\n",
       "       [ 9.32587341e-15],\n",
       "       [ 9.07468801e+01],\n",
       "       [-5.67168001e+01]])"
      ]
     },
     "metadata": {},
     "execution_count": 460
    }
   ],
   "source": [
    "P_r = np.zeros((nr,1))\n",
    "for i in range(nr):  \n",
    "    index = int(R[i])\n",
    "    P_r[i] = P[index]    \n",
    "P_r"
   ]
  },
  {
   "cell_type": "markdown",
   "metadata": {},
   "source": [
    "### Deformações, Tenões e Forças internas"
   ]
  },
  {
   "cell_type": "code",
   "execution_count": null,
   "metadata": {},
   "outputs": [],
   "source": []
  },
  {
   "cell_type": "code",
   "execution_count": 461,
   "metadata": {},
   "outputs": [],
   "source": [
    "deformacoes=[]\n",
    "tensoes=[]\n",
    "forcas=[]\n",
    "for i in range (nm):\n",
    "        \n",
    "    matriz = [\n",
    "            u[(int(Inc[i, 0])-1)*2], \n",
    "            u[(int(Inc[i, 0])-1)*2 +1], \n",
    "            u[(int(Inc[i, 1])-1)*2], \n",
    "            u[int(Inc[i, 1]-1)*2 +1]\n",
    "    ]\n",
    "    \n",
    "    x1 = N[0][int(Inc[:,0][i])-1]\n",
    "    y1 = N[1][int(Inc[:,0][i])-1]\n",
    "    x2 = N[0][int(Inc[:,1][i])-1]\n",
    "    y2 = N[1][int(Inc[:,1][i])-1]    \n",
    "    \n",
    "    L = math.sqrt(((x1-x2)**2+(y1-y2)**2))  \n",
    "    \n",
    "    E =  Inc[i, 2]\n",
    "    A = Inc[i,3]\n",
    "    const = E*A/L\n",
    "    \n",
    "    s = (y2-y1)/L\n",
    "    c = (x2-x1)/L\n",
    "    \n",
    "    C = [-c, -s, c, s]\n",
    "\n",
    "    deformacao = (1/L) * np.matmul(C, matriz)\n",
    "    tensao = deformacao*E\n",
    "    forca=tensao*A\n",
    "    \n",
    "    deformacoes.append(deformacao)\n",
    "    tensoes.append(tensao)\n",
    "    forcas.append(forca)\n",
    "\n"
   ]
  },
  {
   "cell_type": "code",
   "execution_count": 462,
   "metadata": {},
   "outputs": [
    {
     "output_type": "stream",
     "name": "stdout",
     "text": [
      "[5.5351328e-05]\n[2.29071162e-05]\n"
     ]
    }
   ],
   "source": [
    "deformacoes\n",
    "print(max(deformacoes))\n",
    "print(abs(min(deformacoes)))"
   ]
  },
  {
   "cell_type": "code",
   "execution_count": 463,
   "metadata": {},
   "outputs": [
    {
     "output_type": "stream",
     "name": "stdout",
     "text": [
      "[221405.31192263]\n[91628.46462937]\n"
     ]
    }
   ],
   "source": [
    "tensoes\n",
    "print(max(tensoes))\n",
    "print(abs(min(tensoes)))"
   ]
  },
  {
   "cell_type": "code",
   "execution_count": 464,
   "metadata": {},
   "outputs": [
    {
     "output_type": "execute_result",
     "data": {
      "text/plain": [
       "[array([-7.61303994]),\n",
       " array([12.60989961]),\n",
       " array([-54.97707878]),\n",
       " array([-3.44368211]),\n",
       " array([-10.11371326]),\n",
       " array([-11.57543834]),\n",
       " array([39.95366553]),\n",
       " array([108.97444627]),\n",
       " array([57.11560208]),\n",
       " array([8.54709033]),\n",
       " array([-27.74047864]),\n",
       " array([-9.48120082]),\n",
       " array([99.51413256]),\n",
       " array([18.12153965]),\n",
       " array([89.06828976]),\n",
       " array([-10.07913611]),\n",
       " array([-2.87492516e-14]),\n",
       " array([132.84318715]),\n",
       " array([107.01304438]),\n",
       " array([24.64050695]),\n",
       " array([22.68938999]),\n",
       " array([12.65321842]),\n",
       " array([12.99957931]),\n",
       " array([14.85263238]),\n",
       " array([5.34193146]),\n",
       " array([27.91387004]),\n",
       " array([-51.78791481]),\n",
       " array([-42.64909683]),\n",
       " array([8.9776594]),\n",
       " array([14.6252061])]"
      ]
     },
     "metadata": {},
     "execution_count": 464
    }
   ],
   "source": [
    "forcas"
   ]
  },
  {
   "cell_type": "markdown",
   "metadata": {},
   "source": [
    "___\n",
    "**Gerando Saídas com as 3 matrizes U calculadas anteriormente**"
   ]
  },
  {
   "cell_type": "code",
   "execution_count": 465,
   "metadata": {},
   "outputs": [],
   "source": [
    "x = geraSaida(\"geral\", P_r, u, deformacoes, forcas, tensoes)"
   ]
  },
  {
   "cell_type": "code",
   "execution_count": 466,
   "metadata": {},
   "outputs": [],
   "source": [
    "geraSaida(\"jacobi\", P_r, u_jacobi_ajustado, deformacoes, forcas, tensoes)"
   ]
  },
  {
   "cell_type": "code",
   "execution_count": 467,
   "metadata": {},
   "outputs": [],
   "source": [
    "geraSaida(\"gauss\", P_r, u_gauss_ajustado, deformacoes, forcas, tensoes)"
   ]
  },
  {
   "cell_type": "code",
   "execution_count": null,
   "metadata": {},
   "outputs": [],
   "source": []
  },
  {
   "cell_type": "code",
   "execution_count": null,
   "metadata": {},
   "outputs": [],
   "source": []
  },
  {
   "cell_type": "code",
   "execution_count": null,
   "metadata": {},
   "outputs": [],
   "source": []
  }
 ],
 "metadata": {
  "kernelspec": {
   "display_name": "Python 3",
   "language": "python",
   "name": "python3"
  },
  "language_info": {
   "codemirror_mode": {
    "name": "ipython",
    "version": 3
   },
   "file_extension": ".py",
   "mimetype": "text/x-python",
   "name": "python",
   "nbconvert_exporter": "python",
   "pygments_lexer": "ipython3",
   "version": "3.8.5"
  }
 },
 "nbformat": 4,
 "nbformat_minor": 2
}