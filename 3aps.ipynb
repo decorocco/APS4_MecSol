{
 "cells": [
  {
   "cell_type": "markdown",
   "metadata": {},
   "source": [
    "# APS 3\n",
    "\n",
    "___"
   ]
  },
  {
   "cell_type": "markdown",
   "metadata": {},
   "source": [
    "####  <font style='font-family:Georgia' color='darkturquoise'> Arthur"
   ]
  },
  {
   "cell_type": "markdown",
   "metadata": {},
   "source": [
    "### Importando bibliotecas e valores"
   ]
  },
  {
   "cell_type": "code",
   "execution_count": 106,
   "metadata": {},
   "outputs": [],
   "source": [
    "from funcoesTermosol import *\n",
    "import numpy as np\n",
    "import math\n",
    "from time import perf_counter"
   ]
  },
  {
   "cell_type": "code",
   "execution_count": 107,
   "metadata": {},
   "outputs": [],
   "source": [
    "def matprint(mat, fmt=\"g\"):        # Credits to braingineer https://gist.github.com/braingineer/d801735dac07ff3ac4d746e1f218ab75\n",
    "    col_maxes = [max([len((\"{:\"+fmt+\"}\").format(x)) for x in col]) for col in mat.T]\n",
    "    for x in mat:\n",
    "        for i, y in enumerate(x):\n",
    "            print((\"{:\"+str(col_maxes[i])+fmt+\"}\").format(y), end=\"  \")\n",
    "        print(\"\")"
   ]
  },
  {
   "cell_type": "markdown",
   "metadata": {},
   "source": [
    "### Representação da estrutura"
   ]
  },
  {
   "cell_type": "code",
   "execution_count": 108,
   "metadata": {
    "scrolled": false
   },
   "outputs": [
    {
     "data": {
      "image/png": "[encoded data removed]",
      "text/plain": [
       "<Figure size 432x288 with 1 Axes>"
      ]
     },
     "metadata": {
      "needs_background": "light"
     },
     "output_type": "display_data"
    }
   ],
   "source": [
    "entrada = \"entrada2.xlsx\"\n",
    "\n",
    "[nn,N,nm,Inc,nc,F,nr,R] = importa(entrada)\n",
    "\n",
    "plota(N, Inc)\n",
    "# geraSaida()"
   ]
  },
  {
   "cell_type": "markdown",
   "metadata": {},
   "source": [
    "### Informações sobre a treliça\n",
    "\n",
    "* nn: número de nós\n",
    "* N: Matriz dos nós\n",
    "* nm: número de membros\n",
    "* Inc: Matriz de incidência. Colunas:\n",
    "    1. Nó 1\n",
    "    2. Nó 2\n",
    "    3. E\n",
    "    4. A\n",
    "* nc: número de cargas\n",
    "* F: forças (Vetor carregamento)\n",
    "* nr: número de restrições\n",
    "* R: Restrições (Vetor com os graus de liberdade)"
   ]
  },
  {
   "cell_type": "code",
   "execution_count": 109,
   "metadata": {},
   "outputs": [],
   "source": [
    "# Comprimento \n",
    "L = 4\n",
    "#numero de nodes\n",
    "n = 8"
   ]
  },
  {
   "cell_type": "markdown",
   "metadata": {},
   "source": [
    "### Gerando a matriz de conectividade transposta"
   ]
  },
  {
   "cell_type": "code",
   "execution_count": 110,
   "metadata": {},
   "outputs": [
    {
     "name": "stdout",
     "output_type": "stream",
     "text": [
      " 0   0   0   0   0   0   0   0   0   0  -1   0   0   0   0   0   0   0   0   0   0   0   0   0   0   0   0   0  \n",
      "-1   0   0   0   0   0   0   0   0   0   0   0   0   0   0   0   0   0   0  -1   0   0   0   0   0   0   0   0  \n",
      " 1  -1   0   0   0   0   0   0   0   0   0   1  -1   0   0   0   0   1   0   0   1   0   0   0   0   0   0   0  \n",
      " 0   1  -1   0   0   0   0   0   0   0   0   0   0   0   0   0   0   0   0   0   0   1   0   0   0  -1  -1   0  \n",
      " 0   0   1  -1   0   0   0   0   0   0   0   0   0   1   0   0   0   0   0   0   0   0   1   0   0   0   0  -1  \n",
      " 0   0   0   1  -1   0   0   0   0   0   0   0   0   0   1  -1   0   0  -1   0   0   0   0   1   0   0   0   0  \n",
      " 0   0   0   0   1   0   0   0   0   0   0   0   0   0   0   0   0   0   0   0   0   0   0   0   1   0   0   0  \n",
      " 0   0   0   0   0   0   0   0   0   0   0   0   0   0   0   0   1   0   0   0   0   0   0   0   0   0   0   0  \n",
      " 0   0   0   0   0  -1   0   0   0   0   1  -1   0   0   0   0   0   0   0   1   0   0   0   0   0   0   0   0  \n",
      " 0   0   0   0   0   1  -1   0   0   0   0   0   0   0   0   0   0   0   0   0  -1   0   0   0   0   0   1   0  \n",
      " 0   0   0   0   0   0   1  -1   0   0   0   0   1  -1   0   0   0   0   0   0   0  -1   0   0   0   0   0   0  \n",
      " 0   0   0   0   0   0   0   1  -1   0   0   0   0   0  -1   0   0   0   0   0   0   0  -1   0   0   1   0   0  \n",
      " 0   0   0   0   0   0   0   0   1  -1   0   0   0   0   0   0   0   0   0   0   0   0   0  -1   0   0   0   1  \n",
      " 0   0   0   0   0   0   0   0   0   1   0   0   0   0   0   1  -1   0   0   0   0   0   0   0  -1   0   0   0  \n",
      " 0   0   0   0   0   0   0   0   0   0   0   0   0   0   0   0   0  -1   0   0   0   0   0   0   0   0   0   0  \n",
      " 0   0   0   0   0   0   0   0   0   0   0   0   0   0   0   0   0   0   1   0   0   0   0   0   0   0   0   0  \n"
     ]
    }
   ],
   "source": [
    "C = []\n",
    "for i in range(nm):\n",
    "        C_i = nn*[0]\n",
    "\n",
    "        no_1 = int(Inc[i, 0])\n",
    "        no_2 = int(Inc[i, 1])\n",
    "\n",
    "        C_i[no_1-1] = -1\n",
    "        C_i[no_2-1] = 1\n",
    "        C.append(C_i) \n",
    "\n",
    "C_t = np.array(C).T\n",
    "matprint(C_t)"
   ]
  },
  {
   "cell_type": "markdown",
   "metadata": {},
   "source": [
    "### Matriz dos membros (M)"
   ]
  },
  {
   "cell_type": "code",
   "execution_count": 111,
   "metadata": {
    "scrolled": true
   },
   "outputs": [
    {
     "name": "stdout",
     "output_type": "stream",
     "text": [
      "[[ 0.08  0.08  0.08  0.08  0.08  0.08  0.08  0.08  0.08  0.08  0.05  0.08\n",
      "   0.08  0.08  0.08  0.08  0.05  0.08  0.08  0.    0.    0.    0.    0.\n",
      "   0.    0.08 -0.08  0.08]\n",
      " [ 0.    0.    0.    0.    0.    0.    0.    0.    0.    0.    0.05 -0.05\n",
      "   0.05 -0.05 -0.05  0.05 -0.05  0.05 -0.05  0.05 -0.05 -0.05 -0.05 -0.05\n",
      "  -0.05  0.05  0.05  0.05]]\n"
     ]
    }
   ],
   "source": [
    "M = np.matmul(N, C_t)\n",
    "print(M)"
   ]
  },
  {
   "cell_type": "markdown",
   "metadata": {},
   "source": [
    "### Obtendo Se, Ke e Kg"
   ]
  },
  {
   "cell_type": "code",
   "execution_count": 112,
   "metadata": {},
   "outputs": [
    {
     "name": "stdout",
     "output_type": "stream",
     "text": [
      "[[ 2828427.12474619  2828427.12474619        0.         ...\n",
      "         0.                0.                0.        ]\n",
      " [ 2828427.12474619  2828427.12474619        0.         ...\n",
      "         0.                0.                0.        ]\n",
      " [       0.                0.          5000000.         ...\n",
      "         0.                0.                0.        ]\n",
      " ...\n",
      " [       0.                0.                0.         ...\n",
      "   1191008.85393973        0.                0.        ]\n",
      " [       0.                0.                0.         ...\n",
      "         0.          3048982.66608571 -1905614.16630357]\n",
      " [       0.                0.                0.         ...\n",
      "         0.         -1905614.16630357  1191008.85393973]]\n"
     ]
    }
   ],
   "source": [
    "len_linhas_M = len(M)\n",
    "len_linhas_C = len(C_t)\n",
    "Kg = np.zeros((nn*2, nn*2))\n",
    "for i in range(0, nm):\n",
    "    E = Inc[i,2]\n",
    "    A = Inc[i,3]\n",
    "    \n",
    "    n1 = Inc[i,0]\n",
    "    n2 = Inc[i,1]\n",
    "    \n",
    "    x1 = N[0][int(Inc[:,0][i])-1]\n",
    "    y1 = N[1][int(Inc[:,0][i])-1]\n",
    "    x2 = N[0][int(Inc[:,1][i])-1]\n",
    "    y2 = N[1][int(Inc[:,1][i])-1]    \n",
    "    \n",
    "    L = math.sqrt(((x1-x2)**2+(y1-y2)**2))\n",
    "    \n",
    "    const = E*A/L\n",
    "    \n",
    "    M_aux = M[:,i]\n",
    "    M_aux.shape = [len_linhas_M, 1]\n",
    "    M_aux2 = np.transpose(M_aux)\n",
    "    Se = (const * np.matmul(M_aux, M_aux2)) / (np.linalg.norm(M[:,i])**2)\n",
    "\n",
    "    C_aux = C_t[:,i]\n",
    "    C_aux.shape = [len_linhas_C, 1]\n",
    "    C_aux2 = np.transpose(C_aux)\n",
    "    \n",
    "    multi_C_aux = np.matmul(C_aux, C_aux2)\n",
    "    Ke = np.kron(multi_C_aux, Se)\n",
    "    Kg += Ke\n",
    "# print(Se)\n",
    "print(Kg)"
   ]
  },
  {
   "cell_type": "markdown",
   "metadata": {},
   "source": [
    "### Deslocamento nodal"
   ]
  },
  {
   "cell_type": "markdown",
   "metadata": {},
   "source": [
    "Aplicando as condições de contorno para a matriz das forças:"
   ]
  },
  {
   "cell_type": "code",
   "execution_count": 113,
   "metadata": {
    "scrolled": true
   },
   "outputs": [
    {
     "data": {
      "text/plain": [
       "array([  0.,   0.,   0.,   0.,   0.,   0.,   0.,   0.,   0.,   0.,   0.,\n",
       "         0.,   0.,   0.,   0., -75.,   0., -75.,   0.,   0.,   0.,   0.])"
      ]
     },
     "execution_count": 113,
     "metadata": {},
     "output_type": "execute_result"
    }
   ],
   "source": [
    "F_c = np.delete(F, R.astype(int))\n",
    "F_c\n"
   ]
  },
  {
   "cell_type": "markdown",
   "metadata": {},
   "source": [
    "Aplicando as condições de contorno para a matriz da rigidez:"
   ]
  },
  {
   "cell_type": "code",
   "execution_count": 114,
   "metadata": {},
   "outputs": [
    {
     "name": "stdout",
     "output_type": "stream",
     "text": [
      " 5e+06        -5e+06             0             0             0             0             0             0             0             0             0             0             0             0             0             0             0             0             0             0             0             0  \n",
      "-5e+06   1.91469e+07   1.90561e+06        -5e+06             0             0             0             0             0             0  -3.04898e+06   1.90561e+06             0             0  -3.04898e+06  -1.90561e+06             0             0             0             0             0             0  \n",
      "     0   1.90561e+06    1.1573e+07             0             0             0             0             0             0             0   1.90561e+06  -1.19101e+06             0        -8e+06  -1.90561e+06  -1.19101e+06             0             0             0             0             0             0  \n",
      "     0        -5e+06             0    1.6098e+07             0        -5e+06             0             0             0             0             0             0  -3.04898e+06   1.90561e+06             0             0  -3.04898e+06  -1.90561e+06             0             0             0             0  \n",
      "     0             0             0             0    1.0382e+07             0             0             0             0             0             0             0   1.90561e+06  -1.19101e+06             0        -8e+06  -1.90561e+06  -1.19101e+06             0             0             0             0  \n",
      "     0             0             0        -5e+06             0    1.6098e+07  -6.98492e-10        -5e+06             0             0             0             0             0             0  -3.04898e+06   1.90561e+06             0             0  -3.04898e+06  -1.90561e+06             0             0  \n",
      "     0             0             0             0             0  -6.98492e-10    1.0382e+07             0             0             0             0             0             0             0   1.90561e+06  -1.19101e+06             0        -8e+06  -1.90561e+06  -1.19101e+06             0             0  \n",
      "     0             0             0             0             0        -5e+06             0   1.91469e+07  -1.90561e+06             0             0             0             0             0             0             0  -3.04898e+06   1.90561e+06             0             0  -3.04898e+06  -1.90561e+06  \n",
      "     0             0             0             0             0             0             0  -1.90561e+06    1.1573e+07             0             0             0             0             0             0             0   1.90561e+06  -1.19101e+06             0        -8e+06  -1.90561e+06  -1.19101e+06  \n",
      "     0             0             0             0             0             0             0             0             0   2.82843e+06             0             0             0             0             0             0             0             0             0             0  -2.82843e+06   2.82843e+06  \n",
      "     0  -3.04898e+06   1.90561e+06             0             0             0             0             0             0             0   1.08774e+07        922813        -5e+06             0             0             0             0             0             0             0             0             0  \n",
      "     0   1.90561e+06  -1.19101e+06             0             0             0             0             0             0             0        922813   1.20194e+07             0             0             0             0             0             0             0             0             0             0  \n",
      "     0             0             0  -3.04898e+06   1.90561e+06             0             0             0             0             0        -5e+06             0    1.3049e+07  -1.90561e+06        -5e+06             0             0             0             0             0             0             0  \n",
      "     0             0        -8e+06   1.90561e+06  -1.19101e+06             0             0             0             0             0             0             0  -1.90561e+06   9.19101e+06             0             0             0             0             0             0             0             0  \n",
      "     0  -3.04898e+06  -1.90561e+06             0             0  -3.04898e+06   1.90561e+06             0             0             0             0             0        -5e+06             0    1.6098e+07             0        -5e+06             0             0             0             0             0  \n",
      "     0  -1.90561e+06  -1.19101e+06             0        -8e+06   1.90561e+06  -1.19101e+06             0             0             0             0             0             0             0             0    1.0382e+07             0             0             0             0             0             0  \n",
      "     0             0             0  -3.04898e+06  -1.90561e+06             0             0  -3.04898e+06   1.90561e+06             0             0             0             0             0        -5e+06             0    1.6098e+07   6.98492e-10        -5e+06             0             0             0  \n",
      "     0             0             0  -1.90561e+06  -1.19101e+06             0        -8e+06   1.90561e+06  -1.19101e+06             0             0             0             0             0             0             0   6.98492e-10    1.0382e+07             0             0             0             0  \n",
      "     0             0             0             0             0  -3.04898e+06  -1.90561e+06             0             0             0             0             0             0             0             0             0        -5e+06             0    1.3049e+07   1.90561e+06        -5e+06             0  \n",
      "     0             0             0             0             0  -1.90561e+06  -1.19101e+06             0        -8e+06             0             0             0             0             0             0             0             0             0   1.90561e+06   9.19101e+06             0             0  \n",
      "     0             0             0             0             0             0             0  -3.04898e+06  -1.90561e+06  -2.82843e+06             0             0             0             0             0             0             0             0        -5e+06             0   1.08774e+07       -922813  \n",
      "     0             0             0             0             0             0             0  -1.90561e+06  -1.19101e+06   2.82843e+06             0             0             0             0             0             0             0             0             0             0       -922813   1.20194e+07  \n"
     ]
    }
   ],
   "source": [
    "Kg_c = np.delete(Kg, R.astype(int),0)\n",
    "Kg_c = np.delete(Kg_c, R.astype(int), 1)\n",
    "matprint(Kg_c)"
   ]
  },
  {
   "cell_type": "markdown",
   "metadata": {},
   "source": [
    "___\n",
    "**Funções de Jacobi e Gauss-Seidel utilizadas na aula 21:**"
   ]
  },
  {
   "cell_type": "code",
   "execution_count": 115,
   "metadata": {},
   "outputs": [],
   "source": [
    "# def jacobi(k,F,ite,tol):\n",
    "#     #inicializando X com \n",
    "#     x = np.zeros(k.shape[0])\n",
    "\n",
    "#     # Cria um vetor com os elementos da diagonal de k                       \n",
    "#     diagonal = np.diag(k)\n",
    "#     # Subtrai a diagonal de K\n",
    "#     k_d = k - np.diagflat(diagonal)\n",
    "#     # loop até chegar abaixo da tolerância ou passar do número máximo de iterações\n",
    "#     for i in range(ite):\n",
    "#         x2 = (F - np.matmul(k_d,x)) / diagonal\n",
    "#         error =  max(abs((x2 - x)/x2) )\n",
    "#         if error < tol:\n",
    "#             print(f\"Erro máximo: {error}\")\n",
    "#             print(f\"Convergiu na iteração: {i}\")\n",
    "#             return x2\n",
    "        \n",
    "#         x = x2\n",
    "#     return x\n",
    "def jacobi(K,F,ite,tol):\n",
    "    if type(K) != list:\n",
    "        U = np.zeros((K.shape[0],1))\n",
    "        n = K.shape[0]\n",
    "    else:\n",
    "        U = np.zeros((len(K),1))\n",
    "        n = len(K)\n",
    "    U_ = U.copy()\n",
    "    count = 0\n",
    "    while count < ite:\n",
    "        for i in range(n):\n",
    "            U_[i][0] = F[i]\n",
    "            for j in range(n):\n",
    "                if j != i:\n",
    "                    U_[i][0] -= K[i][j] * U[j][0]\n",
    "            U_[i][0] /= K[i][i]\n",
    "\n",
    "        if 0 not in U:     # Cálculo do erro\n",
    "            ERROR_list = []\n",
    "            for i,j in zip(U_,U):\n",
    "                ERROR_list.append(abs((i-j)/j))\n",
    "            ERRO = max(ERROR_list)\n",
    "            if ERRO < tol:\n",
    "                print(\"Iterações: {0}\".format(count))\n",
    "                return U;\n",
    "        U = U_.copy() \n",
    "        count += 1\n",
    "    print(\"Iterações: {0}\".format(count))\n",
    "    return U;"
   ]
  },
  {
   "cell_type": "code",
   "execution_count": 116,
   "metadata": {},
   "outputs": [],
   "source": [
    "# def gauss_seidel(A, b, ite, tol):\n",
    "#     x = np.zeros_like(b, dtype=np.double)\n",
    "    \n",
    "#     #Iterate\n",
    "#     for k in range(ite):\n",
    "        \n",
    "#         x_old  = x.copy()\n",
    "        \n",
    "#         #Loop over rows\n",
    "#         for i in range(A.shape[0]):\n",
    "#             x[i] = (b[i] - np.dot(A[i,:i], x[:i]) - np.dot(A[i,(i+1):], x_old[(i+1):])) / A[i ,i]\n",
    "            \n",
    "#         #Stop condition \n",
    "#         if np.linalg.norm(x - x_old, ord=np.inf) / np.linalg.norm(x, ord=np.inf) < tol:\n",
    "#             break\n",
    "            \n",
    "#     return x\n",
    "def gauss_seidel(K,F,ite,tol):\n",
    "    if type(K) != list:\n",
    "        U = np.zeros((K.shape[0],1))\n",
    "        n = K.shape[0]\n",
    "    else:\n",
    "        U = np.zeros((len(K),1))\n",
    "        n = len(K)\n",
    "    U_ = U.copy()\n",
    "    count = 0\n",
    "    while count < ite:\n",
    "        for i in range(n):\n",
    "            U_[i][0] = F[i]\n",
    "            for j in range(n):\n",
    "                if j != i:\n",
    "                    U_[i][0] -= K[i][j] * U_[j][0]\n",
    "            U_[i][0] /= K[i][i]\n",
    "\n",
    "        if 0 not in U:     # Cálculo do erro\n",
    "            ERROR_list = []\n",
    "            for i,j in zip(U_,U):\n",
    "                ERROR_list.append(abs((i-j)/j))\n",
    "            ERRO = max(ERROR_list)\n",
    "            if ERRO < tol:\n",
    "                print(\"Iterações: {0}\".format(count))\n",
    "                return U;\n",
    "        U = U_.copy() \n",
    "        count += 1\n",
    "    print(\"Iterações: {0}\".format(count))\n",
    "    return U;"
   ]
  },
  {
   "cell_type": "markdown",
   "metadata": {},
   "source": [
    "___\n",
    "Utilizando Jacobi, Gauss-Seidel e a forma geral para cálculo da matriz **U**"
   ]
  },
  {
   "cell_type": "code",
   "execution_count": 117,
   "metadata": {},
   "outputs": [
    {
     "name": "stdout",
     "output_type": "stream",
     "text": [
      "Iterações: 1000\n",
      "Método Jacobi:\n",
      "Iterações: 1000\n",
      " 2.25177e+19  \n",
      "-2.39071e+19  \n",
      "-3.81839e+19  \n",
      " 2.63475e+19  \n",
      "-2.78353e+19  \n",
      " -2.3967e+19  \n",
      "-2.39305e+19  \n",
      " 1.67505e+19  \n",
      "-3.23831e+19  \n",
      " 2.39499e+19  \n",
      " 1.30973e+19  \n",
      " 9.40837e+17  \n",
      "-3.00518e+19  \n",
      " 4.57156e+19  \n",
      " 2.60726e+19  \n",
      " 2.69035e+19  \n",
      "-2.44453e+19  \n",
      " 2.22158e+19  \n",
      " 2.94736e+19  \n",
      " 3.99055e+19  \n",
      "-1.82767e+19  \n",
      " 7.15104e+18  \n",
      "Tempo: 0.38735130200007006\n"
     ]
    }
   ],
   "source": [
    "u_jacobi = jacobi(Kg_c, F_c, 1000, 1e-5)\n",
    "print(\"Método Jacobi:\")\n",
    "timer_start = perf_counter()\n",
    "matprint(jacobi(Kg_c, F_c,1000, 1e-5))\n",
    "print(\"Tempo: {0}\".format(perf_counter() - timer_start))"
   ]
  },
  {
   "cell_type": "code",
   "execution_count": 118,
   "metadata": {},
   "outputs": [
    {
     "name": "stdout",
     "output_type": "stream",
     "text": [
      "Iterações: 221\n",
      "Método Gauss-Seidel:\n",
      "Iterações: 221\n",
      " -9.0995e-06  \n",
      "-9.09952e-06  \n",
      "-4.44701e-05  \n",
      "-1.18712e-05  \n",
      "-0.000110106  \n",
      "-1.39491e-06  \n",
      "-0.000114503  \n",
      "-1.31581e-06  \n",
      "-5.33085e-05  \n",
      " -2.7745e-05  \n",
      " 1.14416e-05  \n",
      "-3.84232e-06  \n",
      " 1.27821e-05  \n",
      " -4.7864e-05  \n",
      " 5.43425e-06  \n",
      "-0.000111719  \n",
      "-1.55777e-05  \n",
      " -0.00011614  \n",
      "-2.58997e-05  \n",
      "-5.61576e-05  \n",
      "-2.89281e-05  \n",
      "-1.18297e-06  \n",
      "Tempo: 0.09178442699999323\n"
     ]
    }
   ],
   "source": [
    "u_gauss = gauss_seidel(Kg_c, F_c, 1000, 1e-5)\n",
    "print(\"Método Gauss-Seidel:\")\n",
    "timer_start = perf_counter()\n",
    "matprint(gauss_seidel(Kg_c, F_c, 1000, 1e-5))\n",
    "print(\"Tempo: {0}\".format(perf_counter() - timer_start))"
   ]
  },
  {
   "cell_type": "markdown",
   "metadata": {},
   "source": [
    "**Deslocamentos nodais**"
   ]
  },
  {
   "cell_type": "code",
   "execution_count": 119,
   "metadata": {},
   "outputs": [
    {
     "data": {
      "text/plain": [
       "array([-9.09983221e-06, -9.09983221e-06, -4.44710833e-05, -1.18716838e-05,\n",
       "       -1.10108548e-04, -1.39519814e-06, -1.14505448e-04, -1.31602108e-06,\n",
       "       -5.33100302e-05, -2.77459906e-05,  1.14417440e-05, -3.84238283e-06,\n",
       "        1.27822483e-05, -4.78650437e-05,  5.43421404e-06, -1.11721337e-04,\n",
       "       -1.55781529e-05, -1.16142316e-04, -2.59004982e-05, -5.61591883e-05,\n",
       "       -2.89289986e-05, -1.18300798e-06])"
      ]
     },
     "execution_count": 119,
     "metadata": {},
     "output_type": "execute_result"
    }
   ],
   "source": [
    "U_ar = np.linalg.solve(Kg_c, F_c)\n",
    "U_ar"
   ]
  },
  {
   "cell_type": "markdown",
   "metadata": {},
   "source": [
    "**Ajustando o tamanho das matrizes U**"
   ]
  },
  {
   "cell_type": "code",
   "execution_count": 120,
   "metadata": {},
   "outputs": [
    {
     "data": {
      "text/plain": [
       "array([[ 0.00000000e+00],\n",
       "       [ 0.00000000e+00],\n",
       "       [ 2.25176556e+19],\n",
       "       [ 0.00000000e+00],\n",
       "       [-2.39070949e+19],\n",
       "       [-3.81839479e+19],\n",
       "       [ 2.63475122e+19],\n",
       "       [-2.78353197e+19],\n",
       "       [-2.39669696e+19],\n",
       "       [-2.39305187e+19],\n",
       "       [ 1.67504967e+19],\n",
       "       [-3.23830736e+19],\n",
       "       [ 0.00000000e+00],\n",
       "       [ 0.00000000e+00],\n",
       "       [ 2.39498867e+19],\n",
       "       [ 0.00000000e+00],\n",
       "       [ 1.30973210e+19],\n",
       "       [ 9.40836581e+17],\n",
       "       [-3.00517968e+19],\n",
       "       [ 4.57156027e+19],\n",
       "       [ 2.60726185e+19],\n",
       "       [ 2.69034907e+19],\n",
       "       [-2.44453485e+19],\n",
       "       [ 2.22157947e+19],\n",
       "       [ 2.94735774e+19],\n",
       "       [ 3.99054856e+19],\n",
       "       [-1.82766655e+19],\n",
       "       [ 7.15103547e+18],\n",
       "       [ 0.00000000e+00],\n",
       "       [ 0.00000000e+00],\n",
       "       [ 0.00000000e+00],\n",
       "       [ 0.00000000e+00]])"
      ]
     },
     "execution_count": 120,
     "metadata": {},
     "output_type": "execute_result"
    }
   ],
   "source": [
    "u_jacobi_ajustado = np.zeros((nn*2,1))\n",
    "i = 0\n",
    "for e in range(len(u_jacobi_ajustado)):\n",
    "    if e not in R:\n",
    "        u_jacobi_ajustado[e] += u_jacobi[i]\n",
    "        i += 1\n",
    "u_jacobi_ajustado"
   ]
  },
  {
   "cell_type": "code",
   "execution_count": 121,
   "metadata": {},
   "outputs": [
    {
     "data": {
      "text/plain": [
       "array([[ 0.00000000e+00],\n",
       "       [ 0.00000000e+00],\n",
       "       [-9.09949948e-06],\n",
       "       [ 0.00000000e+00],\n",
       "       [-9.09951518e-06],\n",
       "       [-4.44700753e-05],\n",
       "       [-1.18712331e-05],\n",
       "       [-1.10106157e-04],\n",
       "       [-1.39491060e-06],\n",
       "       [-1.14502772e-04],\n",
       "       [-1.31580876e-06],\n",
       "       [-5.33084845e-05],\n",
       "       [ 0.00000000e+00],\n",
       "       [ 0.00000000e+00],\n",
       "       [-2.77450434e-05],\n",
       "       [ 0.00000000e+00],\n",
       "       [ 1.14415916e-05],\n",
       "       [-3.84232150e-06],\n",
       "       [ 1.27821256e-05],\n",
       "       [-4.78639753e-05],\n",
       "       [ 5.43425351e-06],\n",
       "       [-1.11719067e-04],\n",
       "       [-1.55776606e-05],\n",
       "       [-1.16139759e-04],\n",
       "       [-2.58997179e-05],\n",
       "       [-5.61575984e-05],\n",
       "       [-2.89280601e-05],\n",
       "       [-1.18297200e-06],\n",
       "       [ 0.00000000e+00],\n",
       "       [ 0.00000000e+00],\n",
       "       [ 0.00000000e+00],\n",
       "       [ 0.00000000e+00]])"
      ]
     },
     "execution_count": 121,
     "metadata": {},
     "output_type": "execute_result"
    }
   ],
   "source": [
    "u_gauss_ajustado = np.zeros((nn*2,1))\n",
    "i = 0\n",
    "for e in range(len(u_gauss_ajustado)):\n",
    "    if e not in R:\n",
    "        u_gauss_ajustado[e] += u_gauss[i]\n",
    "        i += 1\n",
    "u_gauss_ajustado"
   ]
  },
  {
   "cell_type": "code",
   "execution_count": 122,
   "metadata": {},
   "outputs": [
    {
     "name": "stdout",
     "output_type": "stream",
     "text": [
      "PRECISA SER MENOR QUE  0.02 m\n",
      "[1.27822483e-05]\n",
      "[0.00011614]\n"
     ]
    }
   ],
   "source": [
    "u = np.zeros((nn*2,1))\n",
    "i = 0\n",
    "for e in range(len(u)):\n",
    "    if e not in R:\n",
    "        u[e] += U_ar[i]\n",
    "        i += 1\n",
    "u\n",
    "print(\"PRECISA SER MENOR QUE \", 20e-3, \"m\")\n",
    "print(max(u))\n",
    "print(abs(min(u)))"
   ]
  },
  {
   "cell_type": "markdown",
   "metadata": {},
   "source": [
    "### Reações de apoio"
   ]
  },
  {
   "cell_type": "code",
   "execution_count": 123,
   "metadata": {
    "scrolled": false
   },
   "outputs": [
    {
     "data": {
      "text/plain": [
       "array([[-2.14942392e+01],\n",
       "       [-2.14942392e+01],\n",
       "       [ 0.00000000e+00],\n",
       "       [ 3.07390626e+01],\n",
       "       [ 0.00000000e+00],\n",
       "       [-3.10862447e-14],\n",
       "       [ 1.13686838e-13],\n",
       "       [-1.06581410e-13],\n",
       "       [-1.42108547e-14],\n",
       "       [-1.27897692e-13],\n",
       "       [ 0.00000000e+00],\n",
       "       [-9.23705556e-14],\n",
       "       [ 6.58010539e+00],\n",
       "       [ 9.46406384e+00],\n",
       "       [ 3.99680289e-15],\n",
       "       [-1.77635684e-15],\n",
       "       [-2.84217094e-14],\n",
       "       [-3.10862447e-14],\n",
       "       [-2.84217094e-14],\n",
       "       [-2.84217094e-14],\n",
       "       [ 0.00000000e+00],\n",
       "       [-7.50000000e+01],\n",
       "       [-2.84217094e-14],\n",
       "       [-7.50000000e+01],\n",
       "       [-1.27897692e-13],\n",
       "       [ 1.77635684e-13],\n",
       "       [ 2.84217094e-14],\n",
       "       [ 4.26325641e-14],\n",
       "       [ 1.12489957e+02],\n",
       "       [ 7.03062231e+01],\n",
       "       [-9.75758233e+01],\n",
       "       [ 6.09848895e+01]])"
      ]
     },
     "execution_count": 123,
     "metadata": {},
     "output_type": "execute_result"
    }
   ],
   "source": [
    "P = np.matmul(Kg,u)\n",
    "P"
   ]
  },
  {
   "cell_type": "code",
   "execution_count": 124,
   "metadata": {
    "scrolled": true
   },
   "outputs": [
    {
     "data": {
      "text/plain": [
       "array([[-2.14942392e+01],\n",
       "       [-2.14942392e+01],\n",
       "       [ 3.07390626e+01],\n",
       "       [ 1.12489957e+02],\n",
       "       [ 7.03062231e+01],\n",
       "       [ 6.58010539e+00],\n",
       "       [ 9.46406384e+00],\n",
       "       [-1.77635684e-15],\n",
       "       [-9.75758233e+01],\n",
       "       [ 6.09848895e+01]])"
      ]
     },
     "execution_count": 124,
     "metadata": {},
     "output_type": "execute_result"
    }
   ],
   "source": [
    "P_r = np.zeros((nr,1))\n",
    "for i in range(nr):  \n",
    "    index = int(R[i])\n",
    "    P_r[i] = P[index]    \n",
    "P_r"
   ]
  },
  {
   "cell_type": "markdown",
   "metadata": {},
   "source": [
    "### Deformações, Tenões e Forças internas"
   ]
  },
  {
   "cell_type": "code",
   "execution_count": null,
   "metadata": {},
   "outputs": [],
   "source": []
  },
  {
   "cell_type": "code",
   "execution_count": 125,
   "metadata": {},
   "outputs": [
    {
     "name": "stdout",
     "output_type": "stream",
     "text": [
      "L0 = 0.08\n",
      "L1 = 0.07999999999999999\n",
      "L2 = 0.07999999999999999\n",
      "L3 = 0.08000000000000002\n",
      "L4 = 0.08000000000000002\n",
      "L5 = 0.08\n",
      "L6 = 0.07999999999999999\n",
      "L7 = 0.07999999999999999\n",
      "L8 = 0.08000000000000002\n",
      "L9 = 0.08000000000000002\n",
      "L10 = 0.07071067811865477\n",
      "L11 = 0.09433981132056604\n",
      "L12 = 0.09433981132056603\n",
      "L13 = 0.09433981132056603\n",
      "L14 = 0.09433981132056606\n",
      "L15 = 0.09433981132056606\n",
      "L16 = 0.07071067811865475\n",
      "L17 = 0.09433981132056604\n",
      "L18 = 0.09433981132056606\n",
      "L19 = 0.05\n",
      "L20 = 0.05\n",
      "L21 = 0.05\n",
      "L22 = 0.05\n",
      "L23 = 0.05\n",
      "L24 = 0.05\n",
      "L25 = 0.09433981132056603\n",
      "L26 = 0.09433981132056603\n",
      "L27 = 0.09433981132056606\n",
      "Massa = 0.18527269100876384\n"
     ]
    }
   ],
   "source": [
    "deformacoes=[]\n",
    "tensoes=[]\n",
    "forcas=[]\n",
    "massa=0\n",
    "for i in range (nm):\n",
    "        \n",
    "    matriz = [\n",
    "            u[(int(Inc[i, 0])-1)*2], \n",
    "            u[(int(Inc[i, 0])-1)*2 +1], \n",
    "            u[(int(Inc[i, 1])-1)*2], \n",
    "            u[int(Inc[i, 1]-1)*2 +1]\n",
    "    ]\n",
    "    \n",
    "    x1 = N[0][int(Inc[:,0][i])-1]\n",
    "    y1 = N[1][int(Inc[:,0][i])-1]\n",
    "    x2 = N[0][int(Inc[:,1][i])-1]\n",
    "    y2 = N[1][int(Inc[:,1][i])-1]    \n",
    "    \n",
    "    L = math.sqrt(((x1-x2)**2+(y1-y2)**2))  \n",
    "    print(f\"L{i} = {L}\")\n",
    "    E =  Inc[i, 2]\n",
    "    #A = 1e-4\n",
    "    A = Inc[i,3]\n",
    "    const = E*A/L\n",
    "    \n",
    "    massa += L*A*848\n",
    "    \n",
    "    s = (y2-y1)/L\n",
    "    c = (x2-x1)/L\n",
    "    \n",
    "    C = [-c, -s, c, s]\n",
    "\n",
    "    deformacao = (1/L) * np.matmul(C, matriz)\n",
    "    tensao = deformacao*E\n",
    "    forca=tensao*A\n",
    "    \n",
    "    deformacoes.append(deformacao)\n",
    "    tensoes.append(tensao)\n",
    "    forcas.append(forca)\n",
    "\n",
    "print(f\"Massa = {massa}\")"
   ]
  },
  {
   "cell_type": "code",
   "execution_count": 126,
   "metadata": {},
   "outputs": [
    {
     "name": "stdout",
     "output_type": "stream",
     "text": [
      "MENOR QUE 0.0004 (0.008 * 0.05)\n",
      "[0.00013096]\n",
      "[0.00033163]\n"
     ]
    }
   ],
   "source": [
    "deformacoes\n",
    "print(\"MENOR QUE\",4e-4,\"(0.008 * 0.05)\")\n",
    "print(max(deformacoes))\n",
    "print(abs(min(deformacoes)))"
   ]
  },
  {
   "cell_type": "code",
   "execution_count": 127,
   "metadata": {},
   "outputs": [
    {
     "name": "stdout",
     "output_type": "stream",
     "text": [
      "MENOR QUE 18000000.0 Pa\n",
      "[523824.28049445]\n",
      "[1326535.165322]\n"
     ]
    }
   ],
   "source": [
    "tensoes\n",
    "print(\"MENOR QUE\", 18e6, \"Pa\")\n",
    "print(max(tensoes))\n",
    "print(abs(min(tensoes)))"
   ]
  },
  {
   "cell_type": "code",
   "execution_count": 128,
   "metadata": {},
   "outputs": [
    {
     "data": {
      "text/plain": [
       "[array([0.]),\n",
       " array([-13.85925772]),\n",
       " array([52.38242805]),\n",
       " array([0.39588532]),\n",
       " array([6.58010539]),\n",
       " array([6.70252161]),\n",
       " array([-36.7401712]),\n",
       " array([-105.0618346]),\n",
       " array([-51.61172649]),\n",
       " array([-15.14250214]),\n",
       " array([30.39744453]),\n",
       " array([17.44309803]),\n",
       " array([-98.86692153]),\n",
       " array([-18.2987611]),\n",
       " array([-89.9165726]),\n",
       " array([17.85675994]),\n",
       " array([0.]),\n",
       " array([-132.65351653]),\n",
       " array([-115.06605947]),\n",
       " array([-30.73906262]),\n",
       " array([-27.151683]),\n",
       " array([-12.9023124]),\n",
       " array([-13.09494123]),\n",
       " array([-22.79326522]),\n",
       " array([-9.46406384]),\n",
       " array([-26.88565868]),\n",
       " array([51.22969303]),\n",
       " array([43.0062468])]"
      ]
     },
     "execution_count": 128,
     "metadata": {},
     "output_type": "execute_result"
    }
   ],
   "source": [
    "forcas"
   ]
  },
  {
   "cell_type": "markdown",
   "metadata": {},
   "source": [
    "___\n",
    "**Gerando Saídas com as 3 matrizes U calculadas anteriormente**"
   ]
  },
  {
   "cell_type": "code",
   "execution_count": 129,
   "metadata": {},
   "outputs": [],
   "source": [
    "x = geraSaida(\"geral\", P_r, u, deformacoes, forcas, tensoes)"
   ]
  },
  {
   "cell_type": "code",
   "execution_count": 130,
   "metadata": {},
   "outputs": [],
   "source": [
    "geraSaida(\"jacobi\", P_r, u_jacobi_ajustado, deformacoes, forcas, tensoes)"
   ]
  },
  {
   "cell_type": "code",
   "execution_count": 131,
   "metadata": {},
   "outputs": [],
   "source": [
    "geraSaida(\"gauss\", P_r, u_gauss_ajustado, deformacoes, forcas, tensoes)"
   ]
  },
  {
   "cell_type": "code",
   "execution_count": null,
   "metadata": {},
   "outputs": [],
   "source": []
  },
  {
   "cell_type": "code",
   "execution_count": null,
   "metadata": {},
   "outputs": [],
   "source": []
  },
  {
   "cell_type": "code",
   "execution_count": null,
   "metadata": {},
   "outputs": [],
   "source": []
  }
 ],
 "metadata": {
  "kernelspec": {
   "display_name": "Python 3",
   "language": "python",
   "name": "python3"
  },
  "language_info": {
   "codemirror_mode": {
    "name": "ipython",
    "version": 3
   },
   "file_extension": ".py",
   "mimetype": "text/x-python",
   "name": "python",
   "nbconvert_exporter": "python",
   "pygments_lexer": "ipython3",
   "version": "3.8.5"
  }
 },
 "nbformat": 4,
 "nbformat_minor": 2
}
